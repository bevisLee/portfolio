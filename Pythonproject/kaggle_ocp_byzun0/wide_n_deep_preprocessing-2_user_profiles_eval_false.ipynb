{
 "cells": [
  {
   "cell_type": "code",
   "execution_count": 8,
   "metadata": {},
   "outputs": [
    {
     "data": {
      "text/html": [
       "\n",
       "          <script src=\"/static/components/requirejs/require.js\"></script>\n",
       "          <script>\n",
       "            requirejs.config({\n",
       "              paths: {\n",
       "                base: '/static/base',\n",
       "              },\n",
       "            });\n",
       "          </script>\n",
       "          "
      ],
      "text/plain": [
       "<IPython.core.display.HTML object>"
      ]
     },
     "metadata": {},
     "output_type": "display_data"
    }
   ],
   "source": [
    "OUTPUT_BUCKET_FOLDER = \"gs://kaggle-ocp-data/output/\"\n",
    "DATA_BUCKET_FOLDER = \"gs://kaggle-ocp-data/data/\""
   ]
  },
  {
   "cell_type": "code",
   "execution_count": 9,
   "metadata": {},
   "outputs": [
    {
     "data": {
      "text/html": [
       "\n",
       "          <script src=\"/static/components/requirejs/require.js\"></script>\n",
       "          <script>\n",
       "            requirejs.config({\n",
       "              paths: {\n",
       "                base: '/static/base',\n",
       "              },\n",
       "            });\n",
       "          </script>\n",
       "          "
      ],
      "text/plain": [
       "<IPython.core.display.HTML object>"
      ]
     },
     "metadata": {},
     "output_type": "display_data"
    }
   ],
   "source": [
    "from IPython.display import display\n",
    "from pyspark.sql.types import *\n",
    "import pyspark.sql.functions as F\n",
    "from pyspark.sql import DataFrameWriter\n",
    "import numpy as np\n",
    "import math\n",
    "import datetime\n",
    "import time\n",
    "import pandas as pd"
   ]
  },
  {
   "cell_type": "code",
   "execution_count": 10,
   "metadata": {},
   "outputs": [
    {
     "data": {
      "text/html": [
       "\n",
       "          <script src=\"/static/components/requirejs/require.js\"></script>\n",
       "          <script>\n",
       "            requirejs.config({\n",
       "              paths: {\n",
       "                base: '/static/base',\n",
       "              },\n",
       "            });\n",
       "          </script>\n",
       "          "
      ],
      "text/plain": [
       "<IPython.core.display.HTML object>"
      ]
     },
     "metadata": {},
     "output_type": "display_data"
    }
   ],
   "source": [
    "import random\n",
    "random.seed(42)"
   ]
  },
  {
   "cell_type": "markdown",
   "metadata": {},
   "source": [
    "# Loading data"
   ]
  },
  {
   "cell_type": "markdown",
   "metadata": {},
   "source": [
    "# documents"
   ]
  },
  {
   "cell_type": "code",
   "execution_count": 11,
   "metadata": {},
   "outputs": [
    {
     "data": {
      "text/html": [
       "\n",
       "          <script src=\"/static/components/requirejs/require.js\"></script>\n",
       "          <script>\n",
       "            requirejs.config({\n",
       "              paths: {\n",
       "                base: '/static/base',\n",
       "              },\n",
       "            });\n",
       "          </script>\n",
       "          "
      ],
      "text/plain": [
       "<IPython.core.display.HTML object>"
      ]
     },
     "metadata": {},
     "output_type": "display_data"
    }
   ],
   "source": [
    "documents_meta_schema = StructType(\n",
    "                    [StructField(\"document_id_doc\", IntegerType(), True),\n",
    "                    StructField(\"source_id\", IntegerType(), True),                    \n",
    "                    StructField(\"publisher_id\", IntegerType(), True),\n",
    "                    StructField(\"publish_time\", TimestampType(), True)]\n",
    "                    )\n",
    "\n",
    "documents_meta_df = spark.read.schema(documents_meta_schema).options(header='true', inferschema='false', nullValue='\\\\N') \\\n",
    "                .csv(DATA_BUCKET_FOLDER+\"documents_meta.csv\") \\\n",
    "                .withColumn('dummyDocumentsMeta', F.lit(1)).alias('documents_meta')"
   ]
  },
  {
   "cell_type": "code",
   "execution_count": 12,
   "metadata": {},
   "outputs": [
    {
     "data": {
      "text/html": [
       "\n",
       "          <script src=\"/static/components/requirejs/require.js\"></script>\n",
       "          <script>\n",
       "            requirejs.config({\n",
       "              paths: {\n",
       "                base: '/static/base',\n",
       "              },\n",
       "            });\n",
       "          </script>\n",
       "          "
      ],
      "text/plain": [
       "<IPython.core.display.HTML object>"
      ]
     },
     "metadata": {},
     "output_type": "display_data"
    },
    {
     "name": "stdout",
     "output_type": "stream",
     "text": [
      "(2999334, 5)\n"
     ]
    }
   ],
   "source": [
    "print((documents_meta_df.count(), len(documents_meta_df.columns)))"
   ]
  },
  {
   "cell_type": "code",
   "execution_count": 13,
   "metadata": {},
   "outputs": [
    {
     "data": {
      "text/html": [
       "\n",
       "          <script src=\"/static/components/requirejs/require.js\"></script>\n",
       "          <script>\n",
       "            requirejs.config({\n",
       "              paths: {\n",
       "                base: '/static/base',\n",
       "              },\n",
       "            });\n",
       "          </script>\n",
       "          "
      ],
      "text/plain": [
       "<IPython.core.display.HTML object>"
      ]
     },
     "metadata": {},
     "output_type": "display_data"
    },
    {
     "name": "stdout",
     "output_type": "stream",
     "text": [
      "+---------------+---------+------------+--------------------+------------------+\n",
      "|document_id_doc|source_id|publisher_id|        publish_time|dummyDocumentsMeta|\n",
      "+---------------+---------+------------+--------------------+------------------+\n",
      "|        1595802|        1|         603|2016-06-05 00:00:...|                 1|\n",
      "|        1524246|        1|         603|2016-05-26 11:00:...|                 1|\n",
      "|        1617787|        1|         603|2016-05-27 00:00:...|                 1|\n",
      "|        1615583|        1|         603|2016-06-07 00:00:...|                 1|\n",
      "|        1615460|        1|         603|2016-06-20 00:00:...|                 1|\n",
      "|        1615354|        1|         603|2016-06-10 00:00:...|                 1|\n",
      "|        1614611|        1|         603|2016-06-05 13:00:...|                 1|\n",
      "|        1614235|        1|         603|2016-06-09 00:00:...|                 1|\n",
      "|        1614225|        1|         603|2016-06-09 00:00:...|                 1|\n",
      "|        1488264|        1|         603|2016-05-23 13:00:...|                 1|\n",
      "+---------------+---------+------------+--------------------+------------------+\n",
      "only showing top 10 rows\n",
      "\n"
     ]
    }
   ],
   "source": [
    "documents_meta_df.show(10)"
   ]
  },
  {
   "cell_type": "code",
   "execution_count": 14,
   "metadata": {},
   "outputs": [
    {
     "data": {
      "text/html": [
       "\n",
       "          <script src=\"/static/components/requirejs/require.js\"></script>\n",
       "          <script>\n",
       "            requirejs.config({\n",
       "              paths: {\n",
       "                base: '/static/base',\n",
       "              },\n",
       "            });\n",
       "          </script>\n",
       "          "
      ],
      "text/plain": [
       "<IPython.core.display.HTML object>"
      ]
     },
     "metadata": {},
     "output_type": "display_data"
    },
    {
     "name": "stdout",
     "output_type": "stream",
     "text": [
      "+------------------+-------+\n",
      "|dummyDocumentsMeta|  count|\n",
      "+------------------+-------+\n",
      "|                 1|2999334|\n",
      "+------------------+-------+\n",
      "\n"
     ]
    }
   ],
   "source": [
    "documents_meta_df.groupBy('dummyDocumentsMeta').count().show()"
   ]
  },
  {
   "cell_type": "code",
   "execution_count": 15,
   "metadata": {},
   "outputs": [
    {
     "data": {
      "text/html": [
       "\n",
       "          <script src=\"/static/components/requirejs/require.js\"></script>\n",
       "          <script>\n",
       "            requirejs.config({\n",
       "              paths: {\n",
       "                base: '/static/base',\n",
       "              },\n",
       "            });\n",
       "          </script>\n",
       "          "
      ],
      "text/plain": [
       "<IPython.core.display.HTML object>"
      ]
     },
     "metadata": {},
     "output_type": "display_data"
    }
   ],
   "source": [
    "documents_categories_schema = StructType(\n",
    "                    [StructField(\"document_id_cat\", IntegerType(), True),\n",
    "                    StructField(\"category_id\", IntegerType(), True),                    \n",
    "                    StructField(\"confidence_level_cat\", FloatType(), True)]\n",
    "                    )\n",
    "\n",
    "documents_categories_df = spark.read.schema(documents_categories_schema).options(header='true', inferschema='false', nullValue='\\\\N') \\\n",
    "                .csv(DATA_BUCKET_FOLDER+\"documents_categories.csv\") \\\n",
    "                .alias('documents_categories')"
   ]
  },
  {
   "cell_type": "code",
   "execution_count": 16,
   "metadata": {},
   "outputs": [
    {
     "data": {
      "text/html": [
       "\n",
       "          <script src=\"/static/components/requirejs/require.js\"></script>\n",
       "          <script>\n",
       "            requirejs.config({\n",
       "              paths: {\n",
       "                base: '/static/base',\n",
       "              },\n",
       "            });\n",
       "          </script>\n",
       "          "
      ],
      "text/plain": [
       "<IPython.core.display.HTML object>"
      ]
     },
     "metadata": {},
     "output_type": "display_data"
    },
    {
     "name": "stdout",
     "output_type": "stream",
     "text": [
      "(5481475, 3)\n"
     ]
    }
   ],
   "source": [
    "print((documents_categories_df.count(), len(documents_categories_df.columns)))"
   ]
  },
  {
   "cell_type": "code",
   "execution_count": 17,
   "metadata": {},
   "outputs": [
    {
     "data": {
      "text/html": [
       "\n",
       "          <script src=\"/static/components/requirejs/require.js\"></script>\n",
       "          <script>\n",
       "            requirejs.config({\n",
       "              paths: {\n",
       "                base: '/static/base',\n",
       "              },\n",
       "            });\n",
       "          </script>\n",
       "          "
      ],
      "text/plain": [
       "<IPython.core.display.HTML object>"
      ]
     },
     "metadata": {},
     "output_type": "display_data"
    },
    {
     "name": "stdout",
     "output_type": "stream",
     "text": [
      "+---------------+-----------+--------------------+\n",
      "|document_id_cat|category_id|confidence_level_cat|\n",
      "+---------------+-----------+--------------------+\n",
      "|        1595802|       1611|                0.92|\n",
      "|        1595802|       1610|                0.07|\n",
      "|        1524246|       1807|                0.92|\n",
      "|        1524246|       1608|                0.07|\n",
      "|        1617787|       1807|                0.92|\n",
      "|        1617787|       1608|                0.07|\n",
      "|        1615583|       1305|                0.92|\n",
      "|        1615583|       1806|                0.07|\n",
      "|        1615460|       1613|           0.5406464|\n",
      "|        1615460|       1603|          0.04113614|\n",
      "+---------------+-----------+--------------------+\n",
      "only showing top 10 rows\n",
      "\n"
     ]
    }
   ],
   "source": [
    "documents_categories_df.show(10)"
   ]
  },
  {
   "cell_type": "code",
   "execution_count": 18,
   "metadata": {},
   "outputs": [
    {
     "data": {
      "text/html": [
       "\n",
       "          <script src=\"/static/components/requirejs/require.js\"></script>\n",
       "          <script>\n",
       "            requirejs.config({\n",
       "              paths: {\n",
       "                base: '/static/base',\n",
       "              },\n",
       "            });\n",
       "          </script>\n",
       "          "
      ],
      "text/plain": [
       "<IPython.core.display.HTML object>"
      ]
     },
     "metadata": {},
     "output_type": "display_data"
    }
   ],
   "source": [
    "documents_categories_grouped_df = documents_categories_df.groupBy('document_id_cat') \\\n",
    "                                            .agg(F.collect_list('category_id').alias('category_id_list'),\n",
    "                                                 F.collect_list('confidence_level_cat').alias('cat_confidence_level_list')) \\\n",
    "                                            .withColumn('dummyDocumentsCategory', F.lit(1)) \\\n",
    "                                            .alias('documents_categories_grouped')"
   ]
  },
  {
   "cell_type": "code",
   "execution_count": 19,
   "metadata": {},
   "outputs": [
    {
     "data": {
      "text/html": [
       "\n",
       "          <script src=\"/static/components/requirejs/require.js\"></script>\n",
       "          <script>\n",
       "            requirejs.config({\n",
       "              paths: {\n",
       "                base: '/static/base',\n",
       "              },\n",
       "            });\n",
       "          </script>\n",
       "          "
      ],
      "text/plain": [
       "<IPython.core.display.HTML object>"
      ]
     },
     "metadata": {},
     "output_type": "display_data"
    },
    {
     "name": "stdout",
     "output_type": "stream",
     "text": [
      "(2828649, 4)\n"
     ]
    }
   ],
   "source": [
    "print((documents_categories_grouped_df.count(), len(documents_categories_grouped_df.columns)))"
   ]
  },
  {
   "cell_type": "code",
   "execution_count": 20,
   "metadata": {},
   "outputs": [
    {
     "data": {
      "text/html": [
       "\n",
       "          <script src=\"/static/components/requirejs/require.js\"></script>\n",
       "          <script>\n",
       "            requirejs.config({\n",
       "              paths: {\n",
       "                base: '/static/base',\n",
       "              },\n",
       "            });\n",
       "          </script>\n",
       "          "
      ],
      "text/plain": [
       "<IPython.core.display.HTML object>"
      ]
     },
     "metadata": {},
     "output_type": "display_data"
    },
    {
     "name": "stdout",
     "output_type": "stream",
     "text": [
      "+---------------+----------------+-------------------------+----------------------+\n",
      "|document_id_cat|category_id_list|cat_confidence_level_list|dummyDocumentsCategory|\n",
      "+---------------+----------------+-------------------------+----------------------+\n",
      "|            148|    [1403, 1702]|             [0.92, 0.07]|                     1|\n",
      "|            463|    [1513, 1808]|     [0.8932095, 0.067...|                     1|\n",
      "|            471|    [1504, 1609]|             [0.92, 0.07]|                     1|\n",
      "|            496|    [1210, 1203]|             [0.92, 0.07]|                     1|\n",
      "|            833|    [1305, 2004]|             [0.92, 0.07]|                     1|\n",
      "|           1088|    [2006, 1210]|     [0.8364613, 0.063...|                     1|\n",
      "|           1238|    [1100, 1407]|     [0.34836665, 0.02...|                     1|\n",
      "|           1342|    [1408, 2004]|     [0.42835742, 0.03...|                     1|\n",
      "|           1580|    [1403, 1402]|     [0.65625566, 0.04...|                     1|\n",
      "|           1591|    [1608, 1603]|     [0.35500738, 0.02...|                     1|\n",
      "+---------------+----------------+-------------------------+----------------------+\n",
      "only showing top 10 rows\n",
      "\n"
     ]
    }
   ],
   "source": [
    "documents_categories_grouped_df.show(10)"
   ]
  },
  {
   "cell_type": "code",
   "execution_count": 21,
   "metadata": {},
   "outputs": [
    {
     "data": {
      "text/html": [
       "\n",
       "          <script src=\"/static/components/requirejs/require.js\"></script>\n",
       "          <script>\n",
       "            requirejs.config({\n",
       "              paths: {\n",
       "                base: '/static/base',\n",
       "              },\n",
       "            });\n",
       "          </script>\n",
       "          "
      ],
      "text/plain": [
       "<IPython.core.display.HTML object>"
      ]
     },
     "metadata": {},
     "output_type": "display_data"
    },
    {
     "name": "stdout",
     "output_type": "stream",
     "text": [
      "+----------------------+-------+\n",
      "|dummyDocumentsCategory|count  |\n",
      "+----------------------+-------+\n",
      "|1                     |2828649|\n",
      "+----------------------+-------+\n",
      "\n"
     ]
    }
   ],
   "source": [
    "documents_categories_grouped_df.groupBy('dummyDocumentsCategory').count().show(20, False)"
   ]
  },
  {
   "cell_type": "code",
   "execution_count": 22,
   "metadata": {},
   "outputs": [
    {
     "data": {
      "text/html": [
       "\n",
       "          <script src=\"/static/components/requirejs/require.js\"></script>\n",
       "          <script>\n",
       "            requirejs.config({\n",
       "              paths: {\n",
       "                base: '/static/base',\n",
       "              },\n",
       "            });\n",
       "          </script>\n",
       "          "
      ],
      "text/plain": [
       "<IPython.core.display.HTML object>"
      ]
     },
     "metadata": {},
     "output_type": "display_data"
    }
   ],
   "source": [
    "documents_topics_schema = StructType(\n",
    "                    [StructField(\"document_id_top\", IntegerType(), True),\n",
    "                    StructField(\"topic_id\", IntegerType(), True),                    \n",
    "                    StructField(\"confidence_level_top\", FloatType(), True)]\n",
    "                    )\n",
    "\n",
    "documents_topics_df = spark.read.schema(documents_topics_schema).options(header='true', inferschema='false', nullValue='\\\\N') \\\n",
    "                .csv(DATA_BUCKET_FOLDER+\"documents_topics.csv\")  \\\n",
    "                .alias('documents_topics')\n",
    "    \n",
    "documents_topics_grouped_df = documents_topics_df.groupBy('document_id_top') \\\n",
    "                                            .agg(F.collect_list('topic_id').alias('topic_id_list'),\n",
    "                                                 F.collect_list('confidence_level_top').alias('top_confidence_level_list')) \\\n",
    "                                            .withColumn('dummyDocumentsTopics', F.lit(1)) \\\n",
    "                                            .alias('documents_topics_grouped')"
   ]
  },
  {
   "cell_type": "code",
   "execution_count": 23,
   "metadata": {},
   "outputs": [
    {
     "data": {
      "text/html": [
       "\n",
       "          <script src=\"/static/components/requirejs/require.js\"></script>\n",
       "          <script>\n",
       "            requirejs.config({\n",
       "              paths: {\n",
       "                base: '/static/base',\n",
       "              },\n",
       "            });\n",
       "          </script>\n",
       "          "
      ],
      "text/plain": [
       "<IPython.core.display.HTML object>"
      ]
     },
     "metadata": {},
     "output_type": "display_data"
    },
    {
     "name": "stdout",
     "output_type": "stream",
     "text": [
      "(11325960, 3)\n"
     ]
    }
   ],
   "source": [
    "print((documents_topics_df.count(), len(documents_topics_df.columns)))"
   ]
  },
  {
   "cell_type": "code",
   "execution_count": 24,
   "metadata": {},
   "outputs": [
    {
     "data": {
      "text/html": [
       "\n",
       "          <script src=\"/static/components/requirejs/require.js\"></script>\n",
       "          <script>\n",
       "            requirejs.config({\n",
       "              paths: {\n",
       "                base: '/static/base',\n",
       "              },\n",
       "            });\n",
       "          </script>\n",
       "          "
      ],
      "text/plain": [
       "<IPython.core.display.HTML object>"
      ]
     },
     "metadata": {},
     "output_type": "display_data"
    },
    {
     "name": "stdout",
     "output_type": "stream",
     "text": [
      "+---------------+--------+--------------------+\n",
      "|document_id_top|topic_id|confidence_level_top|\n",
      "+---------------+--------+--------------------+\n",
      "|        1595802|     140|          0.07311316|\n",
      "|        1595802|      16|         0.059416488|\n",
      "|        1595802|     143|         0.045420755|\n",
      "|        1595802|     170|          0.03886743|\n",
      "|        1524246|     113|           0.1964504|\n",
      "|        1524246|     260|          0.14287816|\n",
      "|        1524246|      92|          0.03315913|\n",
      "|        1524246|     168|        0.0140903415|\n",
      "|        1524246|      54|          0.00878222|\n",
      "|        1524246|     207|         0.008282372|\n",
      "+---------------+--------+--------------------+\n",
      "only showing top 10 rows\n",
      "\n"
     ]
    }
   ],
   "source": [
    "documents_topics_df.show(10)"
   ]
  },
  {
   "cell_type": "code",
   "execution_count": 25,
   "metadata": {},
   "outputs": [
    {
     "data": {
      "text/html": [
       "\n",
       "          <script src=\"/static/components/requirejs/require.js\"></script>\n",
       "          <script>\n",
       "            requirejs.config({\n",
       "              paths: {\n",
       "                base: '/static/base',\n",
       "              },\n",
       "            });\n",
       "          </script>\n",
       "          "
      ],
      "text/plain": [
       "<IPython.core.display.HTML object>"
      ]
     },
     "metadata": {},
     "output_type": "display_data"
    }
   ],
   "source": [
    "documents_topics_grouped_df = documents_topics_df.groupBy('document_id_top') \\\n",
    "                                            .agg(F.collect_list('topic_id').alias('topic_id_list'),\n",
    "                                                 F.collect_list('confidence_level_top').alias('top_confidence_level_list')) \\\n",
    "                                            .withColumn('dummyDocumentsTopics', F.lit(1)) \\\n",
    "                                            .alias('documents_topics_grouped')"
   ]
  },
  {
   "cell_type": "code",
   "execution_count": 26,
   "metadata": {},
   "outputs": [
    {
     "data": {
      "text/html": [
       "\n",
       "          <script src=\"/static/components/requirejs/require.js\"></script>\n",
       "          <script>\n",
       "            requirejs.config({\n",
       "              paths: {\n",
       "                base: '/static/base',\n",
       "              },\n",
       "            });\n",
       "          </script>\n",
       "          "
      ],
      "text/plain": [
       "<IPython.core.display.HTML object>"
      ]
     },
     "metadata": {},
     "output_type": "display_data"
    },
    {
     "name": "stdout",
     "output_type": "stream",
     "text": [
      "(2495423, 4)\n"
     ]
    }
   ],
   "source": [
    "print((documents_topics_grouped_df.count(), len(documents_topics_grouped_df.columns)))"
   ]
  },
  {
   "cell_type": "code",
   "execution_count": 27,
   "metadata": {},
   "outputs": [
    {
     "data": {
      "text/html": [
       "\n",
       "          <script src=\"/static/components/requirejs/require.js\"></script>\n",
       "          <script>\n",
       "            requirejs.config({\n",
       "              paths: {\n",
       "                base: '/static/base',\n",
       "              },\n",
       "            });\n",
       "          </script>\n",
       "          "
      ],
      "text/plain": [
       "<IPython.core.display.HTML object>"
      ]
     },
     "metadata": {},
     "output_type": "display_data"
    },
    {
     "name": "stdout",
     "output_type": "stream",
     "text": [
      "+---------------+--------------------+-------------------------+--------------------+\n",
      "|document_id_top|       topic_id_list|top_confidence_level_list|dummyDocumentsTopics|\n",
      "+---------------+--------------------+-------------------------+--------------------+\n",
      "|            148|[153, 140, 8, 172...|     [0.07523697, 0.07...|                   1|\n",
      "|            463|[181, 292, 24, 25...|     [0.11870128, 0.05...|                   1|\n",
      "|            471|[285, 238, 153, 193]|     [0.15588789, 0.04...|                   1|\n",
      "|            496|[244, 294, 196, 1...|     [0.18284231, 0.11...|                   1|\n",
      "|            833|[294, 89, 174, 86...|     [0.11430275, 0.04...|                   1|\n",
      "|           1088|[107, 75, 153, 64...|     [0.10822894, 0.06...|                   1|\n",
      "|           1238| [89, 221, 192, 236]|     [0.023348164, 0.0...|                   1|\n",
      "|           1342|[271, 283, 181, 2...|     [0.0457309, 0.025...|                   1|\n",
      "|           1580|[8, 37, 136, 12, ...|     [0.08965496, 0.03...|                   1|\n",
      "|           1591|               [260]|              [0.0628404]|                   1|\n",
      "+---------------+--------------------+-------------------------+--------------------+\n",
      "only showing top 10 rows\n",
      "\n"
     ]
    }
   ],
   "source": [
    "documents_topics_grouped_df.show(10)"
   ]
  },
  {
   "cell_type": "code",
   "execution_count": 28,
   "metadata": {},
   "outputs": [
    {
     "data": {
      "text/html": [
       "\n",
       "          <script src=\"/static/components/requirejs/require.js\"></script>\n",
       "          <script>\n",
       "            requirejs.config({\n",
       "              paths: {\n",
       "                base: '/static/base',\n",
       "              },\n",
       "            });\n",
       "          </script>\n",
       "          "
      ],
      "text/plain": [
       "<IPython.core.display.HTML object>"
      ]
     },
     "metadata": {},
     "output_type": "display_data"
    },
    {
     "name": "stdout",
     "output_type": "stream",
     "text": [
      "+--------------------+-------+\n",
      "|dummyDocumentsTopics|count  |\n",
      "+--------------------+-------+\n",
      "|1                   |2495423|\n",
      "+--------------------+-------+\n",
      "\n"
     ]
    }
   ],
   "source": [
    "documents_topics_grouped_df.groupBy('dummyDocumentsTopics').count().show(20, False)"
   ]
  },
  {
   "cell_type": "code",
   "execution_count": 29,
   "metadata": {},
   "outputs": [
    {
     "data": {
      "text/html": [
       "\n",
       "          <script src=\"/static/components/requirejs/require.js\"></script>\n",
       "          <script>\n",
       "            requirejs.config({\n",
       "              paths: {\n",
       "                base: '/static/base',\n",
       "              },\n",
       "            });\n",
       "          </script>\n",
       "          "
      ],
      "text/plain": [
       "<IPython.core.display.HTML object>"
      ]
     },
     "metadata": {},
     "output_type": "display_data"
    }
   ],
   "source": [
    "documents_entities_schema = StructType(\n",
    "                    [StructField(\"document_id_ent\", IntegerType(), True),\n",
    "                    StructField(\"entity_id\", StringType(), True),                    \n",
    "                    StructField(\"confidence_level_ent\", FloatType(), True)]\n",
    "                    )\n",
    "\n",
    "documents_entities_df = spark.read.schema(documents_entities_schema).options(header='true', inferschema='false', nullValue='\\\\N') \\\n",
    "                .csv(DATA_BUCKET_FOLDER+\"documents_entities.csv\")  \\\n",
    "                .alias('documents_entities')"
   ]
  },
  {
   "cell_type": "code",
   "execution_count": 30,
   "metadata": {},
   "outputs": [
    {
     "data": {
      "text/html": [
       "\n",
       "          <script src=\"/static/components/requirejs/require.js\"></script>\n",
       "          <script>\n",
       "            requirejs.config({\n",
       "              paths: {\n",
       "                base: '/static/base',\n",
       "              },\n",
       "            });\n",
       "          </script>\n",
       "          "
      ],
      "text/plain": [
       "<IPython.core.display.HTML object>"
      ]
     },
     "metadata": {},
     "output_type": "display_data"
    },
    {
     "name": "stdout",
     "output_type": "stream",
     "text": [
      "(5537552, 3)\n"
     ]
    }
   ],
   "source": [
    "print((documents_entities_df.count(), len(documents_entities_df.columns)))"
   ]
  },
  {
   "cell_type": "code",
   "execution_count": 31,
   "metadata": {},
   "outputs": [
    {
     "data": {
      "text/html": [
       "\n",
       "          <script src=\"/static/components/requirejs/require.js\"></script>\n",
       "          <script>\n",
       "            requirejs.config({\n",
       "              paths: {\n",
       "                base: '/static/base',\n",
       "              },\n",
       "            });\n",
       "          </script>\n",
       "          "
      ],
      "text/plain": [
       "<IPython.core.display.HTML object>"
      ]
     },
     "metadata": {},
     "output_type": "display_data"
    },
    {
     "name": "stdout",
     "output_type": "stream",
     "text": [
      "+---------------+--------------------+--------------------+\n",
      "|document_id_ent|           entity_id|confidence_level_ent|\n",
      "+---------------+--------------------+--------------------+\n",
      "|        1524246|f9eec25663db4cd83...|          0.67286533|\n",
      "|        1524246|55ebcfbdaff1d6f60...|           0.3991137|\n",
      "|        1524246|839907a972930b17b...|          0.39209574|\n",
      "|        1524246|04d8f9a1ad48f126d...|          0.21399638|\n",
      "|        1617787|612a1d17685a498af...|          0.38619283|\n",
      "|        1617787|fb8c6cb0879e0de87...|          0.36411646|\n",
      "|        1617787|793c6a6cf386edb82...|          0.34916824|\n",
      "|        1617787|b525b84d5ed52a345...|          0.28700453|\n",
      "|        1617787|758cb9cb3014607cb...|          0.23795699|\n",
      "|        1617787|d523aaba6d3916f8b...|          0.23579852|\n",
      "+---------------+--------------------+--------------------+\n",
      "only showing top 10 rows\n",
      "\n"
     ]
    }
   ],
   "source": [
    "documents_entities_df.show(10)"
   ]
  },
  {
   "cell_type": "code",
   "execution_count": 32,
   "metadata": {},
   "outputs": [
    {
     "data": {
      "text/html": [
       "\n",
       "          <script src=\"/static/components/requirejs/require.js\"></script>\n",
       "          <script>\n",
       "            requirejs.config({\n",
       "              paths: {\n",
       "                base: '/static/base',\n",
       "              },\n",
       "            });\n",
       "          </script>\n",
       "          "
      ],
      "text/plain": [
       "<IPython.core.display.HTML object>"
      ]
     },
     "metadata": {},
     "output_type": "display_data"
    }
   ],
   "source": [
    "documents_entities_grouped_df = documents_entities_df.groupBy('document_id_ent') \\\n",
    "                                            .agg(F.collect_list('entity_id').alias('entity_id_list'),\n",
    "                                                 F.collect_list('confidence_level_ent').alias('ent_confidence_level_list')) \\\n",
    "                                            .withColumn('dummyDocumentsEntities', F.lit(1)) \\\n",
    "                                            .alias('documents_entities_grouped')"
   ]
  },
  {
   "cell_type": "code",
   "execution_count": 33,
   "metadata": {},
   "outputs": [
    {
     "data": {
      "text/html": [
       "\n",
       "          <script src=\"/static/components/requirejs/require.js\"></script>\n",
       "          <script>\n",
       "            requirejs.config({\n",
       "              paths: {\n",
       "                base: '/static/base',\n",
       "              },\n",
       "            });\n",
       "          </script>\n",
       "          "
      ],
      "text/plain": [
       "<IPython.core.display.HTML object>"
      ]
     },
     "metadata": {},
     "output_type": "display_data"
    },
    {
     "name": "stdout",
     "output_type": "stream",
     "text": [
      "(1791420, 4)\n"
     ]
    }
   ],
   "source": [
    "print((documents_entities_grouped_df.count(), len(documents_entities_grouped_df.columns)))"
   ]
  },
  {
   "cell_type": "code",
   "execution_count": 34,
   "metadata": {},
   "outputs": [
    {
     "data": {
      "text/html": [
       "\n",
       "          <script src=\"/static/components/requirejs/require.js\"></script>\n",
       "          <script>\n",
       "            requirejs.config({\n",
       "              paths: {\n",
       "                base: '/static/base',\n",
       "              },\n",
       "            });\n",
       "          </script>\n",
       "          "
      ],
      "text/plain": [
       "<IPython.core.display.HTML object>"
      ]
     },
     "metadata": {},
     "output_type": "display_data"
    },
    {
     "name": "stdout",
     "output_type": "stream",
     "text": [
      "+---------------+--------------------+-------------------------+----------------------+\n",
      "|document_id_ent|      entity_id_list|ent_confidence_level_list|dummyDocumentsEntities|\n",
      "+---------------+--------------------+-------------------------+----------------------+\n",
      "|            148|[e1c74838563ef5d2...|     [0.6320258, 0.404...|                     1|\n",
      "|            463|[aaa0246895d43735...|              [0.6939791]|                     1|\n",
      "|            496|[0ffa5e294bd46905...|              [0.3608937]|                     1|\n",
      "|            833|[430da13f06eed7d5...|     [0.5932388, 0.240...|                     1|\n",
      "|           1088|[94101adfc2f6bccb...|              [0.9564353]|                     1|\n",
      "|           1580|[86b630e436676e43...|     [0.92001617, 0.44...|                     1|\n",
      "|           1645|[976e5e062b216f23...|     [0.66670954, 0.61...|                     1|\n",
      "|           1959|[806f6ef8cca7644d...|             [0.31478134]|                     1|\n",
      "|           2122|[bad3651e69ae382f...|     [0.6577534, 0.419...|                     1|\n",
      "|           2142|[75652dea0dbaeee4...|     [0.9794568, 0.693...|                     1|\n",
      "+---------------+--------------------+-------------------------+----------------------+\n",
      "only showing top 10 rows\n",
      "\n"
     ]
    }
   ],
   "source": [
    "documents_entities_grouped_df.show(10)"
   ]
  },
  {
   "cell_type": "code",
   "execution_count": 35,
   "metadata": {},
   "outputs": [
    {
     "data": {
      "text/html": [
       "\n",
       "          <script src=\"/static/components/requirejs/require.js\"></script>\n",
       "          <script>\n",
       "            requirejs.config({\n",
       "              paths: {\n",
       "                base: '/static/base',\n",
       "              },\n",
       "            });\n",
       "          </script>\n",
       "          "
      ],
      "text/plain": [
       "<IPython.core.display.HTML object>"
      ]
     },
     "metadata": {},
     "output_type": "display_data"
    },
    {
     "name": "stdout",
     "output_type": "stream",
     "text": [
      "+----------------------+-------+\n",
      "|dummyDocumentsEntities|count  |\n",
      "+----------------------+-------+\n",
      "|1                     |1791420|\n",
      "+----------------------+-------+\n",
      "\n"
     ]
    }
   ],
   "source": [
    "documents_entities_grouped_df.groupBy('dummyDocumentsEntities').count().show(20, False)"
   ]
  },
  {
   "cell_type": "code",
   "execution_count": 36,
   "metadata": {},
   "outputs": [
    {
     "data": {
      "text/html": [
       "\n",
       "          <script src=\"/static/components/requirejs/require.js\"></script>\n",
       "          <script>\n",
       "            requirejs.config({\n",
       "              paths: {\n",
       "                base: '/static/base',\n",
       "              },\n",
       "            });\n",
       "          </script>\n",
       "          "
      ],
      "text/plain": [
       "<IPython.core.display.HTML object>"
      ]
     },
     "metadata": {},
     "output_type": "display_data"
    }
   ],
   "source": [
    "documents_df = documents_meta_df.join(documents_categories_grouped_df, on=F.col(\"document_id_doc\") == F.col(\"documents_categories_grouped.document_id_cat\"), how='left') \\\n",
    "                         .join(documents_topics_grouped_df, on=F.col(\"document_id_doc\") == F.col(\"documents_topics_grouped.document_id_top\"), how='left') \\\n",
    "                         .join(documents_entities_grouped_df, on=F.col(\"document_id_doc\") == F.col(\"documents_entities_grouped.document_id_ent\"), how='left') \\\n",
    "                         .cache()"
   ]
  },
  {
   "cell_type": "code",
   "execution_count": 37,
   "metadata": {},
   "outputs": [
    {
     "data": {
      "text/html": [
       "\n",
       "          <script src=\"/static/components/requirejs/require.js\"></script>\n",
       "          <script>\n",
       "            requirejs.config({\n",
       "              paths: {\n",
       "                base: '/static/base',\n",
       "              },\n",
       "            });\n",
       "          </script>\n",
       "          "
      ],
      "text/plain": [
       "<IPython.core.display.HTML object>"
      ]
     },
     "metadata": {},
     "output_type": "display_data"
    },
    {
     "name": "stdout",
     "output_type": "stream",
     "text": [
      "(2999334, 17)\n"
     ]
    }
   ],
   "source": [
    "print((documents_df.count(), len(documents_df.columns)))"
   ]
  },
  {
   "cell_type": "code",
   "execution_count": 86,
   "metadata": {},
   "outputs": [
    {
     "data": {
      "text/html": [
       "\n",
       "          <script src=\"/static/components/requirejs/require.js\"></script>\n",
       "          <script>\n",
       "            requirejs.config({\n",
       "              paths: {\n",
       "                base: '/static/base',\n",
       "              },\n",
       "            });\n",
       "          </script>\n",
       "          "
      ],
      "text/plain": [
       "<IPython.core.display.HTML object>"
      ]
     },
     "metadata": {},
     "output_type": "display_data"
    },
    {
     "data": {
      "text/plain": [
       "[Row(document_id_doc=148, source_id=1787, publisher_id=118, publish_time=datetime.datetime(2008, 7, 1, 0, 0), dummyDocumentsMeta=1, document_id_cat=148, category_id_list=[1403, 1702], cat_confidence_level_list=[0.9200000166893005, 0.07000000029802322], dummyDocumentsCategory=1, document_id_top=148, topic_id_list=[153, 140, 8, 172, 244, 179, 36, 2, 64, 10, 216], top_confidence_level_list=[0.0752369686961174, 0.0719832107424736, 0.06108427047729492, 0.042060330510139465, 0.03971264883875847, 0.03684856742620468, 0.030745454132556915, 0.026049140840768814, 0.01605464331805706, 0.010918059386312962, 0.008370612747967243], dummyDocumentsTopics=1, document_id_ent=148, entity_id_list=[u'e1c74838563ef5d205063b0d95afa414', u'6fd68f102042c6554cb2592fae942264', u'ae3de5466bfa10459eebcbe02ac9b3ee', u'9da9595caa381755c9353ae7179f2117', u'b973c2e55831fb4025003e0259aa820f', u'6eb92e281e46d463ce80317efd785d68', u'c323569535ca4c3d2ce474f4d825cc80', u'daf2f4c9cd8dbf10482f06200e613939'], ent_confidence_level_list=[0.6320257782936096, 0.4049091041088104, 0.2763647139072418, 0.2726665735244751, 0.26643022894859314, 0.25995519757270813, 0.2214961051940918, 0.21287654340267181], dummyDocumentsEntities=1),\n",
       " Row(document_id_doc=463, source_id=166, publisher_id=642, publish_time=datetime.datetime(2008, 12, 9, 19, 0), dummyDocumentsMeta=1, document_id_cat=463, category_id_list=[1513, 1808], cat_confidence_level_list=[0.8932095170021057, 0.06796159595251083], dummyDocumentsCategory=1, document_id_top=463, topic_id_list=[181, 292, 24, 254, 167], top_confidence_level_list=[0.1187012791633606, 0.05149438977241516, 0.04749272018671036, 0.021316789090633392, 0.008210956119000912], dummyDocumentsTopics=1, document_id_ent=463, entity_id_list=[u'aaa0246895d43735390fea55fe34f636'], ent_confidence_level_list=[0.6939790844917297], dummyDocumentsEntities=1),\n",
       " Row(document_id_doc=471, source_id=83, publisher_id=118, publish_time=datetime.datetime(2008, 12, 8, 0, 0), dummyDocumentsMeta=1, document_id_cat=471, category_id_list=[1504, 1609], cat_confidence_level_list=[0.9200000166893005, 0.07000000029802322], dummyDocumentsCategory=1, document_id_top=471, topic_id_list=[285, 238, 153, 193], top_confidence_level_list=[0.1558878868818283, 0.04518508538603783, 0.027956940233707428, 0.00979736726731062], dummyDocumentsTopics=1, document_id_ent=None, entity_id_list=None, ent_confidence_level_list=None, dummyDocumentsEntities=None),\n",
       " Row(document_id_doc=496, source_id=2186, publisher_id=184, publish_time=datetime.datetime(2008, 12, 29, 18, 0), dummyDocumentsMeta=1, document_id_cat=496, category_id_list=[1210, 1203], cat_confidence_level_list=[0.9200000166893005, 0.07000000029802322], dummyDocumentsCategory=1, document_id_top=496, topic_id_list=[244, 294, 196, 102, 20, 264, 26], top_confidence_level_list=[0.18284231424331665, 0.11121013760566711, 0.08889701962471008, 0.07357509434223175, 0.026512252166867256, 0.021491916850209236, 0.015829386189579964], dummyDocumentsTopics=1, document_id_ent=496, entity_id_list=[u'0ffa5e294bd469059732da8acf5c7612'], ent_confidence_level_list=[0.36089369654655457], dummyDocumentsEntities=1),\n",
       " Row(document_id_doc=833, source_id=121, publisher_id=655, publish_time=datetime.datetime(2009, 4, 7, 11, 0), dummyDocumentsMeta=1, document_id_cat=833, category_id_list=[1305, 2004], cat_confidence_level_list=[0.9200000166893005, 0.07000000029802322], dummyDocumentsCategory=1, document_id_top=833, topic_id_list=[294, 89, 174, 86, 264, 279, 231], top_confidence_level_list=[0.11430274695158005, 0.049739353358745575, 0.04270634427666664, 0.03174028918147087, 0.015896059572696686, 0.01583706960082054, 0.013157138600945473], dummyDocumentsTopics=1, document_id_ent=833, entity_id_list=[u'430da13f06eed7d5fbeb71e089d0d1d6', u'2160495c4591749dc6796d162fcb9f19'], ent_confidence_level_list=[0.5932387709617615, 0.240012988448143], dummyDocumentsEntities=1),\n",
       " Row(document_id_doc=1088, source_id=2186, publisher_id=184, publish_time=datetime.datetime(2009, 5, 25, 14, 0), dummyDocumentsMeta=1, document_id_cat=1088, category_id_list=[2006, 1210], cat_confidence_level_list=[0.8364613056182861, 0.06364379823207855], dummyDocumentsCategory=1, document_id_top=1088, topic_id_list=[107, 75, 153, 64, 94], top_confidence_level_list=[0.10822893679141998, 0.06852854788303375, 0.03063196688890457, 0.013057194650173187, 0.010935612954199314], dummyDocumentsTopics=1, document_id_ent=1088, entity_id_list=[u'94101adfc2f6bccba21ccd48fcd0efe2'], ent_confidence_level_list=[0.9564353227615356], dummyDocumentsEntities=1),\n",
       " Row(document_id_doc=1238, source_id=3233, publisher_id=202, publish_time=datetime.datetime(2007, 5, 10, 0, 0), dummyDocumentsMeta=1, document_id_cat=1238, category_id_list=[1100, 1407], cat_confidence_level_list=[0.3483666479587555, 0.026506157591938972], dummyDocumentsCategory=1, document_id_top=1238, topic_id_list=[89, 221, 192, 236], top_confidence_level_list=[0.023348163813352585, 0.014387463219463825, 0.009628573432564735, 0.009417240507900715], dummyDocumentsTopics=1, document_id_ent=None, entity_id_list=None, ent_confidence_level_list=None, dummyDocumentsEntities=None),\n",
       " Row(document_id_doc=1342, source_id=475, publisher_id=937, publish_time=datetime.datetime(2015, 1, 1, 0, 0), dummyDocumentsMeta=1, document_id_cat=1342, category_id_list=[1408, 2004], cat_confidence_level_list=[0.42835742235183716, 0.03259241208434105], dummyDocumentsCategory=1, document_id_top=1342, topic_id_list=[271, 283, 181, 225, 198, 234], top_confidence_level_list=[0.04573090001940727, 0.02532009780406952, 0.012121617794036865, 0.009574255906045437, 0.009129123762249947, 0.008289709687232971], dummyDocumentsTopics=1, document_id_ent=None, entity_id_list=None, ent_confidence_level_list=None, dummyDocumentsEntities=None),\n",
       " Row(document_id_doc=1580, source_id=2902, publisher_id=56, publish_time=datetime.datetime(2009, 7, 24, 20, 0), dummyDocumentsMeta=1, document_id_cat=1580, category_id_list=[1403, 1402], cat_confidence_level_list=[0.6562556624412537, 0.04993249848484993], dummyDocumentsCategory=1, document_id_top=1580, topic_id_list=[8, 37, 136, 12, 160, 130], top_confidence_level_list=[0.08965495973825455, 0.03835849091410637, 0.027658356353640556, 0.01393493264913559, 0.009977547451853752, 0.008384043350815773], dummyDocumentsTopics=1, document_id_ent=1580, entity_id_list=[u'86b630e436676e4386a143b7b4efc7c2', u'c4382eb622a9c91f8c506eb1df7e7294', u'64ebcc9a49f1f3dde60fcf1e8e0832ab', u'709cc8e80886e2783504e214e65ec3b6'], ent_confidence_level_list=[0.9200161695480347, 0.4493226408958435, 0.39516326785087585, 0.26549777388572693], dummyDocumentsEntities=1),\n",
       " Row(document_id_doc=1591, source_id=2589, publisher_id=202, publish_time=datetime.datetime(2009, 6, 1, 0, 0), dummyDocumentsMeta=1, document_id_cat=1591, category_id_list=[1608, 1603], cat_confidence_level_list=[0.3550073802471161, 0.027011431753635406], dummyDocumentsCategory=1, document_id_top=1591, topic_id_list=[260], top_confidence_level_list=[0.06284040212631226], dummyDocumentsTopics=1, document_id_ent=None, entity_id_list=None, ent_confidence_level_list=None, dummyDocumentsEntities=None)]"
      ]
     },
     "execution_count": 86,
     "metadata": {},
     "output_type": "execute_result"
    }
   ],
   "source": [
    "documents_df.take(10)"
   ]
  },
  {
   "cell_type": "markdown",
   "metadata": {},
   "source": [
    "# Processing document frequencies"
   ]
  },
  {
   "cell_type": "code",
   "execution_count": 39,
   "metadata": {},
   "outputs": [
    {
     "data": {
      "text/html": [
       "\n",
       "          <script src=\"/static/components/requirejs/require.js\"></script>\n",
       "          <script>\n",
       "            requirejs.config({\n",
       "              paths: {\n",
       "                base: '/static/base',\n",
       "              },\n",
       "            });\n",
       "          </script>\n",
       "          "
      ],
      "text/plain": [
       "<IPython.core.display.HTML object>"
      ]
     },
     "metadata": {},
     "output_type": "display_data"
    }
   ],
   "source": [
    "import pickle"
   ]
  },
  {
   "cell_type": "code",
   "execution_count": 40,
   "metadata": {},
   "outputs": [
    {
     "data": {
      "text/html": [
       "\n",
       "          <script src=\"/static/components/requirejs/require.js\"></script>\n",
       "          <script>\n",
       "            requirejs.config({\n",
       "              paths: {\n",
       "                base: '/static/base',\n",
       "              },\n",
       "            });\n",
       "          </script>\n",
       "          "
      ],
      "text/plain": [
       "<IPython.core.display.HTML object>"
      ]
     },
     "metadata": {},
     "output_type": "display_data"
    },
    {
     "data": {
      "text/plain": [
       "2999334"
      ]
     },
     "execution_count": 40,
     "metadata": {},
     "output_type": "execute_result"
    }
   ],
   "source": [
    "documents_total = documents_meta_df.count()\n",
    "documents_total"
   ]
  },
  {
   "cell_type": "code",
   "execution_count": 41,
   "metadata": {},
   "outputs": [
    {
     "data": {
      "text/html": [
       "\n",
       "          <script src=\"/static/components/requirejs/require.js\"></script>\n",
       "          <script>\n",
       "            requirejs.config({\n",
       "              paths: {\n",
       "                base: '/static/base',\n",
       "              },\n",
       "            });\n",
       "          </script>\n",
       "          "
      ],
      "text/plain": [
       "<IPython.core.display.HTML object>"
      ]
     },
     "metadata": {},
     "output_type": "display_data"
    },
    {
     "data": {
      "text/plain": [
       "97"
      ]
     },
     "execution_count": 41,
     "metadata": {},
     "output_type": "execute_result"
    }
   ],
   "source": [
    "categories_docs_counts = documents_categories_df.groupBy('category_id').count().rdd.collectAsMap()\n",
    "len(categories_docs_counts)"
   ]
  },
  {
   "cell_type": "code",
   "execution_count": 42,
   "metadata": {},
   "outputs": [
    {
     "data": {
      "text/html": [
       "\n",
       "          <script src=\"/static/components/requirejs/require.js\"></script>\n",
       "          <script>\n",
       "            requirejs.config({\n",
       "              paths: {\n",
       "                base: '/static/base',\n",
       "              },\n",
       "            });\n",
       "          </script>\n",
       "          "
      ],
      "text/plain": [
       "<IPython.core.display.HTML object>"
      ]
     },
     "metadata": {},
     "output_type": "display_data"
    },
    {
     "data": {
      "text/plain": [
       "{1000: 5074,\n",
       " 1100: 212249,\n",
       " 1200: 7,\n",
       " 1202: 3259,\n",
       " 1203: 30511,\n",
       " 1204: 8258,\n",
       " 1205: 103539,\n",
       " 1206: 7523,\n",
       " 1207: 28540,\n",
       " 1208: 3575,\n",
       " 1209: 34390,\n",
       " 1210: 51624,\n",
       " 1211: 4871,\n",
       " 1302: 29105,\n",
       " 1303: 14198,\n",
       " 1304: 6660,\n",
       " 1305: 5426,\n",
       " 1306: 13248,\n",
       " 1307: 1506,\n",
       " 1308: 473,\n",
       " 1400: 1,\n",
       " 1402: 54763,\n",
       " 1403: 572107,\n",
       " 1404: 30667,\n",
       " 1405: 64063,\n",
       " 1406: 54394,\n",
       " 1407: 124783,\n",
       " 1408: 155883,\n",
       " 1500: 2,\n",
       " 1502: 16262,\n",
       " 1503: 57335,\n",
       " 1504: 15084,\n",
       " 1505: 51339,\n",
       " 1506: 14846,\n",
       " 1507: 2569,\n",
       " 1509: 2941,\n",
       " 1510: 83877,\n",
       " 1511: 25254,\n",
       " 1512: 18502,\n",
       " 1513: 276203,\n",
       " 1514: 60131,\n",
       " 1515: 31992,\n",
       " 1516: 2454,\n",
       " 1600: 3,\n",
       " 1602: 74315,\n",
       " 1603: 77881,\n",
       " 1604: 67342,\n",
       " 1605: 2094,\n",
       " 1606: 32408,\n",
       " 1607: 25349,\n",
       " 1608: 57479,\n",
       " 1609: 63995,\n",
       " 1610: 49192,\n",
       " 1611: 50112,\n",
       " 1612: 32503,\n",
       " 1613: 44567,\n",
       " 1614: 9141,\n",
       " 1700: 1,\n",
       " 1702: 408499,\n",
       " 1703: 93883,\n",
       " 1704: 2861,\n",
       " 1705: 6553,\n",
       " 1706: 105170,\n",
       " 1707: 136830,\n",
       " 1708: 142908,\n",
       " 1709: 18922,\n",
       " 1710: 13242,\n",
       " 1711: 46729,\n",
       " 1800: 8,\n",
       " 1802: 7586,\n",
       " 1804: 3632,\n",
       " 1805: 40300,\n",
       " 1806: 68248,\n",
       " 1807: 43922,\n",
       " 1808: 241966,\n",
       " 1809: 44048,\n",
       " 1900: 5,\n",
       " 1902: 292878,\n",
       " 1903: 95015,\n",
       " 1904: 52084,\n",
       " 1905: 1448,\n",
       " 1907: 181345,\n",
       " 1908: 28912,\n",
       " 1909: 55729,\n",
       " 1910: 7885,\n",
       " 1911: 1465,\n",
       " 1912: 46717,\n",
       " 1913: 13463,\n",
       " 1914: 23453,\n",
       " 1915: 4835,\n",
       " 2000: 6,\n",
       " 2002: 14571,\n",
       " 2003: 53704,\n",
       " 2004: 159334,\n",
       " 2005: 4998,\n",
       " 2006: 27232,\n",
       " 2100: 125219}"
      ]
     },
     "execution_count": 42,
     "metadata": {},
     "output_type": "execute_result"
    }
   ],
   "source": [
    "categories_docs_counts"
   ]
  },
  {
   "cell_type": "code",
   "execution_count": 130,
   "metadata": {},
   "outputs": [
    {
     "data": {
      "text/html": [
       "\n",
       "          <script src=\"/static/components/requirejs/require.js\"></script>\n",
       "          <script>\n",
       "            requirejs.config({\n",
       "              paths: {\n",
       "                base: '/static/base',\n",
       "              },\n",
       "            });\n",
       "          </script>\n",
       "          "
      ],
      "text/plain": [
       "<IPython.core.display.HTML object>"
      ]
     },
     "metadata": {},
     "output_type": "display_data"
    }
   ],
   "source": [
    "with open('categories_docs_counts.pickle', 'wb') as output:\n",
    "    pickle.dump(categories_docs_counts, output)"
   ]
  },
  {
   "cell_type": "code",
   "execution_count": 43,
   "metadata": {},
   "outputs": [
    {
     "data": {
      "text/html": [
       "\n",
       "          <script src=\"/static/components/requirejs/require.js\"></script>\n",
       "          <script>\n",
       "            requirejs.config({\n",
       "              paths: {\n",
       "                base: '/static/base',\n",
       "              },\n",
       "            });\n",
       "          </script>\n",
       "          "
      ],
      "text/plain": [
       "<IPython.core.display.HTML object>"
      ]
     },
     "metadata": {},
     "output_type": "display_data"
    },
    {
     "data": {
      "text/plain": [
       "300"
      ]
     },
     "execution_count": 43,
     "metadata": {},
     "output_type": "execute_result"
    }
   ],
   "source": [
    "topics_docs_counts = documents_topics_df.groupBy('topic_id').count().rdd.collectAsMap()\n",
    "len(topics_docs_counts)"
   ]
  },
  {
   "cell_type": "code",
   "execution_count": 44,
   "metadata": {},
   "outputs": [
    {
     "data": {
      "text/html": [
       "\n",
       "          <script src=\"/static/components/requirejs/require.js\"></script>\n",
       "          <script>\n",
       "            requirejs.config({\n",
       "              paths: {\n",
       "                base: '/static/base',\n",
       "              },\n",
       "            });\n",
       "          </script>\n",
       "          "
      ],
      "text/plain": [
       "<IPython.core.display.HTML object>"
      ]
     },
     "metadata": {},
     "output_type": "display_data"
    },
    {
     "data": {
      "text/plain": [
       "{0: 17042,\n",
       " 1: 35067,\n",
       " 2: 32800,\n",
       " 3: 3957,\n",
       " 4: 7905,\n",
       " 5: 54970,\n",
       " 6: 24878,\n",
       " 7: 3378,\n",
       " 8: 139734,\n",
       " 9: 19063,\n",
       " 10: 83993,\n",
       " 11: 16735,\n",
       " 12: 6454,\n",
       " 13: 70234,\n",
       " 14: 2584,\n",
       " 15: 31150,\n",
       " 16: 268216,\n",
       " 17: 13493,\n",
       " 18: 5078,\n",
       " 19: 37158,\n",
       " 20: 226877,\n",
       " 21: 15124,\n",
       " 22: 6836,\n",
       " 23: 28440,\n",
       " 24: 106559,\n",
       " 25: 105219,\n",
       " 26: 91760,\n",
       " 27: 51659,\n",
       " 28: 3107,\n",
       " 29: 22201,\n",
       " 30: 3772,\n",
       " 31: 3017,\n",
       " 32: 86861,\n",
       " 33: 6893,\n",
       " 34: 2008,\n",
       " 35: 85100,\n",
       " 36: 80320,\n",
       " 37: 48967,\n",
       " 38: 8234,\n",
       " 39: 14574,\n",
       " 40: 2094,\n",
       " 41: 53463,\n",
       " 42: 24060,\n",
       " 43: 111586,\n",
       " 44: 35108,\n",
       " 45: 22712,\n",
       " 46: 32730,\n",
       " 47: 39577,\n",
       " 48: 7114,\n",
       " 49: 154783,\n",
       " 50: 3238,\n",
       " 51: 13000,\n",
       " 52: 35135,\n",
       " 53: 15796,\n",
       " 54: 18639,\n",
       " 55: 53509,\n",
       " 56: 20214,\n",
       " 57: 23935,\n",
       " 58: 4185,\n",
       " 59: 2959,\n",
       " 60: 13122,\n",
       " 61: 43365,\n",
       " 62: 62091,\n",
       " 63: 6731,\n",
       " 64: 44482,\n",
       " 65: 41630,\n",
       " 66: 81719,\n",
       " 67: 26683,\n",
       " 68: 39252,\n",
       " 69: 8072,\n",
       " 70: 4082,\n",
       " 71: 89300,\n",
       " 72: 24910,\n",
       " 73: 4936,\n",
       " 74: 92482,\n",
       " 75: 69990,\n",
       " 76: 3091,\n",
       " 77: 6872,\n",
       " 78: 9281,\n",
       " 79: 20152,\n",
       " 80: 10416,\n",
       " 81: 20203,\n",
       " 82: 50106,\n",
       " 83: 7748,\n",
       " 84: 84964,\n",
       " 85: 73545,\n",
       " 86: 23215,\n",
       " 87: 7777,\n",
       " 88: 2450,\n",
       " 89: 79114,\n",
       " 90: 12441,\n",
       " 91: 8832,\n",
       " 92: 98563,\n",
       " 93: 55907,\n",
       " 94: 79196,\n",
       " 95: 60234,\n",
       " 96: 12957,\n",
       " 97: 98549,\n",
       " 98: 5843,\n",
       " 99: 2477,\n",
       " 100: 83164,\n",
       " 101: 7948,\n",
       " 102: 68125,\n",
       " 103: 15323,\n",
       " 104: 14828,\n",
       " 105: 4428,\n",
       " 106: 11592,\n",
       " 107: 157643,\n",
       " 108: 42744,\n",
       " 109: 16113,\n",
       " 110: 22525,\n",
       " 111: 8172,\n",
       " 112: 82102,\n",
       " 113: 31561,\n",
       " 114: 3328,\n",
       " 115: 6539,\n",
       " 116: 10000,\n",
       " 117: 21826,\n",
       " 118: 10216,\n",
       " 119: 9700,\n",
       " 120: 4139,\n",
       " 121: 14802,\n",
       " 122: 1839,\n",
       " 123: 1866,\n",
       " 124: 11185,\n",
       " 125: 33080,\n",
       " 126: 5405,\n",
       " 127: 16582,\n",
       " 128: 9714,\n",
       " 129: 70608,\n",
       " 130: 31671,\n",
       " 131: 70859,\n",
       " 132: 18942,\n",
       " 133: 15777,\n",
       " 134: 39470,\n",
       " 135: 7859,\n",
       " 136: 124320,\n",
       " 137: 40259,\n",
       " 138: 28663,\n",
       " 139: 7693,\n",
       " 140: 195645,\n",
       " 141: 20782,\n",
       " 142: 22700,\n",
       " 143: 181260,\n",
       " 144: 13795,\n",
       " 145: 52769,\n",
       " 146: 5517,\n",
       " 147: 12642,\n",
       " 148: 50346,\n",
       " 149: 16339,\n",
       " 150: 69069,\n",
       " 151: 8214,\n",
       " 152: 9385,\n",
       " 153: 121627,\n",
       " 154: 11746,\n",
       " 155: 11629,\n",
       " 156: 15871,\n",
       " 157: 4427,\n",
       " 158: 3281,\n",
       " 159: 16824,\n",
       " 160: 121968,\n",
       " 161: 3868,\n",
       " 162: 25368,\n",
       " 163: 50322,\n",
       " 164: 9741,\n",
       " 165: 48546,\n",
       " 166: 10165,\n",
       " 167: 17383,\n",
       " 168: 72731,\n",
       " 169: 2817,\n",
       " 170: 43065,\n",
       " 171: 2694,\n",
       " 172: 52253,\n",
       " 173: 135951,\n",
       " 174: 87173,\n",
       " 175: 34280,\n",
       " 176: 61132,\n",
       " 177: 28929,\n",
       " 178: 4387,\n",
       " 179: 51194,\n",
       " 180: 9417,\n",
       " 181: 177946,\n",
       " 182: 7964,\n",
       " 183: 60368,\n",
       " 184: 256028,\n",
       " 185: 5102,\n",
       " 186: 38045,\n",
       " 187: 7881,\n",
       " 188: 3307,\n",
       " 189: 4727,\n",
       " 190: 15277,\n",
       " 191: 9212,\n",
       " 192: 85752,\n",
       " 193: 34219,\n",
       " 194: 74871,\n",
       " 195: 2574,\n",
       " 196: 72372,\n",
       " 197: 6494,\n",
       " 198: 65911,\n",
       " 199: 82815,\n",
       " 200: 41045,\n",
       " 201: 22583,\n",
       " 202: 71455,\n",
       " 203: 20660,\n",
       " 204: 20298,\n",
       " 205: 3745,\n",
       " 206: 9774,\n",
       " 207: 76395,\n",
       " 208: 15751,\n",
       " 209: 12224,\n",
       " 210: 3747,\n",
       " 211: 18189,\n",
       " 212: 3304,\n",
       " 213: 11440,\n",
       " 214: 34768,\n",
       " 215: 9532,\n",
       " 216: 123496,\n",
       " 217: 7439,\n",
       " 218: 2638,\n",
       " 219: 59046,\n",
       " 220: 3928,\n",
       " 221: 27990,\n",
       " 222: 4724,\n",
       " 223: 31559,\n",
       " 224: 9607,\n",
       " 225: 24211,\n",
       " 226: 30727,\n",
       " 227: 17637,\n",
       " 228: 12652,\n",
       " 229: 34576,\n",
       " 230: 28735,\n",
       " 231: 122104,\n",
       " 232: 48994,\n",
       " 233: 6210,\n",
       " 234: 17147,\n",
       " 235: 156856,\n",
       " 236: 2866,\n",
       " 237: 11254,\n",
       " 238: 41542,\n",
       " 239: 62744,\n",
       " 240: 6209,\n",
       " 241: 59593,\n",
       " 242: 11998,\n",
       " 243: 9043,\n",
       " 244: 73319,\n",
       " 245: 2492,\n",
       " 246: 4495,\n",
       " 247: 74704,\n",
       " 248: 44123,\n",
       " 249: 102675,\n",
       " 250: 57058,\n",
       " 251: 1929,\n",
       " 252: 95091,\n",
       " 253: 3498,\n",
       " 254: 95615,\n",
       " 255: 7446,\n",
       " 256: 8312,\n",
       " 257: 5637,\n",
       " 258: 120182,\n",
       " 259: 29410,\n",
       " 260: 91576,\n",
       " 261: 4631,\n",
       " 262: 50938,\n",
       " 263: 5153,\n",
       " 264: 37909,\n",
       " 265: 101952,\n",
       " 266: 9856,\n",
       " 267: 11262,\n",
       " 268: 10031,\n",
       " 269: 65995,\n",
       " 270: 33027,\n",
       " 271: 58950,\n",
       " 272: 3704,\n",
       " 273: 2799,\n",
       " 274: 17483,\n",
       " 275: 18437,\n",
       " 276: 40804,\n",
       " 277: 5414,\n",
       " 278: 3636,\n",
       " 279: 36809,\n",
       " 280: 5348,\n",
       " 281: 39535,\n",
       " 282: 8924,\n",
       " 283: 42326,\n",
       " 284: 12885,\n",
       " 285: 62396,\n",
       " 286: 44732,\n",
       " 287: 26952,\n",
       " 288: 1883,\n",
       " 289: 5544,\n",
       " 290: 62522,\n",
       " 291: 49140,\n",
       " 292: 77779,\n",
       " 293: 1717,\n",
       " 294: 92037,\n",
       " 295: 12078,\n",
       " 296: 81468,\n",
       " 297: 54956,\n",
       " 298: 8149,\n",
       " 299: 6041}"
      ]
     },
     "execution_count": 44,
     "metadata": {},
     "output_type": "execute_result"
    }
   ],
   "source": [
    "topics_docs_counts"
   ]
  },
  {
   "cell_type": "code",
   "execution_count": 133,
   "metadata": {},
   "outputs": [
    {
     "data": {
      "text/html": [
       "\n",
       "          <script src=\"/static/components/requirejs/require.js\"></script>\n",
       "          <script>\n",
       "            requirejs.config({\n",
       "              paths: {\n",
       "                base: '/static/base',\n",
       "              },\n",
       "            });\n",
       "          </script>\n",
       "          "
      ],
      "text/plain": [
       "<IPython.core.display.HTML object>"
      ]
     },
     "metadata": {},
     "output_type": "display_data"
    }
   ],
   "source": [
    "with open('topics_docs_counts.pickle', 'wb') as output:\n",
    "    pickle.dump(topics_docs_counts, output)"
   ]
  },
  {
   "cell_type": "code",
   "execution_count": 45,
   "metadata": {},
   "outputs": [
    {
     "data": {
      "text/html": [
       "\n",
       "          <script src=\"/static/components/requirejs/require.js\"></script>\n",
       "          <script>\n",
       "            requirejs.config({\n",
       "              paths: {\n",
       "                base: '/static/base',\n",
       "              },\n",
       "            });\n",
       "          </script>\n",
       "          "
      ],
      "text/plain": [
       "<IPython.core.display.HTML object>"
      ]
     },
     "metadata": {},
     "output_type": "display_data"
    },
    {
     "data": {
      "text/plain": [
       "1326009"
      ]
     },
     "execution_count": 45,
     "metadata": {},
     "output_type": "execute_result"
    }
   ],
   "source": [
    "entities_docs_counts = documents_entities_df.groupBy('entity_id').count().rdd.collectAsMap()\n",
    "len(entities_docs_counts)"
   ]
  },
  {
   "cell_type": "code",
   "execution_count": 46,
   "metadata": {},
   "outputs": [
    {
     "data": {
      "text/html": [
       "\n",
       "          <script src=\"/static/components/requirejs/require.js\"></script>\n",
       "          <script>\n",
       "            requirejs.config({\n",
       "              paths: {\n",
       "                base: '/static/base',\n",
       "              },\n",
       "            });\n",
       "          </script>\n",
       "          "
      ],
      "text/plain": [
       "<IPython.core.display.HTML object>"
      ]
     },
     "metadata": {},
     "output_type": "display_data"
    },
    {
     "data": {
      "text/plain": [
       "{u'72f364c8af13913d19bd803a3584228c': 3,\n",
       " u'87c8054997888824c9a2fd446b8568c9': 1,\n",
       " u'c5b15375624f83017b24f53a09883a3b': 32,\n",
       " u'cd9a81360ff3e85545806c1f4b61932a': 1,\n",
       " u'61e6c101e169f084ff8badb2846856ee': 1,\n",
       " u'1e35fc7b6ee074f40fd49367744b00d6': 1,\n",
       " u'9720e325b33b74c4845588d9e6c3f3ff': 1,\n",
       " u'68f1f97c2601c7ff8cc8926976d0a2d7': 1,\n",
       " u'e758b2e0d801c21374fa51fff05f71f2': 1,\n",
       " u'e16386fe525e35a42948435561305e15': 1,\n",
       " u'aa3c449e5a76852d3d2563874a291e9d': 1,\n",
       " u'4cf05b5925fd0cdad4cf2a8a70529cca': 1,\n",
       " u'188655ad1013803e0c02e9a66f39f4b5': 2,\n",
       " u'e554756d7b63d2a6a85f743c0c3f0ba4': 13,\n",
       " u'97947be1d6c1e353b413ed3c8a73aada': 4,\n",
       " u'f31427427c327fc0d6546dd437416ede': 1,\n",
       " u'6abcda7ba336150e016bc95f2124cd9d': 1,\n",
       " u'cc15f8705ca1d4e3eb4236ff1765cf73': 1,\n",
       " u'e2f5f5452114ec01e8c6fef1df39c933': 1,\n",
       " u'463497856abaa7ed163e82c84fee970e': 1,\n",
       " u'393841ef0412ebe937d2318a91ceb012': 1,\n",
       " u'da4fce03b68cc140a0dff1c3418ff2ca': 1,\n",
       " u'5d58f18fb0ba8b0267d23693da746cff': 1,\n",
       " u'442f2ef42b4c621c161aae89cce0a23a': 1,\n",
       " u'383dbeb4f515ad71e65b82de4d13669c': 1,\n",
       " u'b4ab235eafecba9fc42b85a4a7e24b0f': 1,\n",
       " u'dbc0bfbc8d04f83db6c7ac8b700d024d': 1,\n",
       " u'66453fe7ae731b3e18c24c9e94b9ef76': 1,\n",
       " u'c24d5254925cc29b96f31524a159dc44': 1,\n",
       " u'0cfee3beefe2a314c03e946c1473e3d8': 1,\n",
       " u'bc9a50dffe6a2c678240c54fac1c3242': 1,\n",
       " u'd2268fec2cca8de09d39eadb9ab81675': 1,\n",
       " u'542df882cd8fb8a2c607e27e7d2e350a': 1,\n",
       " u'2d35ac460c97e65d7737632f5fa7cb02': 2,\n",
       " u'380149fdc58c3a41a7fb4ac9d7118cd7': 1,\n",
       " u'db5f210870c71a997a32a9489c54814c': 1,\n",
       " u'74f43983d6d0f8c71792404d5d20c6a2': 1,\n",
       " u'4afe61ab243bd115e2eb0a1dd98249d4': 4,\n",
       " u'515763332cacc693f28f4fe57325d5bc': 1,\n",
       " u'1047dc03c7dcd906c13ab5e6ee00e2e5': 1,\n",
       " u'fcb438085dbd392bea5d881770a9239a': 45,\n",
       " u'2bf9b1cd6346d4ec680c9da1e7416d82': 7,\n",
       " u'dcefb3eed2041ad4764375c2f65aea97': 1,\n",
       " u'c003b7a20b58ca9f417b683a1b478348': 2,\n",
       " u'56cb01e8644d80c4926cfd29e06e5de1': 9,\n",
       " u'0ff307d67fda165a70301531dbf1bfa3': 1,\n",
       " u'07636ec370f93ee9adc83fbbc7691d24': 1,\n",
       " u'00f2aaffaf2887d447171e6462542be6': 2,\n",
       " u'be7eb2a58b0d3620c1ad143d0b210080': 1,\n",
       " u'aed764bbff8302ed2ebc081126c227dd': 1,\n",
       " u'3a4bc23141641c62a7820a8aaad0912b': 1,\n",
       " u'525948ade9156e79f263909ea4d8f5fa': 1,\n",
       " u'77b16d79ee63513686af7caa476d538a': 1,\n",
       " u'30e21662064cf9da98565366ba160f0c': 1,\n",
       " u'69c77a4ab045251404343aac4094c157': 2,\n",
       " u'e3617625405e6440996c5be2dc6d058f': 7,\n",
       " u'56534e7d54cfb7e92afddca8eb905b49': 1,\n",
       " u'4e7bbc05a8f3d3e6e5f8d1c395863a5f': 3,\n",
       " u'7156fd917950e2e49468d8bab380566b': 1,\n",
       " u'fe3f617f840db4030b7fcfae4656b7f7': 4,\n",
       " u'dd344988bf7d1305e195e9c271126813': 1,\n",
       " u'a3fe4b65a93404cbc7dd526644997e2b': 6,\n",
       " u'17f29f28b1fdfb1c879c248123fd8b10': 1,\n",
       " u'66393773463446c81c51f41b2250bf3f': 1,\n",
       " u'1f1f426f5ad5be686f65821a02c74be2': 1,\n",
       " u'e4948c177a6697898f56a1d2e45297f7': 2,\n",
       " u'404f48d2e34238ca828730b4efcb5137': 1,\n",
       " u'752503210bee1a9f5eccc591da8ea98b': 2,\n",
       " u'ad684837c5e330d38660e57a78d64e0d': 1,\n",
       " u'255e9cfa0713ec1bb0195e7d5fc57d46': 1,\n",
       " u'2145eb5ccf80cbee9af40e2c57628f5e': 1,\n",
       " u'c4f52143f5b328fc53450eabdeacdfec': 29,\n",
       " u'd78427ac69508fe0d0041c8ed9616b7b': 1,\n",
       " u'b9805de360b3575e5e05fd940c450c10': 1,\n",
       " u'708150473632010fe6fb510354a57b58': 1,\n",
       " u'e21706c72072743ed19cfea0c540aa41': 1,\n",
       " u'193bdc38528063d90988f863086de0fc': 1,\n",
       " u'6d87e332d68b90abc96fc9c2c81463f3': 1,\n",
       " u'8d391b17e16ae2c40d2869a3799055e9': 1,\n",
       " u'7fc88c11e3477a59bc483b185e93c6cf': 1,\n",
       " u'db4b6a226190f2672baaa9df2385be1c': 4,\n",
       " u'823aaedc6d71029628e42677b70e034d': 1,\n",
       " u'60a3d397c650a1299bd92c9dc5fab658': 1,\n",
       " u'46904def560fb17aed518fb543bebff9': 5,\n",
       " u'50f0a4524c7e39cc8a283ee024b95f66': 1,\n",
       " u'5acfa7a2285883217f3922c2c67abcfb': 1,\n",
       " u'bc8313df5542b84b6e4d181a56d60a1c': 6,\n",
       " u'6481c8ae1ff9982ddbd9aa5e06bb13a8': 1,\n",
       " u'68f6291e64c36cd4df06c81e0d1a56ff': 2,\n",
       " u'cc16f6b5969835091b306b9dd159708d': 1,\n",
       " u'b0796f10488e07410f3cbfe35ab7ecd6': 1,\n",
       " u'357a902658d9b17932277a3c1bfde52e': 2,\n",
       " u'fc2a6bba8e744cd448514fffa305b83a': 4,\n",
       " u'b37046a637d4de6fd15c413884bf7a72': 1,\n",
       " u'541ad235a83397a3cf13b51736433b55': 3,\n",
       " u'4e41e5aca2439d8140db05881462cd3d': 1,\n",
       " u'b6a14373a5e485e3ebe0711029ba617c': 1,\n",
       " u'ac3e5f4050cdcaf8a51df98759c07dd9': 1,\n",
       " u'e76ebf75996be513bbd1b9097fcfeea4': 2,\n",
       " u'e4add10d4a5e063249bcc40c3a67fe16': 1,\n",
       " u'323cf737f251069aec7009d9533cca11': 1,\n",
       " u'6061c22376371f134aadf8408d512bd7': 1,\n",
       " u'0f281023d3045d1467951df039dabdfe': 4,\n",
       " u'478c452eaff4f7691552ddebb47bb9ed': 1,\n",
       " u'c48b7a0991e721c0d7f17f5dca87c0b0': 1,\n",
       " u'274f43aa32a11c2041a529c2dfe4b55e': 1,\n",
       " u'7bcf6894034469026e20bd1b5e034d25': 1,\n",
       " u'35db114ebbb13d0f5ec2deb0667ef410': 2,\n",
       " u'cd641d93af2bf977e9aee48113c01f1b': 1,\n",
       " u'1ee6a563627dab57459f597abde52b5a': 1,\n",
       " u'f232743e2ece7da7af42f69f3b2c122b': 1,\n",
       " u'ad5ca112dfdcff9e1f55929c3bb61e55': 1,\n",
       " u'e4ee2dd95c05d8052ac1e0933d06823c': 1,\n",
       " u'58d3c7033385861e1b8de3688b2d5a43': 2,\n",
       " u'9e5af84282083ba3de4a54d5999156a9': 1,\n",
       " u'48889e7bc1918ff672a0e55d102bbcc9': 1,\n",
       " u'de6dcc7b2d06190bf52244bd091f6158': 1,\n",
       " u'1b9a33bcc7139c4902f95eb197a5bb53': 1,\n",
       " u'b5b5b35fd756ff45556b26a89f10df71': 2,\n",
       " u'996b1a8285b7cd77df9c2d1536c0e520': 3,\n",
       " u'cfb1f584c2cb983509d1416a02ca088a': 1,\n",
       " u'324093b87f02c1020097fca4dcd3ecd5': 1,\n",
       " u'89f1b3902580f162d8a2509c0491725f': 1,\n",
       " u'0ab4743f87009ee058f9ad6e01c24b30': 1,\n",
       " u'fd56042375ef9d2b7403c3df3cbe1811': 1,\n",
       " u'ed14f0cdc9979fce27cfeac05ebec031': 1,\n",
       " u'6b6fad9286e925333368b4f25a79a92c': 1,\n",
       " u'f6ca563eec99c5e8427a3e0c8518f048': 2,\n",
       " u'1b7842ae96b9c2a819147c606a762036': 1,\n",
       " u'af3379569381b738076822f84a4639c3': 1,\n",
       " u'4f37098efea6178cc93194a19ca7d927': 7,\n",
       " u'7c84f872f8e9b6ea74138d47c59981d5': 1,\n",
       " u'104c25c690917d965228e30f83c7c7f0': 1,\n",
       " u'16c87dd10337d75676bfad47c51d6355': 2,\n",
       " u'91172eb3f6580fdedbd2d83c5c0914b3': 1,\n",
       " u'2125d8d4f0cfc05fb556f6ddd875e5d3': 1,\n",
       " u'c5fe1b2715423bd9858bd0394da64299': 1,\n",
       " u'8875ac1e31413435eb536c1fff46bd9e': 34,\n",
       " u'98fd694670932f593fd83aee3a33177b': 1,\n",
       " u'a63c7e856cfdb4852bc2a510a86421fc': 2,\n",
       " u'4abc0e241cabc95a71293082e0e92732': 1,\n",
       " u'c991735dd5c1b0ebf99ec6c5206ec0ad': 1,\n",
       " u'36de7a12d205fe18fc7b3f5c14208f75': 1,\n",
       " u'caa4ece405115fb3693977b27cdf3fb1': 1,\n",
       " u'142e472714308b984f5dd6e9ecae2e08': 1,\n",
       " u'e2e5c460ab8d8c9835cca35993e7b1eb': 2,\n",
       " u'd56f1bf7c315ff5f024daf95d9ed7a69': 5,\n",
       " u'801d52391a152e67379f9a30ab39a83f': 1,\n",
       " u'91098c2123e896ed77ed5149c720d6df': 1,\n",
       " u'ac6da85b6617401b2bcc7fe141ef0735': 1,\n",
       " u'65d54732f3573e5d5d57d34557f2b93d': 2,\n",
       " u'70d1f66567390041322d35abd88df99f': 1,\n",
       " u'2a9682ff509258a48e0bb83e8ff1e438': 1,\n",
       " u'5035e79b478644f376d0b8185d6dbd7c': 4,\n",
       " u'060da1d608ffcbf6649668910eacc3df': 1,\n",
       " u'd62e87d2d01d533c86bbb05ce6f517fa': 1,\n",
       " u'b95ebf13a548375c2a33fce2d632bb6b': 1,\n",
       " u'603fd162beed0a068e4a8d86be0cbd0f': 1,\n",
       " u'ea5cc96f35726349f3e0cda1770b135f': 1,\n",
       " u'bd150766441619bf6412f6d0925bbc97': 3,\n",
       " u'829bd236221304b003816ff08845c4e0': 1,\n",
       " u'571acf3310fb91425c2a1fbb6c588748': 3,\n",
       " u'd035775163bd8623f88a562405c57150': 1,\n",
       " u'dd9327edbe53646f378cfafd3bcb6094': 1,\n",
       " u'e1bf8a7af5859f8ec267a8bafa65343c': 1,\n",
       " u'177d2d9a8af04f379bfbef7e49bea4e5': 1,\n",
       " u'5202fc07d0e0f91aafd30325091c968f': 1,\n",
       " u'f4ee2cf5a1d4576a18a2b9ce8715f25f': 2,\n",
       " u'f77c9b619025fadbd38da89e4585f263': 3,\n",
       " u'47e8232e461f77a84b1eb22860f6d1a5': 1,\n",
       " u'4b4bc0ce64795c192cfcf2d6ad46701e': 1,\n",
       " u'6ae3bdacda1bbcd72742f775b3a1644b': 14,\n",
       " u'815bc2a52c51fcf72c27af370ec41b0d': 1,\n",
       " u'4f7ee6aa3f52dc071c2a2a9ef07b76a1': 8,\n",
       " u'84406358a0dbaae675cbb5809c6d773f': 1,\n",
       " u'bce082a0a4e920f5f830e2873803a8dc': 2,\n",
       " u'0567e2dc3ef6a75a20f6963ccf7a4781': 1,\n",
       " u'92c0b870422003900f7858320e3370cd': 1,\n",
       " u'82ed8e86645f55b02c01d6db50141a6d': 1,\n",
       " u'0e8c197a048bf548ea322ba0c493a919': 1,\n",
       " u'3d2de890b67e6dbd0d688ab515aaa6cb': 1,\n",
       " u'a731447e22483ef9a6d79041221f5ec5': 1,\n",
       " u'14770f03be5c74ec307dee2fa7accd6e': 2,\n",
       " u'b9dfa1f654be95a0917bf988a35a436a': 3,\n",
       " u'edecff536070bb1d52cb9eb0f7f6f3d7': 2,\n",
       " u'603f0bfe33da9b57d8f27adbc04200d4': 3,\n",
       " u'4d651cf87f2985b812b6cf1e30a7653f': 1,\n",
       " u'339bd0ed6ba24e0967b55decf4980916': 1,\n",
       " u'6e7df990a80d31c5e12d9b60c6d13231': 1,\n",
       " u'248cab1e79a7cc3a046e6f4ba48d5776': 3,\n",
       " u'f84457419a1a9747caefc57a5b4c796f': 1,\n",
       " u'27d163560e7ad812a2bc1a54f3b583ec': 44,\n",
       " u'0beb26329f083d16008d1cbb8803f265': 1,\n",
       " u'f723fec65f6ec17a4862e52e4d3e6eba': 1,\n",
       " u'5829a3f62d46be03d813514d11e2680d': 1,\n",
       " u'c0731b53f7210da4cc9e9856b1eb75eb': 1,\n",
       " u'b4b2739bea955e75a88934e3790acd75': 1,\n",
       " u'a13902605e5c81f8cca74647e5f223f7': 1,\n",
       " u'0ecc4ee3ea7d6d7869de676b645cbd1a': 1,\n",
       " u'1506b80b40a6c969000e74791d7b267b': 1,\n",
       " u'8f06edce2e5dc28410afc14eed35311b': 1,\n",
       " u'4db5e2db1c213fab6714e84d4492335c': 1,\n",
       " u'b0a4edce8577469bcf03482c2fb3ec18': 1,\n",
       " u'0877f3a016b824a72c296abf8c35e616': 1,\n",
       " u'262a9c6d6dc5c1997fb027449b03e0f2': 1,\n",
       " u'500320c437967155c3e9a6a94af3a8bb': 1,\n",
       " u'f482afd63f422184728d20833e8fd0bd': 1,\n",
       " u'e165564fd5cae04f010cd34d7cb90590': 1,\n",
       " u'f2ae8418e6ac7930397ef9fd0cc29799': 1,\n",
       " u'92168cc3c139c5bc927f5371e079a15e': 6,\n",
       " u'98f48198d226e264db09af4bda5dfcb1': 1,\n",
       " u'f8ea62daf8faca20b215be37b7d3948f': 1,\n",
       " u'05a20fe51745fd487d933c271336496e': 57,\n",
       " u'a936adcc43e885986bdc1794ef1d9216': 1,\n",
       " u'14764fbb5f47025cb5866790c7f58d4f': 7,\n",
       " u'0fff80ceae28e531e083cb5b2e1832fd': 1,\n",
       " u'91a448bec06d3b34ebccdd36ba78c55e': 1,\n",
       " u'5e70a7862a2e240e0a18abdfbcd7919e': 2,\n",
       " u'40f0f090a51ae8a7cd9fce266cc1a909': 1,\n",
       " u'ea2881877072ce20cc91aa87391ee9c5': 1,\n",
       " u'ca97693caa008e2b1b110c3939bba3ed': 3,\n",
       " u'67a4d065165407af692dcbffdeddcc19': 1,\n",
       " u'87de4f5f542a4d392b93d6043c7dd236': 1,\n",
       " u'999565536db7b659b2ff5256c755554a': 1,\n",
       " u'57b7c3ed25e02c340877f75fe65d9985': 1,\n",
       " u'fc7e486deda7bb388166bc3e780476db': 3,\n",
       " u'fb3bfbd0cde6c9c6ed818457fbc9dc36': 10,\n",
       " u'b41743371e25a50338752ae2bcdf6c5b': 3,\n",
       " u'b5cbfc7e88917e61eb088687e15c4217': 1,\n",
       " u'9aa2f23552a6ec6cbf20ab7b3d7ce38d': 1,\n",
       " u'e90613d93d0913849753a6bdc3c2c2c2': 1,\n",
       " u'5ca5d5b5d2b2e6fba4a6a046eb224c77': 8,\n",
       " u'4e431025ad8059da4f38b93e98b3ea44': 2,\n",
       " u'9dbcd4dd0150a03d9942e0ef7d169809': 1,\n",
       " u'688ed846519eea62aff2e81dde9395aa': 2,\n",
       " u'041ebc1864b56de70f2c6c6d3140a1c4': 1,\n",
       " u'641857b4fe92551ec24f375a2f73b29c': 1,\n",
       " u'703322a489cde1276374290edb9b12ab': 1,\n",
       " u'fe7a12dd8947ac03bcbee329e93150fd': 1,\n",
       " u'10e8dfd4c0ca2380b8732c63bdc65126': 1,\n",
       " u'3a5cc14af692718b8efee3c9333f20c4': 1,\n",
       " u'30f9a61b6b701d27caffd79b48631987': 20,\n",
       " u'6066b8ced9d6b5b9d21f314ca8b85d24': 1,\n",
       " u'f6e3a431cd3187db2c027c4e46cdd496': 2,\n",
       " u'2adf8020bd683d7f13436bff1cf9285f': 1,\n",
       " u'2cce0032403a5bc2903e8b61d1ee2747': 1,\n",
       " u'67bf97e56441cf494cfb2e8bcd421c90': 1,\n",
       " u'01b658cde61fd0a10e8c08f584600d3f': 5,\n",
       " u'd461d0f89ddd7afc53b4404eb4840d26': 1,\n",
       " u'e51dd800eb9d0799669d564f46ff16d6': 2,\n",
       " u'e3570157f74c1a1dca95035874953784': 2,\n",
       " u'4563e5e6cc8dab44c2a35b5c2cbec629': 3,\n",
       " u'ca20d9e926b7e95ec926d61de86d32ea': 1,\n",
       " u'ce671cb3ea2f4bf9d428e10c6ec1dd45': 1,\n",
       " u'0debee7202e3ab1bc045a81b341a96f8': 1,\n",
       " u'86a867cd994d92657e19b9e5e4a6dda2': 1,\n",
       " u'd1704634bd53998f3001a951f5ba7a90': 1,\n",
       " u'e0fee733ddfb1a5a92146fa2f8abce2d': 1,\n",
       " u'eda03fa518a79a0730c29636ddf27178': 5,\n",
       " u'507e88c2d7eacd0b6943d211729a3693': 1,\n",
       " u'df3d62ab5c0afc3b0835a2072a3cecf9': 40,\n",
       " u'3d0cc90f0e643f1866a618ae1c4b16d2': 1,\n",
       " u'6a44320575c77169e55bdd6926bdb29b': 1,\n",
       " u'ee4f69300c5a4ab6ac49aab2016e6979': 4,\n",
       " u'c35af1b5bd2899c12ebb5493c6eca270': 14,\n",
       " u'111548888ed00e6f11f64287494782b3': 1,\n",
       " u'94329bb58f7218fedae04f2f38909279': 1,\n",
       " u'fa3d6dca8b3848a25367b1f518a20b42': 1,\n",
       " u'68d7c42a8b0e6b2b98c400cd7fe309d7': 1,\n",
       " u'440d0a3f0a7b680310ed5b9ad0644000': 1,\n",
       " u'db757c1df611d0fbab958fb48b689cfb': 1,\n",
       " u'b8461ae5982b005f3f1261c66b2791b0': 2,\n",
       " u'c80ea1493994a99386f12880741eb0d6': 1,\n",
       " u'e8b0a0b95f6453d315640b72e841eb67': 1,\n",
       " u'01e3141c44c943d5dc6b29e34ec234a7': 8,\n",
       " u'08c687406f19aca1a944be75148e9bb2': 1,\n",
       " u'331256412e0c5e64755cc04537699087': 1,\n",
       " u'f07269bb01fcd0af0f4288dbc31c147b': 1,\n",
       " u'3128ce54ae7dff18fdf78f1360e31684': 2,\n",
       " u'3e26ed2e6951958b4fb54c0e3a84e8b2': 1,\n",
       " u'968e44a549b4322a5d61c00c5b40b5be': 1,\n",
       " u'cf9336319c55b204be1a4b7d33b1dad4': 1,\n",
       " u'327298afae1f5803f8662fdd7d9ef4d3': 1,\n",
       " u'5dfc2e4a18d87debcd3d8ddd39df7590': 1,\n",
       " u'd4659556154484afb89e0f65671425e5': 1,\n",
       " u'5827d2515b4c43a7305fb0615d9b432a': 1,\n",
       " u'3b8af4bf07f05aaac229e94a73eca4ca': 1,\n",
       " u'8c6b1a59103ad5247a7aec0f343ebc7e': 5,\n",
       " u'e3902e9d480f56166d871802a5646bba': 1,\n",
       " u'0a840a38d4c10ce564607ef1d905f1d9': 1,\n",
       " u'ae5e17f5c7432289ab5e33cc568eabce': 1,\n",
       " u'c70b4140a94493c0cec5020485d522cd': 1,\n",
       " u'4213e859a92d4a51768fca6209f97e6d': 1,\n",
       " u'fe792e010372eda2b750e5fe98b7383f': 1,\n",
       " u'999c02d81c9ac8b03a1af6b373078be7': 1,\n",
       " u'1483535042072d57c999e1fd8d0beba4': 1,\n",
       " u'9c31923eedb4af04a34c3aedd8f1d746': 17,\n",
       " u'd970985646bf9a0fc94f000f802e0fc1': 1,\n",
       " u'f7935abbd97d67add2045b92be2ed139': 2,\n",
       " u'424b0fceee2648b5a9575982825ac803': 1,\n",
       " u'7b886b657a969235a94a8d576a9a8ae0': 1,\n",
       " u'e98cf2576da9d5ccdc560d736ef768e0': 2,\n",
       " u'e1bbe030d8a448d8b29487f6836c3d0f': 2,\n",
       " u'6edbd84ad58aebb5e8da72c52d1e47b7': 1,\n",
       " u'c5b6605607956d0c6b83f0738e77fd03': 3,\n",
       " u'10a6af9c8bcdc1670bf8ca6bf15d5695': 1,\n",
       " u'9a18068ff6b7b9c99404c1d59cfb1fd8': 2,\n",
       " u'9f7f6a23cd66fe77f1b66c13716d6af3': 1,\n",
       " u'00843747d36e893ab2f028e6b1456fdd': 1,\n",
       " u'84d3d2c528b91babdd1add98a95a2f8a': 1,\n",
       " u'399b526759b466fb5ed5d19554d8132b': 3,\n",
       " u'2036224795f20c392edb2c6102227f93': 1,\n",
       " u'7ba10595cb4926ef6d627ec65b324808': 1,\n",
       " u'e5bfd6f7d424cc2626886fb0d2d32515': 1,\n",
       " u'3ffab6001b491792ea0ce2984e97ccab': 1,\n",
       " u'7c71127951523df796521e9e3d11dbf4': 1,\n",
       " u'7597d7cd6d4e0d626a1c9ce393717db6': 1,\n",
       " u'3f402c75e087f994b62305938c51cc26': 4,\n",
       " u'cb8579dfa99c9b7afaa0da28aaaa59d7': 1,\n",
       " u'2eb18438a5d648b6745499fc6db4574f': 1,\n",
       " u'4a610f2e516cfd6ea51f9bbd035775d9': 1,\n",
       " u'3aa397df178ef7c957ef4afd42858b34': 1,\n",
       " u'36d47a3db086a6795061e9fe41eace3d': 1,\n",
       " u'18f6343b0ff7886c81f2124414104fb7': 1,\n",
       " u'c059301e33ac17e0c17231dd64d1a586': 1,\n",
       " u'de0858bf69a04bc909a1318f2512bb22': 1,\n",
       " u'30cea34a5c0470ed09d7d8b9e3c04308': 2,\n",
       " u'3d25116958ce1f88c0f0f5cf06c70329': 2,\n",
       " u'56192350c3005c63ebc36b78f1997b1b': 2,\n",
       " u'15b74ab2b9e2f0fea2e6124d7b041d79': 2,\n",
       " u'1766b2667972e839ce43ef64cfa6e2bd': 12,\n",
       " u'edc977261d8d363d74f5749d9e6a1ac6': 1,\n",
       " u'c952c17575be1098a1ff84b026b0bf31': 1,\n",
       " u'55e9626b93a547e37ee8d494bb0e371c': 1,\n",
       " u'8c49172f14e1a41e44ef5d4f2034d231': 1,\n",
       " u'7ebe5100dfd290a03252c4381b1408dd': 2,\n",
       " u'47a59e9a43a9bf54cca348a56bb97a51': 1,\n",
       " u'ad082a9b1f7ecd8144c43e98836f695b': 2,\n",
       " u'e31cfa6166a189155daebe51f9f0a180': 1,\n",
       " u'481b125f198c4a28354e97a6536d1691': 1,\n",
       " u'5d2d695fd2299ac988d18cb40db89550': 1,\n",
       " u'a40a679ec20bdb05536952da14338e62': 1,\n",
       " u'faa73d7692ec1618dcb2b6ca947cf070': 1,\n",
       " u'9f36a914a4e3d99ce70189964ecb23ad': 4,\n",
       " u'a021582ec1af9a274ab77c306f075c3e': 1,\n",
       " u'0534f31e3a5cf8c72df8af6b4f11ac85': 1,\n",
       " u'de4a3cbdc602425f600c4d105398f96f': 1,\n",
       " u'9ee019d513de2821b89393f7a8531aa6': 1,\n",
       " u'120feabe44203a91bf32c13195559a12': 1,\n",
       " u'3819e1f96c831f52c8da8b905012882a': 1,\n",
       " u'5ec658cabb58add870f409a645594700': 1,\n",
       " u'894e297a0bb924bfeb31de4ff2fa8fc5': 1,\n",
       " u'12a902ac9c2bf10fa05637952ebfe6db': 1,\n",
       " u'113b9dd62ddd286a25c878ff2555d1e3': 2,\n",
       " u'7afc98bd6b1a8d8bb4537da212c06063': 1,\n",
       " u'6ae1899643527c3d15df375b6b344484': 1,\n",
       " u'4bee5c5ccf1902e0d28e54576f641913': 1,\n",
       " u'73b45d0deee003158f3cc35f143d155a': 1,\n",
       " u'612117524e941300c3dafb8a80695b5e': 1,\n",
       " u'ae621243927861baa8761c44387e4c70': 1,\n",
       " u'29229df51421b913a1ff0c91fd7c92e8': 1,\n",
       " u'ae3d34bdf9edf199be65d3c5d3e454f0': 1,\n",
       " u'c8511da5dc844d7f6bb17a74d7bbe04c': 1,\n",
       " u'bdd0c504284e5f0c0a09da4030fed41e': 3,\n",
       " u'1f05da09b0c6b4caaadd3d251eac6b18': 1,\n",
       " u'db73557cbf38d673abb9e572863cc5a6': 1,\n",
       " u'3133b7f5093d4d1ee4555a96c5cd8f54': 4,\n",
       " u'16cf38105dea647dbe5c03bb387fa936': 7,\n",
       " u'0f4eb89bc187e377b64838d87e0abdeb': 1,\n",
       " u'cb54ded31fde79e29684570366e2cb2e': 1,\n",
       " u'e740f6fe5e4f6c47cc3158ee477fc383': 1,\n",
       " u'3500f41f2413fec29eea6d1e75c31ae5': 1,\n",
       " u'a8fc86c560c512149e02f21af5e348e9': 1,\n",
       " u'32396765bf889ce59acbca88412c852d': 1,\n",
       " u'c2fa1007c49e12e3e9c8362120fe3f52': 9,\n",
       " u'cf4690b9fc466e0064deeb9c5601bf26': 1,\n",
       " u'2d5c52b1b8b0c763fbcfced54fded7a3': 1,\n",
       " u'2c749e8b7eff5ab486d48febbca76ec0': 1,\n",
       " u'4511e242cfea3944aa979861aeebd119': 4,\n",
       " u'c1bc29fd2d920dcfe12ca963fc5dc5a9': 2,\n",
       " u'bf89ba07258a1a0a623ac029e5bc2948': 2,\n",
       " u'61f3ede47a52f16407d19d306826c419': 1,\n",
       " u'b357eda5b3a73a70fff41596186d82b5': 1,\n",
       " u'e4efa95d1c5b111662b1b874e9f76fc0': 2,\n",
       " u'7054475bc42a2e4d85e3f5781b1e6f05': 1,\n",
       " u'defb498ecbeef68610927f2750ee3fb4': 1,\n",
       " u'62ce6579e3b25095e7dbbd2a1db5ce52': 1,\n",
       " u'4dc34479cbe00ad9a8a4d9456a23cb5a': 4,\n",
       " u'de00c45bfe0552ed33d755f57baa2505': 1,\n",
       " u'cb557af4b980005cfe6ea2e2db60ef08': 3,\n",
       " u'552b0f4b9288db68a8932bb4e7986b16': 1,\n",
       " u'3418634bcd0e8e8c3a8ea571a82040f6': 1,\n",
       " u'70088c788b51cc0efeda97e408fc308f': 3,\n",
       " u'668beee6271c9e88e9815287b02cbd6a': 1,\n",
       " u'37a4a4571bf1bf430aab2d19da209146': 1,\n",
       " u'd447458a67b5d4318ef682e711ac30ad': 1,\n",
       " u'ed6346ca45d932173e56e816a4b9811b': 1,\n",
       " u'ea09b77cbd1d3a7bef4db4b91af98f21': 1,\n",
       " u'482949952c7a80f94127ee57c124451c': 1,\n",
       " u'c75f4167416133ba1b42003bced71908': 1,\n",
       " u'b986ff10af01e37020b3934116e0d6bc': 1,\n",
       " u'ca34cbb50a62ce382d16769a38a427ba': 1,\n",
       " u'46a1696cb290732184f0deb768ad09d2': 1,\n",
       " u'56245c28baeb038d98804846faa38ddd': 6,\n",
       " u'22423eb7e5972d104e39c57c38649f1f': 3,\n",
       " u'34c22885f363f067d36029191b827ba3': 1,\n",
       " u'668553378d8ef6804a211ae171f5e28a': 2,\n",
       " u'8cb55f20e169f886e62e603f8bc49786': 1,\n",
       " u'97e40b046aab150b7dbcd1b1723167ae': 1,\n",
       " u'd4773b5c04a3f5c947136d9bb718bb58': 3,\n",
       " u'b2f64ba1c37ef08cc2b02b1a38d74189': 1,\n",
       " u'02ea17b0f1281882ab8b803e1bcfede4': 1,\n",
       " u'736c86ca9c06b19d89b6ab6d527305d2': 1,\n",
       " u'c8c0fd3124da14d586a0b1821310a3f4': 2,\n",
       " u'96c2f7c0d140466b24a95689eccca996': 1,\n",
       " u'b39e85a993e9c8b6b7b787f630eedead': 1,\n",
       " u'1bbc7c3bffc419aba053dff76da341ae': 1,\n",
       " u'027be8b90862d782dd19ca45f1eeb94f': 1,\n",
       " u'3764f809505253d1304f59dcee95de8f': 1,\n",
       " u'f29a2a71843935b08b926a37ba6222a2': 1,\n",
       " u'7a1222b2cc9204e7275b9cdd084fe8f9': 1,\n",
       " u'ee91d360e30a4318a1647b60897e9ba7': 1,\n",
       " u'a2d3dbe83772d6a6e64ff001dbd0b726': 43,\n",
       " u'c2e8fbd9fb5156fb22c9ebc29871a4c2': 1,\n",
       " u'41d5720d4e99e26cb9924bba0142e6c0': 1,\n",
       " u'f06e8f7a15dde2549121cf61795026f0': 1,\n",
       " u'e4c3de3a88469adc3aaea50c521d9e2c': 1,\n",
       " u'3bcb1b397d4211e74931dc0c0355c897': 1,\n",
       " u'238d4b00ac311ba05556721439e1e223': 1,\n",
       " u'3556fc76e27755a182a52e2113ae945f': 1,\n",
       " u'a85a1a4e7c024a7bb65be8ad00b8df67': 1,\n",
       " u'a352116a52279f94bb7bf63ced707ed2': 1,\n",
       " u'7a94d8acb5617f8a01a7d5c94754dcc1': 2,\n",
       " u'61480aedcf892043c1e1747050c0561b': 1,\n",
       " u'0185b827069ce8645cbc70e3f21a5b20': 1,\n",
       " u'12780f42e100ba9e43515a9b8bbeffaf': 1,\n",
       " u'2624d95063342fd9c53072d0c6b8ea19': 3,\n",
       " u'ed27516464cdac526207654375f28e8f': 1,\n",
       " u'8f902376fa748d7c3ef5bd18ac236859': 3,\n",
       " u'70c30849841a6e335ecae1c5b33a0ca5': 1,\n",
       " u'3ac1b1f7412c767104c0a94454d94e70': 1,\n",
       " u'f484a7356b107dbb91eb7351a4ec074b': 1,\n",
       " u'6410903c10e4493222df6813f81a3e96': 3,\n",
       " u'48cc6a6c4ff5c41909379e52e24a131d': 1,\n",
       " u'69e651685c085010d517bf15896bc516': 2,\n",
       " u'8b9ab94bd85a2d34b713a15c52daceac': 4,\n",
       " u'39dc02e424f7ff6d3a199c2a5f727e6b': 1,\n",
       " u'9428e40832bfd8aaf62e55fb03d435af': 1,\n",
       " u'57be337cc51cbbe89e202a131ddcce32': 1,\n",
       " u'a71fc71d1e24877a2400ea61b8abae54': 5,\n",
       " u'5614fcf4c57442488b80e8792bb497b2': 1,\n",
       " u'679d614e28a30ea42b2a0ffd034f0d5a': 1,\n",
       " u'd6c3a42d1d44a15873657d04948d60c0': 1,\n",
       " u'627849e5490e85ac88ee882468fc45c5': 1,\n",
       " u'092467b60b3142dc3dc452f707bbbc4e': 1,\n",
       " u'318bd7b92febe7d16d76e60b927b6953': 1,\n",
       " u'40410fb665c4d83ad3729e35cac40551': 1,\n",
       " u'880a92e1a676d5ec8adb5933033dd2d5': 1,\n",
       " u'44d953f3c3491e6ad59779bd1c62c9bb': 1,\n",
       " u'17c1230947bb67d2d9a2a0d937f2069f': 3,\n",
       " u'c45890dd223dd88c2101e02058102075': 1,\n",
       " u'7f0768108310598c0516fc17068a9d19': 5,\n",
       " u'48680d4c5cb17a1a8e3020e269c9e10f': 1,\n",
       " u'4c60903a954e603eb1e71446010403a1': 1,\n",
       " u'86b59f1c30c1cfd370230e6c50728cb9': 1,\n",
       " u'e8ca332c03a8009d4145639c509ea93e': 1,\n",
       " u'4f0060fa739dd3aa401342b336686e79': 1,\n",
       " u'6d513eb5ea19341d79004d3547ae67d8': 2,\n",
       " u'0518cf110088020584a7a75c781c0ca1': 5,\n",
       " u'fffbc8596c1c67407473ec5fe71fc83f': 1,\n",
       " u'df52d2095b5f6d82307e49d9fd7db7cd': 1,\n",
       " u'f7c2fcb7e06e86c7ef37e2188e81c361': 1,\n",
       " u'b773f16af11ead0792f6873fe040a310': 4,\n",
       " u'891858b0df2144e15f703a4dfad12729': 1,\n",
       " u'b7637b1d3b106452d3ee611d5a5059e2': 1,\n",
       " u'6bbc7d4e6e38100ae2825b2145f8632d': 1,\n",
       " u'1e67f7c3d88b3ac2c76aa6178d82eca7': 1,\n",
       " u'7e33ffa5f53e9ed926c2e17afee823ea': 1,\n",
       " u'88590a649d8c83000a5cd07804767bc8': 1,\n",
       " u'523c202789f63f4a507344fb066b8e0a': 1,\n",
       " u'41c6777ef423d29bcf8eea8bc8824e5c': 1,\n",
       " u'85ee348c9ca9b448833fa0886d9949a8': 3,\n",
       " u'07cbddb16116ade394642fac6ec24847': 2,\n",
       " u'0db6ec7853eb6d420d76dfde7c3b2da3': 7,\n",
       " u'f43900075f1c775a3825031f93d6c274': 1,\n",
       " u'de4ad929acdf4800db97f1fa924c8f4c': 1,\n",
       " u'240f00040b3978746d9c48ab078e14ea': 5,\n",
       " u'5be6c54186b7e39ff345e70c0bb0135d': 1,\n",
       " u'e49a344788bf1fcd06b730a7182af68a': 2,\n",
       " u'aedeb78f08e5f1610eb0981ce892d6ba': 1,\n",
       " u'a4ff55500a3d766eafe118b66c0fc1ff': 1,\n",
       " u'f11187eb5f08a81cb566197933839f95': 1,\n",
       " u'09903c7ee73641bf31dad292a4f764d8': 1,\n",
       " u'12cb73c1161cc2e6fc7716b0d98947a6': 1,\n",
       " u'82fa2c46afb4498cb1b2ceac76808c27': 2,\n",
       " u'ba8914bf7cf8f39b03c77d5db3a93f49': 1,\n",
       " u'43a1c066812d1af568f2092870f4ae3a': 1,\n",
       " u'06ed0910c60e7e781bbaf5e369e5e5b2': 4,\n",
       " u'a16540a7d621ca2b0d535e258f17e4f0': 1,\n",
       " u'5db94197d4ff12e8e1b42bec1b66b8ee': 1,\n",
       " u'ef2527eb2bcacce52c8240d7b4a1e7a1': 1,\n",
       " u'5c2369f43d9bc0d89c5e6898f680d212': 1,\n",
       " u'5c12dc5bf7b7d12593eecc473f8a661b': 4,\n",
       " u'464eb430aaf145e05ea48ec548fb1245': 1,\n",
       " u'2a3918582705c8ffa94a36028e7fa87b': 1,\n",
       " u'5992833c8f44dcd91c298e60ed19b768': 1,\n",
       " u'bc13fa481df329ecf4851eb921863db6': 1,\n",
       " u'd3a99c896ccb8237f0bfb1090eeee901': 2,\n",
       " u'0953503220cdee2762a142d16867393f': 1,\n",
       " u'd87ee3c3fdaaa5f6a44d0c483e60f608': 1,\n",
       " u'2376646ae8e17a6eff495e6a3dad4bc3': 1,\n",
       " u'05557230a523c1e498f98bed3f71d87d': 1,\n",
       " u'b196a0db5beee8fcfa954d21fa94c516': 7,\n",
       " u'fc91985502c6d830afc444462546db9d': 1,\n",
       " u'4ddcd144a51754636e770c5c778cc690': 1,\n",
       " u'1ed6fff22267bfed0a8826bb99b8c873': 1,\n",
       " u'51ff2df50572e034270048c0b039904e': 2,\n",
       " u'fa4c0139970c20f21965107b4c0c333d': 1,\n",
       " u'a3c479781ccf2bf996996c74232c2fd4': 1,\n",
       " u'986772201ebd23c97788ba931d7de73e': 1,\n",
       " u'a65330f2081783e8f66fb56434502f50': 1,\n",
       " u'97dbc925f00d08ac1b164cc6f57359a1': 1,\n",
       " u'b16c20efdd2346fd6967ba73ccd7ebbf': 1,\n",
       " u'10465f0ac549b32aed95583fe2f8e720': 1,\n",
       " u'790b681c4e32bcb368ca44d803fc5284': 2,\n",
       " u'68ede1487d207ba38c4475157a4b4c8c': 1,\n",
       " u'b8e42c47582a141e7c8fe9d5b7f04ae2': 1,\n",
       " u'f5f0c4f85b79049bcc375864154a89c6': 1,\n",
       " u'7e145316fce75d3bfaa1a0cd83168adc': 1,\n",
       " u'99c5930b7ff2ab43c9b0a3154366714c': 1,\n",
       " u'e961d4bd021e79bcca25e0f90e1df57d': 1,\n",
       " u'50501909010ad65c70b9633d83635ada': 1,\n",
       " u'a1c19d79f9e8a29ce7e4b9376e78696b': 1,\n",
       " u'3dc0d298d32f86bdf5407dd8dfc7095f': 1,\n",
       " u'3ef88f4fc2d8b6406cd2d46e38b449d1': 7,\n",
       " u'7b65030acf0d0f754236e0335de1bcc6': 1,\n",
       " u'a7f596caf31026d0d5252601e315818a': 1,\n",
       " u'cddccb584d75a1ced38c76619c2db026': 1,\n",
       " u'e8d147f1c3db4a92b038c4864459f6e2': 1,\n",
       " u'13335151fc15c9bb8703d8eaa45ddbe4': 1,\n",
       " u'3d922043f1f82a3e0545fce96d151453': 2,\n",
       " u'641eecf2771dd5a3c0a774b7b594d722': 2,\n",
       " u'25e87158a70e82c14ed72aa20038cbad': 1,\n",
       " u'd906be073a56c45bd74d95cff4329bf1': 1,\n",
       " u'9a9fa65625a99143be9da0e3fe14356f': 3,\n",
       " u'f78646d2db67b5d185a7cb995cc556e9': 1,\n",
       " u'2eb7a90cbf085c9a0be9f0d04c54ac2b': 1,\n",
       " u'1ae0fa768c28f55861eedafb169aac60': 4,\n",
       " u'f6341d0f2fce4684ca27008eaa13434f': 1,\n",
       " u'8437bf2c57dc07d88f900c0fcc105dfa': 1,\n",
       " u'980fcb6ec814439f0ea0d8d8d1082d74': 2,\n",
       " u'591a868730c34439aef07c014c861f4a': 3,\n",
       " u'f9830447428400138ae43f38dec4345d': 4,\n",
       " u'04ef7a3e92f8c4f03310e92e178e5aff': 1,\n",
       " u'5c26e517d8f2eecdd8bfe188d2b3db13': 1,\n",
       " u'f63d64ffbd90d6b13e6aa4cb9de635b2': 1,\n",
       " u'c2a1189a35a15df71209d7aac047c154': 1,\n",
       " u'0818831703fa7b33cdb3809acd6c8433': 1,\n",
       " u'd4f5bc0ce9124c8450f8cf51fa8d994d': 2,\n",
       " u'75515f3e7a2cf6a7ff30407a3c49154e': 1,\n",
       " u'24eb4db72aa4e203a43dbf010dc889ca': 2,\n",
       " u'24a1988ee3335281cac53b0e091a1374': 1,\n",
       " u'72837be36ef40a520853e43f845ed338': 1,\n",
       " u'916740df0d6a60e6309cc713b3da69de': 1,\n",
       " u'83846338dc8f8e4036db0c690aac308c': 1,\n",
       " u'c20bbb6ed8a44ffd091b0008f5fc5855': 1,\n",
       " u'88dc15f75e66c0481c672990d3ecb595': 1,\n",
       " u'e8897a78ec7e51c93f325b43ba097016': 1,\n",
       " u'fa066e2d246a12742f50bef53914d662': 1,\n",
       " u'2eac3ce0b88c1badb08aa50d312b0a4e': 2,\n",
       " u'6d1398a5f089300c26f025e703beb0a4': 1,\n",
       " u'3b3ceb59cc48ae8222ee8490831debe4': 1,\n",
       " u'67452308284f8ede925b02bd35712dba': 1,\n",
       " u'c7180322df31f3deb0020018d1c523f0': 1,\n",
       " u'3c1f4149793f652cc79ca3c87d27b1b6': 1,\n",
       " u'da266f3e1ad6634b27cd6373e7c5731e': 1,\n",
       " u'a62f7e222ad8ab8b2d6b2f2efee212fe': 1,\n",
       " u'03761c51de16705ef82c4daef0037181': 6,\n",
       " u'275d2e85213413cf2b88344ca46ca4da': 5,\n",
       " u'b875deceacc83472efc6a955e6a387c2': 1,\n",
       " u'1371600b7e9f64ab26b40dd134b36352': 2,\n",
       " u'7ba33b858f172884eda0e0ddebcab137': 1,\n",
       " u'6e84df04c633accb0d1fc997ff06cc5e': 1,\n",
       " u'60f6920251024e94822dab016977e479': 1,\n",
       " u'188a346994b3497fe2856d462891a257': 2,\n",
       " u'fbf879ba38dc1b4d81fc422e3930f460': 91,\n",
       " u'a86c2a794e92470c92b69df36b701f87': 2,\n",
       " u'ed0150e38fd1906a48596551dfe6eb10': 1,\n",
       " u'fdce779700258059f8eae78e612733cd': 2,\n",
       " u'126309e67330837309fecc7f78dcf004': 1,\n",
       " u'c7ccedb070aa94232e4b2d59d1caa2be': 8,\n",
       " u'6c7f59784d2bf3e6af9a31fceff38ed5': 1,\n",
       " u'0c8d8021eee9bcdcd5167707ff2ff4cb': 3,\n",
       " u'dda05b2d9a768810520926ecb3f9f626': 1,\n",
       " u'c1628d890f31b0be26cf12c282997879': 1,\n",
       " u'970a75155f4cb408f6a813c3804adee6': 1,\n",
       " u'f7c770b3c435fcf566903e8410caa436': 1,\n",
       " u'833a79ae309dfe449fa5575e67b08384': 1,\n",
       " u'cfffeb67d42358d3677f42e8f8be2ce7': 1,\n",
       " u'e3fbeadbcd3ba2ac2a650bbc8685b21c': 1,\n",
       " u'6f404b36b0fed22bdbcf579393830251': 1,\n",
       " u'84251a420083a7fe49e8cd1cca25af88': 2,\n",
       " u'ee6e7b657cce0e0db6b461c67cf0ddaa': 1,\n",
       " u'889bdb967bc561a820a7307edf54875d': 1,\n",
       " u'f68c49807aaab5a6333228ff6b2247e1': 4,\n",
       " u'ee8a32184627137c54f3a3215c83f753': 1,\n",
       " u'a5343e3ae4d72edb192ead4e41d12f22': 1,\n",
       " u'fa53a71325e6f8fee3e7bb1e465f5871': 1,\n",
       " u'596db40a0c745d7d7c024ba14ca396ee': 1,\n",
       " u'2745b9c682aae6534b3b1a0f546a35ce': 1,\n",
       " u'f15ab0cd645115a31f732f31115cd4e7': 1,\n",
       " u'8932ed519d13f4f0926ff5609e657226': 8,\n",
       " u'8446633c370e1bbffc95bd6b8ad80c98': 1,\n",
       " u'1b9c864efa3b20614752a69245abb562': 1,\n",
       " u'f889a04a8d18bb08375845ab632cd4ec': 1,\n",
       " u'cd291e7e3158f5fddb06d695d0a2d2f5': 35,\n",
       " u'1099ff8fe41e1e326fc62179a8ef8eaa': 1,\n",
       " u'2183ee0c6f3a9d80cfbb11ab23855b19': 1,\n",
       " u'365c05c81ac742ab57553c4b6b4447f7': 1,\n",
       " u'8cc20b2c1384497dbc3bc5780a0a53de': 1,\n",
       " u'b837d3c65288e76ca704501699cba936': 1,\n",
       " u'989837119e5c8607a663ff5a9f671c28': 1,\n",
       " u'bc49d54ab978aa8c817dd2718eaad862': 1,\n",
       " u'9c8d50b6675bacf85c5d84454c52e23b': 3,\n",
       " u'e066a6b043e31df950a05c8a15239160': 2,\n",
       " u'781a64b7103468cb4233793f3be21e3b': 5,\n",
       " u'd4d64d47c9c8519cba0a4bb6120ad770': 1,\n",
       " u'a5936927aa9ff5f405c4fb9a9fb15503': 6,\n",
       " u'1563c446f9a38e12073f968de500b17d': 1,\n",
       " u'6cea5e38c049c745cfd48289d3fe1679': 1,\n",
       " u'15cc9e755b21f64265f7ad23e4c62efb': 2,\n",
       " u'c323f45e42641db487a4cc7b556b9b17': 1,\n",
       " u'c021e17f95257e977e95a5845777cc6a': 1,\n",
       " u'2c5355e8ce4519db65eab744a66d7a7e': 1,\n",
       " u'5f1dfc0066beb9f00c22e93eadc0a8fc': 1,\n",
       " u'10b1247880caa45cd04dbc38d9223148': 3,\n",
       " u'c2c069a0bea862d56b4ebb06ceacd2d1': 1,\n",
       " u'3e718c39ab97698252d1e08e5b76efc2': 1,\n",
       " u'ee25d413d1416d990c22cd641f44ed67': 1,\n",
       " u'61aa8e0a19bad7046a8f6da64ebe155e': 1,\n",
       " u'54f06cb3e746a2f60de8ea60cb35c007': 5,\n",
       " u'f3de8d46e5fc0b97249e15816d0dd73a': 2,\n",
       " u'43346be917995bd9f6a52a8caa036041': 2,\n",
       " u'02a67a04b58c82960cbb0077e1c2c835': 3,\n",
       " u'9d77f5fcf55e0745b99e615031b5dd06': 1,\n",
       " u'adfb6dc1b87eade69f3f5e2698329267': 1,\n",
       " u'3f945a2921290ab2b7cdbe0d8c231205': 1,\n",
       " u'11cd1449e1de4b07fc75245d60501bb1': 1,\n",
       " u'122992d794672386080b1b12f47c36de': 1,\n",
       " u'93b92d75d37919989bf1a7e1991d4163': 1,\n",
       " u'02993fdd37bb73235382cba9f596b131': 2,\n",
       " u'7d227b0e083204279b7f6312aa126766': 1,\n",
       " u'079c0079142812f08816ee57a1138811': 1,\n",
       " u'daada10dad0f00a1f6d3e9d62e070f92': 1,\n",
       " u'8092a2f29b8ffa9c141bf18b3d317317': 5,\n",
       " u'8ab639ac3bf90c48749641748b189717': 1,\n",
       " u'1df8683ba6278dcd7c629e8f36d6cb24': 1,\n",
       " u'ce4b098bbef50af4ba7d6efe48b1bf1f': 1,\n",
       " u'aabbb57168913c1dff94afe3699250e6': 2,\n",
       " u'3fe4c4c02a6707c7bb8a96974921c8c0': 1,\n",
       " u'2c3de7049a862ab49f0a517c002295a8': 1,\n",
       " u'dc3e1dfce05b7841fa53c0abc0f087f5': 1,\n",
       " u'1bb223d5075e2ab56fd6fc738a0bf41a': 1,\n",
       " u'6176f0a96d1a936bd9f5a1ae8b45bd03': 1,\n",
       " u'1d5571e4b4f2379447fe73a642dce3b4': 1,\n",
       " u'a4ec3fc322391492f002cb6120a4a018': 1,\n",
       " u'138292080b2e9177fc8c2857f27361e7': 1,\n",
       " u'6cafc5cdc46154767318c515d5e2d47f': 3,\n",
       " u'8329519e8b7a8486937f7049f7df3878': 1,\n",
       " u'c54344f4d0daab6078e2d3ccd7f2c279': 1,\n",
       " u'381d6777287b7d837e42de43e133540a': 1,\n",
       " u'8e3bc9b141a28173878c3a941bbf29e3': 1,\n",
       " u'6992bd5db3a74581a6ffc1aca775ba8f': 1,\n",
       " u'cd5e82c495a5a6a8ae5b8204c1d799f3': 1,\n",
       " u'aa396bf84701d89a32a2cf72b6789b60': 1,\n",
       " u'e06286fd5c936dbccb3ebc00e551d3c5': 1,\n",
       " u'66c275ec12c4c51f3159e5b6d4aae9ab': 1,\n",
       " u'5cebeb8aced6714321e852e2bd9e72c2': 1,\n",
       " u'bdaaebe4057999572a53f11fa3be5162': 1,\n",
       " u'07efb8d51af9c133e2fcb763c1a09f0f': 2,\n",
       " u'edbb26c2f755a6040d3f7f9f94b1269a': 1,\n",
       " u'39fc9cf791c4d60075946b1367355039': 3,\n",
       " u'4c4896a4645de9e6492024b08ea83505': 1,\n",
       " u'93e96a21d07a8eac0943a00c2d293edc': 1,\n",
       " u'9e440c3c155b3901d5afa13f47846356': 1,\n",
       " u'3dd12eb8cbda4b7d0f705d3d2c1c68ea': 1,\n",
       " u'5624383f1b80cb0fd42c5b3312c29a73': 1,\n",
       " u'1ef080239bb9281b6aec0a994c48d58c': 2,\n",
       " u'6558afb9b540366420b3f88baee7654c': 1,\n",
       " u'6722d6e27572c1330725c77b5ffb213b': 1,\n",
       " u'eb4121068a8f7884de39225f0d5e0bcd': 1,\n",
       " u'f99eb6c07074481071a1e7c1125a35a4': 1,\n",
       " u'8447fe3112aa708d5c28f4139b6edd83': 42,\n",
       " u'04b3df95d462c306dd5d3f3580dcaa35': 1,\n",
       " u'e0c2583215ef8761a44c7b1bec9a239b': 1,\n",
       " u'ebd387bb797c7753609f45b0517f47cf': 1,\n",
       " u'756a7541e37b09349d250d7f5fb2314d': 1,\n",
       " u'b5ccbc37991c2048fde82c42f9891fcb': 3,\n",
       " u'786327bdd663d08172be9f7687750382': 1,\n",
       " u'8f489516ae1e3af1d506f16187b97cfb': 1,\n",
       " u'fcea36fb1cf10114abf773d5a52a3fa2': 1,\n",
       " u'89adce1bd045f371949c135a7d066103': 1,\n",
       " u'672b69e3e149e9398f2528dc62c1855c': 1,\n",
       " u'973b8718144a1918ded35a093e0a33c4': 1,\n",
       " u'f00e581a7c6f50674e89fbfb89e1fc09': 6,\n",
       " u'425da596f484c61b6f0f6a7b49824d4e': 1,\n",
       " u'1d8989abf31db9ec58920228aaca4192': 1,\n",
       " u'f328d43e0657e1c5e8694f505a958017': 2,\n",
       " u'041a6561cc814593c6db1b8ab06a8d67': 2,\n",
       " u'c074d997cb6ac01d8cadc2927c5ed86d': 1,\n",
       " u'172a893e77905381d7977a847ef32b83': 1,\n",
       " u'a333c21ed3d01bcd3aa0908c6d1f1f42': 1,\n",
       " u'168e9883ced907b2493a279575b8f30c': 15,\n",
       " u'c1652b993cd0288dbe0766b390fde105': 1,\n",
       " u'73043a6f7787b1fd6dd59563c186bcb8': 1,\n",
       " u'1ee4f5a5c2ee21f9017bf16d085bc600': 1,\n",
       " u'a9d15228b22ab5c01344846e1b68e6ab': 1,\n",
       " u'587ad21af056444513e67224a136180d': 1,\n",
       " u'8af0ca502197412573d7d5da9c5caa58': 2,\n",
       " u'ca4ac7b0e41fb48d34a86c722cac1f4b': 1,\n",
       " u'1a824a6b4e4f15db49e895d1bd753ac4': 1,\n",
       " u'62787697ebf682708853d33f8d4bdec8': 1,\n",
       " u'964787ed091fc13a112cdabef5dae59c': 1,\n",
       " u'18a4d2fa78206ab960189b755f856589': 2,\n",
       " u'742be2732236b13bb89d7004bf9a2040': 1,\n",
       " u'9ce18e20b743fe7b65e0bf079803dd49': 1,\n",
       " u'6e53b54317def1a6fb718e996d758022': 1,\n",
       " u'b77bd177572ea1f9e1c95ff7a8c796b5': 2,\n",
       " u'161b5d5e262d618d93e0d8e1d4d44893': 1,\n",
       " u'3c6f244a3c1daa2306d453a7fc1e10f1': 1,\n",
       " u'd068fe5d5c8b50498ba13d9fea708442': 1,\n",
       " u'e17dc31bfc99c731b8035f5bf2ce8d41': 1,\n",
       " u'62726b5ca8623cfac286fa239d618c46': 1,\n",
       " u'4b4f40ca4e0a080de1bc7baf231b72ab': 45,\n",
       " u'22ff555aa3fecf7272fc57e8e51af879': 1,\n",
       " u'efd6936152286a48c89ab17133c8ad0e': 1,\n",
       " u'b8cf1c3031e0ed24d80c4ba4d9d5c11a': 1,\n",
       " u'183e02b81b9900d8194bf78bef718496': 1,\n",
       " u'fc07e7147ec32c2497b8634985945085': 1,\n",
       " u'40cb9bc129a7861961e04f949ff34321': 2,\n",
       " u'eefe263e72c15ba11eaa6d65b50f0e82': 1,\n",
       " u'f661f2ee95b0aeba3e55639999dc0451': 1,\n",
       " u'0abbcf81e05097c8c53a66b528d9074a': 1,\n",
       " u'6c2723e356e692601fcbbff62b7de3ce': 1,\n",
       " u'5f6470a4762c24fe58b5a1de1ef90a4c': 3,\n",
       " u'c7b8eb41bc9f1f44b57f35dab782eabd': 1,\n",
       " u'aa6bdd2e8f6cedd1a70a5b596a428b2c': 3,\n",
       " u'03170361ed00fe82b960c9f03ccee2c6': 58,\n",
       " u'215e909ccb7fbc8d64ea8d640ce154ae': 1,\n",
       " u'6692e3d7daa1c6bd362d238438c6743d': 1,\n",
       " u'abcc04bd7c1b8797aba8446b6d0c074b': 1,\n",
       " u'77427e21176de57902d5414fafb183fa': 1,\n",
       " u'fe02a365b78f0b9a1ca43ae5e3d46944': 1,\n",
       " u'defe7a9f9a4a0c30ebbad0e787804749': 1,\n",
       " u'9d7a4267a7c94f26ff44e0003fbb72c3': 1,\n",
       " u'b29d93967ed9c6e7404a7b7896ee12b6': 2,\n",
       " u'903df4e5a330d5a93609b44d67d2935f': 1,\n",
       " u'f09f7ef1659e3433819d041d8553593e': 2,\n",
       " u'fd23d2f11dca5b694f980c65fa5e3824': 1,\n",
       " u'f2a06931f41c7242a29a5158b932921d': 1,\n",
       " u'134ddb226108e46ab3f0be920fe3e7ac': 1,\n",
       " u'd75d30eedab6e269f27d71a5faa57bd2': 2,\n",
       " u'0de455634a43f6aed5300fdf945cf610': 2,\n",
       " u'd4cb0bfe92ea162f24cc13223b40f69d': 2,\n",
       " u'3749dd6c88a41eb9ec76ebef9696dace': 1,\n",
       " u'3f87d1140764a0a0eb0dec1ec7e68f0a': 1,\n",
       " u'8d402eac5eb1165bbf64c22d25b2e51f': 1,\n",
       " u'94f4f9947a9bea65001420153f0ce717': 1,\n",
       " u'00cb9ac20a379e9d16a886744e4a87b4': 1,\n",
       " u'71e650fbd4f43cc638c63cfef61047b5': 4,\n",
       " u'701a7c2393656f72c9227d05e2d8dc5c': 1,\n",
       " u'2d9ca81c337c1c78ff4d0ec5195dbb84': 1,\n",
       " u'8b6c7e82b340cd5ee8a4e8cba4f6203b': 1,\n",
       " u'f3f6167f1b21a5efe1ab60fdea965e95': 1,\n",
       " u'e7aa779d03f09f42cc84a109e49386ea': 1,\n",
       " u'50db23d194eb8d69202b4da12e190a39': 9,\n",
       " u'd015828e985be373e5680b0f12397f43': 1,\n",
       " u'61a3cda7fc957583b86f40c69496d06d': 1,\n",
       " u'aa0aa105dc3ae92fc7c5139e54efdd45': 1,\n",
       " u'd30b6bf25953ec7562796dcf32eb9962': 1,\n",
       " u'981b498409c0d49fea0b01b8a4c4cd56': 1,\n",
       " u'4bebe8105003bc348e983fb040e9b9c1': 1,\n",
       " u'e203f15ef42d24c7ee3f74b710860089': 1,\n",
       " u'00df89fed8ffa8ae5b6ba010ef520c48': 1,\n",
       " u'1daf4333ca1c28b18da8eb787821972d': 3,\n",
       " u'939ed76577f0a761a54ff050e0a4b410': 1,\n",
       " u'c588d0a53b9a43e6ac0e4b70d641b099': 1,\n",
       " u'97b9c8fc314c692b9474e6bdfefa366b': 5,\n",
       " u'b99920cb8a0fb35dee4462cae506a524': 1,\n",
       " u'5549f45cdda92182dcc3df08075289cf': 1,\n",
       " u'b502a1cd52a511c2f89e0c5176ba1812': 1,\n",
       " u'4565cadbf37d429189d4dc8f99cf6932': 1,\n",
       " u'682bc3a97a0f4e63dd8d7a6a350c84a9': 17,\n",
       " u'464c80c2d8029f713e2d5e81de5d544b': 27,\n",
       " u'73510c532d8be0bd9fbb14aaf3167bad': 1,\n",
       " u'44078be1aebaeab9da51bd1815f12c52': 1,\n",
       " u'68714282c0189f5476a89206cf54314c': 1,\n",
       " u'6069214185a9327bf08667dadd371759': 1,\n",
       " u'96872d526a267fd6132fbd8d0e138927': 3,\n",
       " u'ba7a951f3664cbcda937d8016aab293c': 1,\n",
       " u'4c784636875ecaeb95000e7a90e49026': 1,\n",
       " u'af685267f19c9364601d648f9c483042': 1,\n",
       " u'844f7eebecc09eafaea07ae8fc3f2547': 1,\n",
       " u'ec677e25c5595df7035d2e71669b24b2': 1,\n",
       " u'494cae166e7a6b50d3ca20ded742519e': 1,\n",
       " u'78bd08f3439255bfaeb53920307508ab': 1,\n",
       " u'5e4c7226bbddf279f2af51c6bd944104': 1,\n",
       " u'30f2381a046b6fbf4c1d2f38ac7f2d5b': 1,\n",
       " u'5e152f7e577a5f03bace4c38586a2857': 1,\n",
       " u'b2f192024f3b8fd83ff5cb6790bfdaff': 8,\n",
       " u'516f27792bee19232162a23400e8639d': 1,\n",
       " u'e6955566130faeeb8702852ad68fdb2b': 1,\n",
       " u'73f1e1d9cc46257e19be8162d136b685': 1,\n",
       " u'a6a3002ca8b41fe08ef0f7c1e8dd09b6': 12,\n",
       " u'7d72a74efa3946b40f3e01b2d8823912': 1,\n",
       " u'a88221fcf59008c0012e0ffa13d4c456': 2,\n",
       " u'5c5650fe0f584c39b1c94b6393925b68': 1,\n",
       " u'9af2d7ef06a6f331480f1914aa51dfb3': 1,\n",
       " u'ed46a7af602ae8764254df488662e989': 3,\n",
       " u'b67e89a342f0842f8ceab14aac1fbf88': 1,\n",
       " u'96d673372a795a85cd137675b1cfa6a6': 1,\n",
       " u'd5989a1b9ed98808ff85be24d5a16049': 2,\n",
       " u'e5050f8efb7c0a97518436dd67ddced0': 1,\n",
       " u'3c95e2079af5cc9c9351b804bf441df1': 1,\n",
       " u'5932177283585ddbbf7bfbeb658ca141': 1,\n",
       " u'f88ac7acdc23414e1c796dea9eea2e65': 1,\n",
       " u'25eb9a5fb229b52e698c646c595152a4': 1,\n",
       " u'23491dd34fdad7275886be66e2d26a58': 1,\n",
       " u'110e6198398154c0dfe56c2f1350b2e8': 9,\n",
       " u'a15c5774c71557ff78108297dadb70c4': 2,\n",
       " u'd971a9d6dfea7e4c6556434346348973': 1,\n",
       " u'bd235cd6fea4edf0a72419ddade689bc': 1,\n",
       " u'3bf87b616161a157423934fce8f025ec': 1,\n",
       " u'c37041c4efaf428e7e170968e79273c1': 1,\n",
       " u'c8640cfac5f9a0e90e1afbb059fb4a86': 1,\n",
       " u'ffd6795fd695c9ea9bbdb2bc4f0818ed': 1,\n",
       " u'325b1457e758b49fe7bd63f09d3542c4': 1,\n",
       " u'e3beb58ea5c2de52c5c54e93a29d10d8': 2,\n",
       " u'2900da59fd00bf79f26a009e2ea0d87d': 1,\n",
       " u'30c9e12dc3986508ad86e03788448efc': 1,\n",
       " u'cfef39d99dd73237ec3ae430d251b78a': 2,\n",
       " u'1f693de9fe9af4d40425200e9370856b': 1,\n",
       " u'23c91e391096740b4b815e412208aff8': 31,\n",
       " u'c506aea437eda8e05c0a19c100d81b40': 1,\n",
       " u'77a7fe97d80c7628c7ade594d394c476': 1,\n",
       " u'd8ce5847646e87c773ee1052e6394bcc': 1,\n",
       " u'502b3cf5806ef3a61bdf97c9c0e2741d': 1,\n",
       " u'11cd4a0bebff4add0f419613e9820a85': 1,\n",
       " u'049907fb1905ff9f84b8719ff0a70668': 1,\n",
       " u'073d74234f53251341bd58ac3425ad3e': 1,\n",
       " u'1226e478d8b1f4dc22cc789d9f6f2a87': 1,\n",
       " u'cbc6e43399c77fe3920dc088accd9448': 6,\n",
       " u'b18efe0f0ea2b102bcd14d183c443798': 4,\n",
       " u'9b953841ee062818ef029f92deb48478': 1,\n",
       " u'38da3c7b24deffe20e2437d2a5c882bc': 1,\n",
       " u'8e8813f696a781b60d44f1dbc325715a': 1,\n",
       " u'965822bdc1f70221d9b330d5c2aac095': 3,\n",
       " u'6accf472a8f3f0699f389ea8a558dff3': 1,\n",
       " u'26f89736555a6f2e8a0e14af7ad3ea7d': 1,\n",
       " u'a7197dcba22349696783b1156d327418': 1,\n",
       " u'598a4d067db08ec0924082f26ced5191': 1,\n",
       " u'fecc0215411f6c33a1fb7c9ad7142507': 1,\n",
       " u'fb3e7d42b2fca42303408611c5571d71': 1,\n",
       " u'a617bc2ccfedc4e4ba170dc2c4f2676b': 1,\n",
       " u'a6d81184c66ebada0f338e6c2df6a676': 1,\n",
       " u'd9bbee1ee2ebf73e36118c86bbece049': 9,\n",
       " u'98ac9932ff60fe582691755783e303dd': 2,\n",
       " u'3601162f4b9e12a0c0e86ef5da326ad5': 1,\n",
       " u'966e7386bc6933692e0e5f894e8cb380': 1,\n",
       " u'cf28bb67a3039da3ecccb0f32491b455': 1,\n",
       " u'bb83db46ab4687bf95c986e06feeb864': 1,\n",
       " u'9a06bf70845e4cb3c40af27b07b1dbfb': 1,\n",
       " u'a233a5aa42b54061ca748a13c206b754': 1,\n",
       " u'043a6683382d483b82c42476f8527c28': 1,\n",
       " u'16e331a396c62e1d8b3a3b7091201f87': 1,\n",
       " u'14f3adcfc5e511803ab89b28fc0b8956': 1,\n",
       " u'fb3ef1383facfcf3d454b0cb92f2a08d': 1,\n",
       " u'0c6bb9dad27e1872e8594b5b62b20a9a': 1,\n",
       " u'2df43b78ac5515cd629322f53d65fd36': 1,\n",
       " u'447890c367e96913b9e236f4bfeb7deb': 2,\n",
       " u'087611aa41b7b63b354afaeaf55eae42': 1,\n",
       " u'9c60877ce34e81f1721942aa8fca6449': 1,\n",
       " u'59b1461b3df72bd498093b2f7847d859': 1,\n",
       " u'1390396a9b265ba6b25f3067a28c2e1c': 1,\n",
       " u'fc1b0e543edf5440f690abce18a13bd6': 1,\n",
       " u'f9dc40829de9769e143c379935671fa3': 1,\n",
       " u'18fd0061f2725e85c26bb5b2b30125c3': 1,\n",
       " u'df174ad8eb8b120cbf8f329e8aafea25': 2,\n",
       " u'23fdebca7cf0026238ab281fc4a91579': 2,\n",
       " u'e2dc2316d586ec71df80682369a00002': 1,\n",
       " u'c5a05826f45ae6da23c5fba1f4306cdb': 1,\n",
       " u'2e412288a682e548d93bbd7428b355db': 1,\n",
       " u'd0286efa46726661f454c5a4085e2e8c': 2,\n",
       " u'78bd457f4e0cdde98c4081d167b83212': 1,\n",
       " u'cea066469cb4b9af484fcfbf3a122477': 1,\n",
       " u'6fd3bdb92bc158e009481fb59c1a2419': 6,\n",
       " u'd737455b6b32ed94f8009d3a0e57d5f3': 1,\n",
       " u'0093eb9aa23996f22fcbc844354083a3': 1,\n",
       " u'c50fd5cf66d8f9178b00eacb865f128c': 1,\n",
       " u'eff9ab96482a689fd47b5c2dc37596ac': 1,\n",
       " u'4706eede0f2d1c4a843acb40f32e7c5e': 1,\n",
       " u'4b4021968c45c5a81b81030f965a1363': 1,\n",
       " u'54c6ab6d076385ccf641fbb52ed60725': 2,\n",
       " u'1b30ed348f7818243f82e1cff66f3e08': 1,\n",
       " u'11c2541951be6dfefeb01dc3c9c8ffd8': 1,\n",
       " u'e05acbe828c4908cce8f13bffa762e12': 1,\n",
       " u'284cd7189827b10d0726013de5dac482': 2,\n",
       " u'7615aa9254e55db061deabdcd2d7b360': 1,\n",
       " u'b29ff2b49cf995fb0c309ce102675b54': 2,\n",
       " u'4c2463be39393fec17ac3ac8bb713edd': 98,\n",
       " u'cf5edef14e11f71fef7e1632c2e8c360': 1,\n",
       " u'f36ab021fe16fb9e1ea9f642deb81875': 1,\n",
       " u'd61b45dd533254d6afe200bb54000287': 2,\n",
       " u'a6f6b6f1a960f8461e31c715de157af2': 1,\n",
       " u'caebeab4cbf4ff595020dbd39e1c07d2': 1,\n",
       " u'd551fdc183fe9d8c09c72a99386d17a9': 1,\n",
       " u'f2f28aa4076781e439293e938fb76975': 2,\n",
       " u'd1cfc062ecfa73ce23aac15f87f6f84c': 3,\n",
       " u'39430dd227dd7416f76623a12e13c68a': 1,\n",
       " u'11fc5a534c06e8d77c5d9091f4d3daab': 1,\n",
       " u'4d0f36fbe28fce5bd9773192d7bbdc77': 1,\n",
       " u'a05fe3dbe1da511408515ada21d63a3d': 1,\n",
       " u'3d64847c3aa9b5dfc0eb6ebae53ebb89': 1,\n",
       " u'df7674aef256e0dc25b84bb47feb79c3': 1,\n",
       " u'ba9e1d1e59ac85320aac0b9361674bdd': 1,\n",
       " u'0bbc45454ff7544dc47ffb24c8b7c9be': 1,\n",
       " u'b9fac585b372c567204a07cc4f37c457': 2,\n",
       " u'793f67cc8d011a06b3148f1f244aeb1c': 2,\n",
       " u'1f0490e0b6bb981b20afbb8ef5753c43': 3,\n",
       " u'a8f8f90ccdb93dbf037e43dee155ef60': 1,\n",
       " u'51a7503be5ee83be0fca5c8274e2ab6b': 1,\n",
       " u'ac1040a82bd574e12ec6a15ebaf6c2a8': 1,\n",
       " u'22bb3cc6499c9dae7db14627241c3454': 1,\n",
       " u'3a4dfb3665ed541f36fd9cec154fbcab': 1,\n",
       " u'973f65c7ad845159260a42d3ba45abc4': 1,\n",
       " u'64c2eb3abbed2418a6b3b70aa49fce35': 19,\n",
       " u'98ddb8d61373e023d04e2835f5aeb9e7': 1,\n",
       " u'08e152edc2b963568efe103a1931fd09': 1,\n",
       " u'aebfc283dc9e2057af16b6cd3def9e19': 1,\n",
       " u'28b3839c62a629f7778b5acbc0c78a3a': 1,\n",
       " u'cb43002f0d8fe3d76052af3bdcecb2a8': 1,\n",
       " u'21bf2591e1681856b6577d5c93ebfc4d': 1,\n",
       " u'a970cb53fa98e7e69af17dc46678e7fe': 1,\n",
       " u'f1018d97b95e1ff6ab293ffcf3af625c': 4,\n",
       " u'497ab1d596c2c63230e758f56a2b2e09': 1,\n",
       " u'27384d165c387da6c3616fb7ce948655': 2,\n",
       " u'c21a4aa505c11de49f404a8a4f5ce9d3': 1,\n",
       " u'd1dddea47ae3de2dece292a14f407141': 1,\n",
       " u'5b415c204aea841770ae9f7074fc9655': 1,\n",
       " u'f69b4dda4e3d5c2d5fe4c31876a01755': 102,\n",
       " u'c2459edbfbb523484ff3c7dafee9e76d': 2,\n",
       " u'ec3f4dbe9e344c183ae2d2406faa9cb4': 2,\n",
       " u'a7a7d17c1b92c7e5de11e5f0e5ec552a': 2,\n",
       " u'199c0233648ee65a8dd4444b5b1219f4': 1,\n",
       " u'93031a2719bd6d67d405ff061b0d38c0': 1,\n",
       " u'3fe8ccaf56c61235ef0212f77c3411de': 1,\n",
       " u'a310d4e589059eb1c0885986688ce13e': 1,\n",
       " u'742974fcf729e5e719579d4f7114b79b': 1,\n",
       " u'29a0949ba4cf3d7421252b9f4dadcdb0': 1,\n",
       " u'e21a1a28aeda019d492fa3809bd6afdb': 3,\n",
       " u'd86defd80f08f38483b44688744c0c0d': 1,\n",
       " u'67f46563a3e13685f8ab2e77108c1615': 1,\n",
       " u'edc997a70d9fc16112ca10a92c4565ae': 1,\n",
       " u'45809e93d52d9d951f10cfc262b4e1c4': 1,\n",
       " u'8d5110aee3237dd2bcadda0a2f3b1a91': 1,\n",
       " u'97c4ad39c0143bd4560f8f921c632634': 1,\n",
       " u'2ed246623da1cd9826c74fd59e507148': 1,\n",
       " u'b0515fdedea7d52a458d632cc8f761a8': 1,\n",
       " u'519e6cfa617cec89c0a39b921d3cc1ba': 1,\n",
       " u'f4c2e41e7d60e22ceac421a68c492214': 1,\n",
       " u'c0510850f7b7218b4f5d370b56caf473': 1,\n",
       " u'f4ae4c468bdaa7e3e954eb4791bd726c': 1,\n",
       " u'e3abb162ffc3b26b90ef260879e502aa': 1,\n",
       " u'af530057e9acbb3e36812b4b17b226da': 1,\n",
       " u'953e8f08701351e5e482e30e1007dfcd': 1,\n",
       " u'17d14b81579d1c48ce232f7ae4f85824': 1,\n",
       " u'8ca73cc3ced83d038fc92e22aa289dec': 1,\n",
       " u'1e0bd865049c35ee85c8dc0b358e5f5d': 1,\n",
       " u'd661f1271cd944329f44a0fc48c1813f': 1,\n",
       " u'862d66411380f10bfc3360fb10021e7f': 1,\n",
       " u'00ff7a9bb7691fef3f5947cafb6a2352': 1,\n",
       " u'2433421172b638a694cd0afaa3d7caf9': 1,\n",
       " u'59e7b2ec96fa077460284f196f6688fb': 1,\n",
       " u'50cb95ee0b33429b43c458f93f19ae56': 4,\n",
       " u'9ac75dc408da95472081ab21d0aab3bf': 2,\n",
       " u'eeeb18a3bfb1adf571b7bf63dcaac7e7': 1,\n",
       " u'2906c02eeb474285f5ce92bb2c023db0': 1,\n",
       " u'cf3a704c39868aebe4ce1b64d8f1c7d1': 11,\n",
       " u'54ef077fa797b893c361557888d94cfd': 1,\n",
       " u'a0ec98dd2b9d7e87248b4b56898b8363': 5,\n",
       " u'4ad873c58aa016ee426887782969d698': 1,\n",
       " u'92b192dca51cefb69b0428ac787c4892': 1,\n",
       " u'544e41d1c643b272d231f869d219e0b8': 4,\n",
       " u'65bc2ac40f90c55ad69aca17dd17285b': 1,\n",
       " u'd0c8bb9adf80eb6de087325cd83d0a09': 1,\n",
       " u'077baf78ad0b0b439b934a788482db65': 1,\n",
       " u'23277cb6276971950a3cf45d683b8123': 1,\n",
       " u'302168090e669a884327809754651346': 1,\n",
       " u'79ce2e91b63442591741de0f60791762': 4,\n",
       " u'26c8b3043acae9c5eb7aee8f6d7b96df': 2,\n",
       " ...}"
      ]
     },
     "execution_count": 46,
     "metadata": {},
     "output_type": "execute_result"
    }
   ],
   "source": [
    "entities_docs_counts"
   ]
  },
  {
   "cell_type": "code",
   "execution_count": 137,
   "metadata": {},
   "outputs": [
    {
     "data": {
      "text/html": [
       "\n",
       "          <script src=\"/static/components/requirejs/require.js\"></script>\n",
       "          <script>\n",
       "            requirejs.config({\n",
       "              paths: {\n",
       "                base: '/static/base',\n",
       "              },\n",
       "            });\n",
       "          </script>\n",
       "          "
      ],
      "text/plain": [
       "<IPython.core.display.HTML object>"
      ]
     },
     "metadata": {},
     "output_type": "display_data"
    }
   ],
   "source": [
    "with open('entities_docs_counts.pickle', 'wb') as output:\n",
    "    pickle.dump(entities_docs_counts, output)"
   ]
  },
  {
   "cell_type": "markdown",
   "metadata": {},
   "source": [
    "# event"
   ]
  },
  {
   "cell_type": "code",
   "execution_count": 47,
   "metadata": {},
   "outputs": [
    {
     "data": {
      "text/html": [
       "\n",
       "          <script src=\"/static/components/requirejs/require.js\"></script>\n",
       "          <script>\n",
       "            requirejs.config({\n",
       "              paths: {\n",
       "                base: '/static/base',\n",
       "              },\n",
       "            });\n",
       "          </script>\n",
       "          "
      ],
      "text/plain": [
       "<IPython.core.display.HTML object>"
      ]
     },
     "metadata": {},
     "output_type": "display_data"
    }
   ],
   "source": [
    "truncate_day_from_timestamp_udf = F.udf(lambda ts: int(ts / 1000 / 60 / 60 / 24), IntegerType())"
   ]
  },
  {
   "cell_type": "code",
   "execution_count": 48,
   "metadata": {},
   "outputs": [
    {
     "data": {
      "text/html": [
       "\n",
       "          <script src=\"/static/components/requirejs/require.js\"></script>\n",
       "          <script>\n",
       "            requirejs.config({\n",
       "              paths: {\n",
       "                base: '/static/base',\n",
       "              },\n",
       "            });\n",
       "          </script>\n",
       "          "
      ],
      "text/plain": [
       "<IPython.core.display.HTML object>"
      ]
     },
     "metadata": {},
     "output_type": "display_data"
    }
   ],
   "source": [
    "extract_country_udf = F.udf(lambda geo: geo.strip()[:2] if geo != None else '', StringType())"
   ]
  },
  {
   "cell_type": "code",
   "execution_count": 49,
   "metadata": {},
   "outputs": [
    {
     "data": {
      "text/html": [
       "\n",
       "          <script src=\"/static/components/requirejs/require.js\"></script>\n",
       "          <script>\n",
       "            requirejs.config({\n",
       "              paths: {\n",
       "                base: '/static/base',\n",
       "              },\n",
       "            });\n",
       "          </script>\n",
       "          "
      ],
      "text/plain": [
       "<IPython.core.display.HTML object>"
      ]
     },
     "metadata": {},
     "output_type": "display_data"
    }
   ],
   "source": [
    "events_schema = StructType(\n",
    "                    [StructField(\"display_id\", IntegerType(), True),\n",
    "                    StructField(\"uuid_event\", StringType(), True),                    \n",
    "                    StructField(\"document_id_event\", IntegerType(), True),\n",
    "                    StructField(\"timestamp_event\", IntegerType(), True),\n",
    "                    StructField(\"platform_event\", IntegerType(), True),\n",
    "                    StructField(\"geo_location_event\", StringType(), True)]\n",
    "                    )\n",
    "\n",
    "events_df = spark.read.schema(events_schema).options(header='true', inferschema='false', nullValue='\\\\N') \\\n",
    "                    .csv(DATA_BUCKET_FOLDER+\"events.csv\") \\\n",
    "                    .withColumn('dummyEvents', F.lit(1)) \\\n",
    "                    .withColumn('day_event', truncate_day_from_timestamp_udf('timestamp_event')) \\\n",
    "                    .withColumn('event_country', extract_country_udf('geo_location_event')) \\\n",
    "                    .alias('events')"
   ]
  },
  {
   "cell_type": "code",
   "execution_count": 50,
   "metadata": {},
   "outputs": [
    {
     "data": {
      "text/html": [
       "\n",
       "          <script src=\"/static/components/requirejs/require.js\"></script>\n",
       "          <script>\n",
       "            requirejs.config({\n",
       "              paths: {\n",
       "                base: '/static/base',\n",
       "              },\n",
       "            });\n",
       "          </script>\n",
       "          "
      ],
      "text/plain": [
       "<IPython.core.display.HTML object>"
      ]
     },
     "metadata": {},
     "output_type": "display_data"
    },
    {
     "name": "stdout",
     "output_type": "stream",
     "text": [
      "(23120126, 9)\n"
     ]
    }
   ],
   "source": [
    "print((events_df.count(), len(events_df.columns)))"
   ]
  },
  {
   "cell_type": "code",
   "execution_count": 51,
   "metadata": {},
   "outputs": [
    {
     "data": {
      "text/html": [
       "\n",
       "          <script src=\"/static/components/requirejs/require.js\"></script>\n",
       "          <script>\n",
       "            requirejs.config({\n",
       "              paths: {\n",
       "                base: '/static/base',\n",
       "              },\n",
       "            });\n",
       "          </script>\n",
       "          "
      ],
      "text/plain": [
       "<IPython.core.display.HTML object>"
      ]
     },
     "metadata": {},
     "output_type": "display_data"
    },
    {
     "name": "stdout",
     "output_type": "stream",
     "text": [
      "+----------+--------------+-----------------+---------------+--------------+------------------+-----------+---------+-------------+\n",
      "|display_id|    uuid_event|document_id_event|timestamp_event|platform_event|geo_location_event|dummyEvents|day_event|event_country|\n",
      "+----------+--------------+-----------------+---------------+--------------+------------------+-----------+---------+-------------+\n",
      "|         1|cb8c55702adb93|           379743|             61|             3|         US>SC>519|          1|        0|           US|\n",
      "|         2|79a85fa78311b9|          1794259|             81|             2|         US>CA>807|          1|        0|           US|\n",
      "|         3|822932ce3d8757|          1179111|            182|             2|         US>MI>505|          1|        0|           US|\n",
      "|         4|85281d0a49f7ac|          1777797|            234|             2|         US>WV>564|          1|        0|           US|\n",
      "|         5|8d0daef4bf5b56|           252458|            338|             2|             SG>00|          1|        0|           SG|\n",
      "|         6|7765b4faae4ad4|          1773517|            395|             3|         US>OH>510|          1|        0|           US|\n",
      "|         7|2cc3f6457d16da|          1149661|            602|             2|         US>MT>762|          1|        0|           US|\n",
      "|         8|166fc654d73c98|          1330329|            638|             2|         US>PA>566|          1|        0|           US|\n",
      "|         9|9dddccf70f6067|          1772126|            667|             1|         US>FL>528|          1|        0|           US|\n",
      "|        10|b09a0e92aa4d17|           157455|            693|             1|                US|          1|        0|           US|\n",
      "+----------+--------------+-----------------+---------------+--------------+------------------+-----------+---------+-------------+\n",
      "only showing top 10 rows\n",
      "\n"
     ]
    }
   ],
   "source": [
    "events_df.show(10)"
   ]
  },
  {
   "cell_type": "code",
   "execution_count": 52,
   "metadata": {},
   "outputs": [
    {
     "data": {
      "text/html": [
       "\n",
       "          <script src=\"/static/components/requirejs/require.js\"></script>\n",
       "          <script>\n",
       "            requirejs.config({\n",
       "              paths: {\n",
       "                base: '/static/base',\n",
       "              },\n",
       "            });\n",
       "          </script>\n",
       "          "
      ],
      "text/plain": [
       "<IPython.core.display.HTML object>"
      ]
     },
     "metadata": {},
     "output_type": "display_data"
    },
    {
     "name": "stdout",
     "output_type": "stream",
     "text": [
      "+-----------+--------+\n",
      "|dummyEvents|count   |\n",
      "+-----------+--------+\n",
      "|1          |23120126|\n",
      "+-----------+--------+\n",
      "\n"
     ]
    }
   ],
   "source": [
    "events_df.groupBy('dummyEvents').count().show(20, False)"
   ]
  },
  {
   "cell_type": "code",
   "execution_count": 53,
   "metadata": {},
   "outputs": [
    {
     "data": {
      "text/html": [
       "\n",
       "          <script src=\"/static/components/requirejs/require.js\"></script>\n",
       "          <script>\n",
       "            requirejs.config({\n",
       "              paths: {\n",
       "                base: '/static/base',\n",
       "              },\n",
       "            });\n",
       "          </script>\n",
       "          "
      ],
      "text/plain": [
       "<IPython.core.display.HTML object>"
      ]
     },
     "metadata": {},
     "output_type": "display_data"
    },
    {
     "name": "stdout",
     "output_type": "stream",
     "text": [
      "+---------+-------+\n",
      "|day_event|count  |\n",
      "+---------+-------+\n",
      "|12       |1477939|\n",
      "|1        |1516879|\n",
      "|13       |1672275|\n",
      "|6        |1699343|\n",
      "|3        |1486649|\n",
      "|5        |1319657|\n",
      "|9        |1614693|\n",
      "|4        |1310388|\n",
      "|8        |1616280|\n",
      "|7        |1596045|\n",
      "|10       |1583387|\n",
      "|11       |1356708|\n",
      "|14       |1595929|\n",
      "|2        |1573079|\n",
      "|0        |1700875|\n",
      "+---------+-------+\n",
      "\n"
     ]
    }
   ],
   "source": [
    "events_df.groupBy('day_event').count().show(20, False)"
   ]
  },
  {
   "cell_type": "code",
   "execution_count": 54,
   "metadata": {},
   "outputs": [
    {
     "data": {
      "text/html": [
       "\n",
       "          <script src=\"/static/components/requirejs/require.js\"></script>\n",
       "          <script>\n",
       "            requirejs.config({\n",
       "              paths: {\n",
       "                base: '/static/base',\n",
       "              },\n",
       "            });\n",
       "          </script>\n",
       "          "
      ],
      "text/plain": [
       "<IPython.core.display.HTML object>"
      ]
     },
     "metadata": {},
     "output_type": "display_data"
    },
    {
     "name": "stdout",
     "output_type": "stream",
     "text": [
      "+-------------+-----+\n",
      "|event_country|count|\n",
      "+-------------+-----+\n",
      "|LT           |1836 |\n",
      "|DZ           |1410 |\n",
      "|CI           |456  |\n",
      "|TC           |297  |\n",
      "|FI           |13560|\n",
      "|AZ           |474  |\n",
      "|SC           |395  |\n",
      "|PM           |5    |\n",
      "|UA           |2052 |\n",
      "|RO           |10697|\n",
      "|ZM           |4030 |\n",
      "|KI           |18   |\n",
      "|SL           |720  |\n",
      "|NL           |51209|\n",
      "|LA           |270  |\n",
      "|SB           |300  |\n",
      "|BS           |2537 |\n",
      "|MN           |611  |\n",
      "|BW           |2325 |\n",
      "|PS           |530  |\n",
      "+-------------+-----+\n",
      "only showing top 20 rows\n",
      "\n"
     ]
    }
   ],
   "source": [
    "events_df.groupBy('event_country').count().show(20, False)"
   ]
  },
  {
   "cell_type": "code",
   "execution_count": 55,
   "metadata": {},
   "outputs": [
    {
     "data": {
      "text/html": [
       "\n",
       "          <script src=\"/static/components/requirejs/require.js\"></script>\n",
       "          <script>\n",
       "            requirejs.config({\n",
       "              paths: {\n",
       "                base: '/static/base',\n",
       "              },\n",
       "            });\n",
       "          </script>\n",
       "          "
      ],
      "text/plain": [
       "<IPython.core.display.HTML object>"
      ]
     },
     "metadata": {},
     "output_type": "display_data"
    }
   ],
   "source": [
    "events_df.createOrReplaceTempView('events')\n",
    "# createOrReplaceTempView는 현재 메모리가 존재하지 않는 테이블의 임시 뷰를 생성했지만, 그 위에 SQL 쿼리를 실행 할 수 있음"
   ]
  },
  {
   "cell_type": "markdown",
   "metadata": {},
   "source": [
    "# promoted_content"
   ]
  },
  {
   "cell_type": "code",
   "execution_count": 56,
   "metadata": {},
   "outputs": [
    {
     "data": {
      "text/html": [
       "\n",
       "          <script src=\"/static/components/requirejs/require.js\"></script>\n",
       "          <script>\n",
       "            requirejs.config({\n",
       "              paths: {\n",
       "                base: '/static/base',\n",
       "              },\n",
       "            });\n",
       "          </script>\n",
       "          "
      ],
      "text/plain": [
       "<IPython.core.display.HTML object>"
      ]
     },
     "metadata": {},
     "output_type": "display_data"
    }
   ],
   "source": [
    "promoted_content_schema = StructType(\n",
    "                        [StructField(\"ad_id\", IntegerType(), True),\n",
    "                        StructField(\"document_id_promo\", IntegerType(), True),                    \n",
    "                        StructField(\"campaign_id\", IntegerType(), True),\n",
    "                        StructField(\"advertiser_id\", IntegerType(), True)]\n",
    "                        )\n",
    "\n",
    "promoted_content_df = spark.read.schema(promoted_content_schema).options(header='true', inferschema='false', nullValue='\\\\N') \\\n",
    "                    .csv(DATA_BUCKET_FOLDER+\"promoted_content.csv\") \\\n",
    "                    .withColumn('dummyPromotedContent', F.lit(1)).alias('promoted_content')"
   ]
  },
  {
   "cell_type": "code",
   "execution_count": 57,
   "metadata": {},
   "outputs": [
    {
     "data": {
      "text/html": [
       "\n",
       "          <script src=\"/static/components/requirejs/require.js\"></script>\n",
       "          <script>\n",
       "            requirejs.config({\n",
       "              paths: {\n",
       "                base: '/static/base',\n",
       "              },\n",
       "            });\n",
       "          </script>\n",
       "          "
      ],
      "text/plain": [
       "<IPython.core.display.HTML object>"
      ]
     },
     "metadata": {},
     "output_type": "display_data"
    },
    {
     "name": "stdout",
     "output_type": "stream",
     "text": [
      "(559583, 5)\n"
     ]
    }
   ],
   "source": [
    "print((promoted_content_df.count(), len(promoted_content_df.columns)))"
   ]
  },
  {
   "cell_type": "code",
   "execution_count": 58,
   "metadata": {},
   "outputs": [
    {
     "data": {
      "text/html": [
       "\n",
       "          <script src=\"/static/components/requirejs/require.js\"></script>\n",
       "          <script>\n",
       "            requirejs.config({\n",
       "              paths: {\n",
       "                base: '/static/base',\n",
       "              },\n",
       "            });\n",
       "          </script>\n",
       "          "
      ],
      "text/plain": [
       "<IPython.core.display.HTML object>"
      ]
     },
     "metadata": {},
     "output_type": "display_data"
    },
    {
     "name": "stdout",
     "output_type": "stream",
     "text": [
      "+-----+-----------------+-----------+-------------+--------------------+\n",
      "|ad_id|document_id_promo|campaign_id|advertiser_id|dummyPromotedContent|\n",
      "+-----+-----------------+-----------+-------------+--------------------+\n",
      "|    1|             6614|          1|            7|                   1|\n",
      "|    2|           471467|          2|            7|                   1|\n",
      "|    3|             7692|          3|            7|                   1|\n",
      "|    4|           471471|          2|            7|                   1|\n",
      "|    5|           471472|          2|            7|                   1|\n",
      "|    6|            12736|          1|            7|                   1|\n",
      "|    7|            12808|          1|            7|                   1|\n",
      "|    8|           471477|          2|            7|                   1|\n",
      "|    9|            13379|          1|            7|                   1|\n",
      "|   10|            13885|          1|            7|                   1|\n",
      "+-----+-----------------+-----------+-------------+--------------------+\n",
      "only showing top 10 rows\n",
      "\n"
     ]
    }
   ],
   "source": [
    "promoted_content_df.show(10)"
   ]
  },
  {
   "cell_type": "code",
   "execution_count": 59,
   "metadata": {},
   "outputs": [
    {
     "data": {
      "text/html": [
       "\n",
       "          <script src=\"/static/components/requirejs/require.js\"></script>\n",
       "          <script>\n",
       "            requirejs.config({\n",
       "              paths: {\n",
       "                base: '/static/base',\n",
       "              },\n",
       "            });\n",
       "          </script>\n",
       "          "
      ],
      "text/plain": [
       "<IPython.core.display.HTML object>"
      ]
     },
     "metadata": {},
     "output_type": "display_data"
    },
    {
     "name": "stdout",
     "output_type": "stream",
     "text": [
      "+--------------------+------+\n",
      "|dummyPromotedContent|count |\n",
      "+--------------------+------+\n",
      "|1                   |559583|\n",
      "+--------------------+------+\n",
      "\n"
     ]
    }
   ],
   "source": [
    "promoted_content_df.groupBy('dummyPromotedContent').count().show(20, False)"
   ]
  },
  {
   "cell_type": "markdown",
   "metadata": {},
   "source": [
    "# clicks_test"
   ]
  },
  {
   "cell_type": "code",
   "execution_count": 60,
   "metadata": {},
   "outputs": [
    {
     "data": {
      "text/html": [
       "\n",
       "          <script src=\"/static/components/requirejs/require.js\"></script>\n",
       "          <script>\n",
       "            requirejs.config({\n",
       "              paths: {\n",
       "                base: '/static/base',\n",
       "              },\n",
       "            });\n",
       "          </script>\n",
       "          "
      ],
      "text/plain": [
       "<IPython.core.display.HTML object>"
      ]
     },
     "metadata": {},
     "output_type": "display_data"
    }
   ],
   "source": [
    "clicks_test_schema = StructType(\n",
    "                        [StructField(\"display_id\", IntegerType(), True),\n",
    "                        StructField(\"ad_id\", IntegerType(), True)]\n",
    "                        )\n",
    "\n",
    "clicks_test_df = spark.read.schema(clicks_test_schema).options(header='true', inferschema='false', nullValue='\\\\N') \\\n",
    "                    .csv(DATA_BUCKET_FOLDER+\"clicks_test.csv\") \\\n",
    "                    .withColumn('dummyClicksTest', F.lit(1)).alias('clicks_test')"
   ]
  },
  {
   "cell_type": "code",
   "execution_count": 61,
   "metadata": {},
   "outputs": [
    {
     "data": {
      "text/html": [
       "\n",
       "          <script src=\"/static/components/requirejs/require.js\"></script>\n",
       "          <script>\n",
       "            requirejs.config({\n",
       "              paths: {\n",
       "                base: '/static/base',\n",
       "              },\n",
       "            });\n",
       "          </script>\n",
       "          "
      ],
      "text/plain": [
       "<IPython.core.display.HTML object>"
      ]
     },
     "metadata": {},
     "output_type": "display_data"
    },
    {
     "name": "stdout",
     "output_type": "stream",
     "text": [
      "(32225162, 3)\n"
     ]
    }
   ],
   "source": [
    "print((clicks_test_df.count(), len(clicks_test_df.columns)))"
   ]
  },
  {
   "cell_type": "code",
   "execution_count": 62,
   "metadata": {},
   "outputs": [
    {
     "data": {
      "text/html": [
       "\n",
       "          <script src=\"/static/components/requirejs/require.js\"></script>\n",
       "          <script>\n",
       "            requirejs.config({\n",
       "              paths: {\n",
       "                base: '/static/base',\n",
       "              },\n",
       "            });\n",
       "          </script>\n",
       "          "
      ],
      "text/plain": [
       "<IPython.core.display.HTML object>"
      ]
     },
     "metadata": {},
     "output_type": "display_data"
    },
    {
     "name": "stdout",
     "output_type": "stream",
     "text": [
      "+----------+------+---------------+\n",
      "|display_id| ad_id|dummyClicksTest|\n",
      "+----------+------+---------------+\n",
      "|  16874594| 66758|              1|\n",
      "|  16874594|150083|              1|\n",
      "|  16874594|162754|              1|\n",
      "|  16874594|170392|              1|\n",
      "|  16874594|172888|              1|\n",
      "|  16874594|180797|              1|\n",
      "|  16874595|  8846|              1|\n",
      "|  16874595| 30609|              1|\n",
      "|  16874595|143982|              1|\n",
      "|  16874596| 11430|              1|\n",
      "+----------+------+---------------+\n",
      "only showing top 10 rows\n",
      "\n"
     ]
    }
   ],
   "source": [
    "clicks_test_df.show(10)"
   ]
  },
  {
   "cell_type": "code",
   "execution_count": 63,
   "metadata": {},
   "outputs": [
    {
     "data": {
      "text/html": [
       "\n",
       "          <script src=\"/static/components/requirejs/require.js\"></script>\n",
       "          <script>\n",
       "            requirejs.config({\n",
       "              paths: {\n",
       "                base: '/static/base',\n",
       "              },\n",
       "            });\n",
       "          </script>\n",
       "          "
      ],
      "text/plain": [
       "<IPython.core.display.HTML object>"
      ]
     },
     "metadata": {},
     "output_type": "display_data"
    },
    {
     "name": "stdout",
     "output_type": "stream",
     "text": [
      "+---------------+--------+\n",
      "|dummyClicksTest|count   |\n",
      "+---------------+--------+\n",
      "|1              |32225162|\n",
      "+---------------+--------+\n",
      "\n"
     ]
    }
   ],
   "source": [
    "clicks_test_df.groupBy('dummyClicksTest').count().show(20, False)"
   ]
  },
  {
   "cell_type": "code",
   "execution_count": 64,
   "metadata": {},
   "outputs": [
    {
     "data": {
      "text/html": [
       "\n",
       "          <script src=\"/static/components/requirejs/require.js\"></script>\n",
       "          <script>\n",
       "            requirejs.config({\n",
       "              paths: {\n",
       "                base: '/static/base',\n",
       "              },\n",
       "            });\n",
       "          </script>\n",
       "          "
      ],
      "text/plain": [
       "<IPython.core.display.HTML object>"
      ]
     },
     "metadata": {},
     "output_type": "display_data"
    }
   ],
   "source": [
    "test_set_df = clicks_test_df.join(promoted_content_df, on='ad_id', how='left') \\\n",
    "                                .join(events_df, on='display_id', how='left')\n",
    "        \n",
    "test_set_df.select('uuid_event').distinct().createOrReplaceTempView('users_to_profile') \n",
    "# test_set_df에 uuid_event 중복제거하여, createOrReplaceTempView는 현재 메모리가 존재하지 않는 테이블의 임시 뷰를 생성했지만, 그 위에 SQL 쿼리를 실행\n",
    "\n",
    "test_set_df.select('uuid_event','document_id_promo', 'timestamp_event').distinct().createOrReplaceTempView('test_users_docs_timestamp_to_ignore')\n",
    "# test_set_df에 uuid_event, document_id_promo, timestamp_event 중복제거하여, \n",
    "# createOrReplaceTempView는 현재 메모리가 존재하지 않는 테이블의 임시 뷰를 생성했지만, 그 위에 SQL 쿼리를 실행"
   ]
  },
  {
   "cell_type": "code",
   "execution_count": 65,
   "metadata": {},
   "outputs": [
    {
     "data": {
      "text/html": [
       "\n",
       "          <script src=\"/static/components/requirejs/require.js\"></script>\n",
       "          <script>\n",
       "            requirejs.config({\n",
       "              paths: {\n",
       "                base: '/static/base',\n",
       "              },\n",
       "            });\n",
       "          </script>\n",
       "          "
      ],
      "text/plain": [
       "<IPython.core.display.HTML object>"
      ]
     },
     "metadata": {},
     "output_type": "display_data"
    },
    {
     "name": "stdout",
     "output_type": "stream",
     "text": [
      "(32225162, 15)\n"
     ]
    }
   ],
   "source": [
    "print((test_set_df.count(), len(test_set_df.columns)))"
   ]
  },
  {
   "cell_type": "code",
   "execution_count": 88,
   "metadata": {},
   "outputs": [
    {
     "data": {
      "text/html": [
       "\n",
       "          <script src=\"/static/components/requirejs/require.js\"></script>\n",
       "          <script>\n",
       "            requirejs.config({\n",
       "              paths: {\n",
       "                base: '/static/base',\n",
       "              },\n",
       "            });\n",
       "          </script>\n",
       "          "
      ],
      "text/plain": [
       "<IPython.core.display.HTML object>"
      ]
     },
     "metadata": {},
     "output_type": "display_data"
    },
    {
     "data": {
      "text/plain": [
       "[Row(display_id=16874807, ad_id=192855, dummyClicksTest=1, document_id_promo=1460834, campaign_id=22748, advertiser_id=622, dummyPromotedContent=1, uuid_event=u'a296494aa7a041', document_id_event=399863, timestamp_event=87414, platform_event=2, geo_location_event=u'AU>02', dummyEvents=1, day_event=0, event_country=u'AU'),\n",
       " Row(display_id=16874807, ad_id=213769, dummyClicksTest=1, document_id_promo=903092, campaign_id=23770, advertiser_id=712, dummyPromotedContent=1, uuid_event=u'a296494aa7a041', document_id_event=399863, timestamp_event=87414, platform_event=2, geo_location_event=u'AU>02', dummyEvents=1, day_event=0, event_country=u'AU'),\n",
       " Row(display_id=16874807, ad_id=192759, dummyClicksTest=1, document_id_promo=1469601, campaign_id=22742, advertiser_id=1975, dummyPromotedContent=1, uuid_event=u'a296494aa7a041', document_id_event=399863, timestamp_event=87414, platform_event=2, geo_location_event=u'AU>02', dummyEvents=1, day_event=0, event_country=u'AU'),\n",
       " Row(display_id=16874807, ad_id=137006, dummyClicksTest=1, document_id_promo=916403, campaign_id=17587, advertiser_id=859, dummyPromotedContent=1, uuid_event=u'a296494aa7a041', document_id_event=399863, timestamp_event=87414, platform_event=2, geo_location_event=u'AU>02', dummyEvents=1, day_event=0, event_country=u'AU'),\n",
       " Row(display_id=16874827, ad_id=144741, dummyClicksTest=1, document_id_promo=1337362, campaign_id=18488, advertiser_id=2909, dummyPromotedContent=1, uuid_event=u'd134b1a0c43628', document_id_event=1754388, timestamp_event=94623, platform_event=1, geo_location_event=u'US>CA>803', dummyEvents=1, day_event=0, event_country=u'US'),\n",
       " Row(display_id=16874827, ad_id=137842, dummyClicksTest=1, document_id_promo=1314063, campaign_id=5118, advertiser_id=1107, dummyPromotedContent=1, uuid_event=u'd134b1a0c43628', document_id_event=1754388, timestamp_event=94623, platform_event=1, geo_location_event=u'US>CA>803', dummyEvents=1, day_event=0, event_country=u'US'),\n",
       " Row(display_id=16874827, ad_id=235104, dummyClicksTest=1, document_id_promo=1587377, campaign_id=25526, advertiser_id=2407, dummyPromotedContent=1, uuid_event=u'd134b1a0c43628', document_id_event=1754388, timestamp_event=94623, platform_event=1, geo_location_event=u'US>CA>803', dummyEvents=1, day_event=0, event_country=u'US'),\n",
       " Row(display_id=16874827, ad_id=64762, dummyClicksTest=1, document_id_promo=942527, campaign_id=5118, advertiser_id=1107, dummyPromotedContent=1, uuid_event=u'd134b1a0c43628', document_id_event=1754388, timestamp_event=94623, platform_event=1, geo_location_event=u'US>CA>803', dummyEvents=1, day_event=0, event_country=u'US'),\n",
       " Row(display_id=16874827, ad_id=257524, dummyClicksTest=1, document_id_promo=1556282, campaign_id=26491, advertiser_id=3190, dummyPromotedContent=1, uuid_event=u'd134b1a0c43628', document_id_event=1754388, timestamp_event=94623, platform_event=1, geo_location_event=u'US>CA>803', dummyEvents=1, day_event=0, event_country=u'US'),\n",
       " Row(display_id=16874838, ad_id=160448, dummyClicksTest=1, document_id_promo=1108162, campaign_id=20197, advertiser_id=2241, dummyPromotedContent=1, uuid_event=u'7e39222a4073b7', document_id_event=1777395, timestamp_event=97203, platform_event=2, geo_location_event=u'US>CA>803', dummyEvents=1, day_event=0, event_country=u'US')]"
      ]
     },
     "execution_count": 88,
     "metadata": {},
     "output_type": "execute_result"
    }
   ],
   "source": [
    "test_set_df.take(10)"
   ]
  },
  {
   "cell_type": "markdown",
   "metadata": {},
   "source": [
    "# page_views"
   ]
  },
  {
   "cell_type": "code",
   "execution_count": 67,
   "metadata": {},
   "outputs": [
    {
     "data": {
      "text/html": [
       "\n",
       "          <script src=\"/static/components/requirejs/require.js\"></script>\n",
       "          <script>\n",
       "            requirejs.config({\n",
       "              paths: {\n",
       "                base: '/static/base',\n",
       "              },\n",
       "            });\n",
       "          </script>\n",
       "          "
      ],
      "text/plain": [
       "<IPython.core.display.HTML object>"
      ]
     },
     "metadata": {},
     "output_type": "display_data"
    }
   ],
   "source": [
    "page_views_schema = StructType(\n",
    "                    [StructField(\"uuid_pv\", StringType(), True),\n",
    "                    StructField(\"document_id_pv\", IntegerType(), True),\n",
    "                    StructField(\"timestamp_pv\", IntegerType(), True),\n",
    "                    StructField(\"platform_pv\", IntegerType(), True),\n",
    "                    StructField(\"geo_location_pv\", StringType(), True),\n",
    "                    StructField(\"traffic_source_pv\", IntegerType(), True)]\n",
    "                    )\n",
    "page_views_df = spark.read.schema(page_views_schema).options(header='true', inferschema='false', nullValue='\\\\N') \\\n",
    "                .csv(DATA_BUCKET_FOLDER+\"page_views.csv\") \\\n",
    "                .alias('page_views')        \n",
    "            \n",
    "page_views_df.createOrReplaceTempView('page_views')"
   ]
  },
  {
   "cell_type": "code",
   "execution_count": 68,
   "metadata": {},
   "outputs": [
    {
     "data": {
      "text/html": [
       "\n",
       "          <script src=\"/static/components/requirejs/require.js\"></script>\n",
       "          <script>\n",
       "            requirejs.config({\n",
       "              paths: {\n",
       "                base: '/static/base',\n",
       "              },\n",
       "            });\n",
       "          </script>\n",
       "          "
      ],
      "text/plain": [
       "<IPython.core.display.HTML object>"
      ]
     },
     "metadata": {},
     "output_type": "display_data"
    },
    {
     "name": "stdout",
     "output_type": "stream",
     "text": [
      "(2034275448, 6)\n"
     ]
    }
   ],
   "source": [
    "print((page_views_df.count(), len(page_views_df.columns)))"
   ]
  },
  {
   "cell_type": "code",
   "execution_count": 69,
   "metadata": {},
   "outputs": [
    {
     "data": {
      "text/html": [
       "\n",
       "          <script src=\"/static/components/requirejs/require.js\"></script>\n",
       "          <script>\n",
       "            requirejs.config({\n",
       "              paths: {\n",
       "                base: '/static/base',\n",
       "              },\n",
       "            });\n",
       "          </script>\n",
       "          "
      ],
      "text/plain": [
       "<IPython.core.display.HTML object>"
      ]
     },
     "metadata": {},
     "output_type": "display_data"
    },
    {
     "name": "stdout",
     "output_type": "stream",
     "text": [
      "+--------------+--------------+------------+-----------+---------------+-----------------+\n",
      "|       uuid_pv|document_id_pv|timestamp_pv|platform_pv|geo_location_pv|traffic_source_pv|\n",
      "+--------------+--------------+------------+-----------+---------------+-----------------+\n",
      "|1fd5f051fba643|           120|    31905835|          1|             RS|                2|\n",
      "|8557aa9004be3b|           120|    32053104|          1|          VN>44|                2|\n",
      "|c351b277a358f0|           120|    54013023|          1|          KR>12|                1|\n",
      "|8205775c5387f9|           120|    44196592|          1|          IN>16|                2|\n",
      "|9cb0ccd8458371|           120|    65817371|          1|      US>CA>807|                2|\n",
      "|2aa611f32875c7|           120|    71495491|          1|          CA>ON|                2|\n",
      "|f55a6eaf2b34ab|           120|    73309199|          1|          BR>27|                2|\n",
      "|cc01b582c8cbff|           120|    50033577|          1|          CA>BC|                2|\n",
      "|6c802978b8dd4d|           120|    66590306|          1|          CA>ON|                2|\n",
      "|f4e423314303ff|           120|    48314254|          1|      US>LA>622|                1|\n",
      "+--------------+--------------+------------+-----------+---------------+-----------------+\n",
      "only showing top 10 rows\n",
      "\n"
     ]
    }
   ],
   "source": [
    "page_views_df.show(10)"
   ]
  },
  {
   "cell_type": "code",
   "execution_count": 70,
   "metadata": {},
   "outputs": [
    {
     "data": {
      "text/html": [
       "\n",
       "          <script src=\"/static/components/requirejs/require.js\"></script>\n",
       "          <script>\n",
       "            requirejs.config({\n",
       "              paths: {\n",
       "                base: '/static/base',\n",
       "              },\n",
       "            });\n",
       "          </script>\n",
       "          "
      ],
      "text/plain": [
       "<IPython.core.display.HTML object>"
      ]
     },
     "metadata": {},
     "output_type": "display_data"
    }
   ],
   "source": [
    "additional_filter = ''\n",
    "\n",
    "# test_set_df에 uuid_event, document_id_promo, timestamp_event 중복제거 가상 테이블 설정\n",
    "additional_filter = '''\n",
    "                        AND NOT EXISTS (SELECT uuid_event FROM test_users_docs_timestamp_to_ignore \n",
    "                                                      WHERE uuid_event = p.uuid_pv\n",
    "                                                     AND document_id_promo = p.document_id_pv\n",
    "                                                     AND p.timestamp_pv >= timestamp_event)\n",
    "                    '''\n",
    "\n",
    "# users_to_profile : test_set_df에 uuid_event 중복제거 가상 테이블 설정\n",
    "page_views_train_df = spark.sql('''SELECT * FROM page_views p \n",
    "                                    WHERE EXISTS (SELECT uuid_event FROM users_to_profile\n",
    "                                                 WHERE uuid_event = p.uuid_pv)                                     \n",
    "                                '''+ additional_filter\n",
    "                               ).alias('views') \\\n",
    "                         .join(documents_df, on=F.col(\"document_id_pv\") == F.col(\"document_id_doc\"), how='left') \\\n",
    "                         .filter('dummyDocumentsEntities is not null OR dummyDocumentsTopics is not null OR dummyDocumentsCategory is not null')"
   ]
  },
  {
   "cell_type": "code",
   "execution_count": 117,
   "metadata": {},
   "outputs": [
    {
     "data": {
      "text/html": [
       "\n",
       "          <script src=\"/static/components/requirejs/require.js\"></script>\n",
       "          <script>\n",
       "            requirejs.config({\n",
       "              paths: {\n",
       "                base: '/static/base',\n",
       "              },\n",
       "            });\n",
       "          </script>\n",
       "          "
      ],
      "text/plain": [
       "<IPython.core.display.HTML object>"
      ]
     },
     "metadata": {},
     "output_type": "display_data"
    },
    {
     "name": "stdout",
     "output_type": "stream",
     "text": [
      "(62604426, 23)\n"
     ]
    }
   ],
   "source": [
    "print((page_views_train_df.count(), len(page_views_train_df.columns)))"
   ]
  },
  {
   "cell_type": "code",
   "execution_count": null,
   "metadata": {},
   "outputs": [
    {
     "data": {
      "text/html": [
       "\n",
       "          <script src=\"/static/components/requirejs/require.js\"></script>\n",
       "          <script>\n",
       "            requirejs.config({\n",
       "              paths: {\n",
       "                base: '/static/base',\n",
       "              },\n",
       "            });\n",
       "          </script>\n",
       "          "
      ],
      "text/plain": [
       "<IPython.core.display.HTML object>"
      ]
     },
     "metadata": {},
     "output_type": "display_data"
    },
    {
     "data": {
      "text/plain": [
       "[Row(uuid_pv=u'4d22935665a23c', document_id_pv=148, timestamp_pv=1183603952, platform_pv=1, geo_location_pv=u'US>PA>577', traffic_source_pv=1, document_id_doc=148, source_id=1787, publisher_id=118, publish_time=datetime.datetime(2008, 7, 1, 0, 0), dummyDocumentsMeta=1, document_id_cat=148, category_id_list=[1403, 1702], cat_confidence_level_list=[0.9200000166893005, 0.07000000029802322], dummyDocumentsCategory=1, document_id_top=148, topic_id_list=[153, 140, 8, 172, 244, 179, 36, 2, 64, 10, 216], top_confidence_level_list=[0.0752369686961174, 0.0719832107424736, 0.06108427047729492, 0.042060330510139465, 0.03971264883875847, 0.03684856742620468, 0.030745454132556915, 0.026049140840768814, 0.01605464331805706, 0.010918059386312962, 0.008370612747967243], dummyDocumentsTopics=1, document_id_ent=148, entity_id_list=[u'e1c74838563ef5d205063b0d95afa414', u'6fd68f102042c6554cb2592fae942264', u'ae3de5466bfa10459eebcbe02ac9b3ee', u'9da9595caa381755c9353ae7179f2117', u'b973c2e55831fb4025003e0259aa820f', u'6eb92e281e46d463ce80317efd785d68', u'c323569535ca4c3d2ce474f4d825cc80', u'daf2f4c9cd8dbf10482f06200e613939'], ent_confidence_level_list=[0.6320257782936096, 0.4049091041088104, 0.2763647139072418, 0.2726665735244751, 0.26643022894859314, 0.25995519757270813, 0.2214961051940918, 0.21287654340267181], dummyDocumentsEntities=1),\n",
       " Row(uuid_pv=u'ff6e4010334bf9', document_id_pv=148, timestamp_pv=998381923, platform_pv=2, geo_location_pv=u'US>SC>570', traffic_source_pv=1, document_id_doc=148, source_id=1787, publisher_id=118, publish_time=datetime.datetime(2008, 7, 1, 0, 0), dummyDocumentsMeta=1, document_id_cat=148, category_id_list=[1403, 1702], cat_confidence_level_list=[0.9200000166893005, 0.07000000029802322], dummyDocumentsCategory=1, document_id_top=148, topic_id_list=[153, 140, 8, 172, 244, 179, 36, 2, 64, 10, 216], top_confidence_level_list=[0.0752369686961174, 0.0719832107424736, 0.06108427047729492, 0.042060330510139465, 0.03971264883875847, 0.03684856742620468, 0.030745454132556915, 0.026049140840768814, 0.01605464331805706, 0.010918059386312962, 0.008370612747967243], dummyDocumentsTopics=1, document_id_ent=148, entity_id_list=[u'e1c74838563ef5d205063b0d95afa414', u'6fd68f102042c6554cb2592fae942264', u'ae3de5466bfa10459eebcbe02ac9b3ee', u'9da9595caa381755c9353ae7179f2117', u'b973c2e55831fb4025003e0259aa820f', u'6eb92e281e46d463ce80317efd785d68', u'c323569535ca4c3d2ce474f4d825cc80', u'daf2f4c9cd8dbf10482f06200e613939'], ent_confidence_level_list=[0.6320257782936096, 0.4049091041088104, 0.2763647139072418, 0.2726665735244751, 0.26643022894859314, 0.25995519757270813, 0.2214961051940918, 0.21287654340267181], dummyDocumentsEntities=1),\n",
       " Row(uuid_pv=u'39b827db7fae44', document_id_pv=1238, timestamp_pv=75530355, platform_pv=1, geo_location_pv=u'US>VA>511', traffic_source_pv=1, document_id_doc=1238, source_id=3233, publisher_id=202, publish_time=datetime.datetime(2007, 5, 10, 0, 0), dummyDocumentsMeta=1, document_id_cat=1238, category_id_list=[1100, 1407], cat_confidence_level_list=[0.3483666479587555, 0.026506157591938972], dummyDocumentsCategory=1, document_id_top=1238, topic_id_list=[89, 221, 192, 236], top_confidence_level_list=[0.023348163813352585, 0.014387463219463825, 0.009628573432564735, 0.009417240507900715], dummyDocumentsTopics=1, document_id_ent=None, entity_id_list=None, ent_confidence_level_list=None, dummyDocumentsEntities=None),\n",
       " Row(uuid_pv=u'474e23a2cc5d2b', document_id_pv=1342, timestamp_pv=1152614794, platform_pv=1, geo_location_pv=u'GB>H9', traffic_source_pv=1, document_id_doc=1342, source_id=475, publisher_id=937, publish_time=datetime.datetime(2015, 1, 1, 0, 0), dummyDocumentsMeta=1, document_id_cat=1342, category_id_list=[1408, 2004], cat_confidence_level_list=[0.42835742235183716, 0.03259241208434105], dummyDocumentsCategory=1, document_id_top=1342, topic_id_list=[271, 283, 181, 225, 198, 234], top_confidence_level_list=[0.04573090001940727, 0.02532009780406952, 0.012121617794036865, 0.009574255906045437, 0.009129123762249947, 0.008289709687232971], dummyDocumentsTopics=1, document_id_ent=None, entity_id_list=None, ent_confidence_level_list=None, dummyDocumentsEntities=None),\n",
       " Row(uuid_pv=u'9ea0f782cfc412', document_id_pv=1342, timestamp_pv=684615664, platform_pv=1, geo_location_pv=u'US>CA>825', traffic_source_pv=1, document_id_doc=1342, source_id=475, publisher_id=937, publish_time=datetime.datetime(2015, 1, 1, 0, 0), dummyDocumentsMeta=1, document_id_cat=1342, category_id_list=[1408, 2004], cat_confidence_level_list=[0.42835742235183716, 0.03259241208434105], dummyDocumentsCategory=1, document_id_top=1342, topic_id_list=[271, 283, 181, 225, 198, 234], top_confidence_level_list=[0.04573090001940727, 0.02532009780406952, 0.012121617794036865, 0.009574255906045437, 0.009129123762249947, 0.008289709687232971], dummyDocumentsTopics=1, document_id_ent=None, entity_id_list=None, ent_confidence_level_list=None, dummyDocumentsEntities=None),\n",
       " Row(uuid_pv=u'bc2b25656b054e', document_id_pv=1342, timestamp_pv=686034023, platform_pv=2, geo_location_pv=u'US>IN>588', traffic_source_pv=1, document_id_doc=1342, source_id=475, publisher_id=937, publish_time=datetime.datetime(2015, 1, 1, 0, 0), dummyDocumentsMeta=1, document_id_cat=1342, category_id_list=[1408, 2004], cat_confidence_level_list=[0.42835742235183716, 0.03259241208434105], dummyDocumentsCategory=1, document_id_top=1342, topic_id_list=[271, 283, 181, 225, 198, 234], top_confidence_level_list=[0.04573090001940727, 0.02532009780406952, 0.012121617794036865, 0.009574255906045437, 0.009129123762249947, 0.008289709687232971], dummyDocumentsTopics=1, document_id_ent=None, entity_id_list=None, ent_confidence_level_list=None, dummyDocumentsEntities=None),\n",
       " Row(uuid_pv=u'f5f772f5e1e5c6', document_id_pv=1342, timestamp_pv=979006320, platform_pv=1, geo_location_pv=u'ID>31', traffic_source_pv=2, document_id_doc=1342, source_id=475, publisher_id=937, publish_time=datetime.datetime(2015, 1, 1, 0, 0), dummyDocumentsMeta=1, document_id_cat=1342, category_id_list=[1408, 2004], cat_confidence_level_list=[0.42835742235183716, 0.03259241208434105], dummyDocumentsCategory=1, document_id_top=1342, topic_id_list=[271, 283, 181, 225, 198, 234], top_confidence_level_list=[0.04573090001940727, 0.02532009780406952, 0.012121617794036865, 0.009574255906045437, 0.009129123762249947, 0.008289709687232971], dummyDocumentsTopics=1, document_id_ent=None, entity_id_list=None, ent_confidence_level_list=None, dummyDocumentsEntities=None),\n",
       " Row(uuid_pv=u'91dbca51533c0f', document_id_pv=1342, timestamp_pv=643108610, platform_pv=1, geo_location_pv=u'US>CA>803', traffic_source_pv=1, document_id_doc=1342, source_id=475, publisher_id=937, publish_time=datetime.datetime(2015, 1, 1, 0, 0), dummyDocumentsMeta=1, document_id_cat=1342, category_id_list=[1408, 2004], cat_confidence_level_list=[0.42835742235183716, 0.03259241208434105], dummyDocumentsCategory=1, document_id_top=1342, topic_id_list=[271, 283, 181, 225, 198, 234], top_confidence_level_list=[0.04573090001940727, 0.02532009780406952, 0.012121617794036865, 0.009574255906045437, 0.009129123762249947, 0.008289709687232971], dummyDocumentsTopics=1, document_id_ent=None, entity_id_list=None, ent_confidence_level_list=None, dummyDocumentsEntities=None),\n",
       " Row(uuid_pv=u'30fd8feb62908b', document_id_pv=1342, timestamp_pv=1200997136, platform_pv=1, geo_location_pv=u'US>GA>524', traffic_source_pv=1, document_id_doc=1342, source_id=475, publisher_id=937, publish_time=datetime.datetime(2015, 1, 1, 0, 0), dummyDocumentsMeta=1, document_id_cat=1342, category_id_list=[1408, 2004], cat_confidence_level_list=[0.42835742235183716, 0.03259241208434105], dummyDocumentsCategory=1, document_id_top=1342, topic_id_list=[271, 283, 181, 225, 198, 234], top_confidence_level_list=[0.04573090001940727, 0.02532009780406952, 0.012121617794036865, 0.009574255906045437, 0.009129123762249947, 0.008289709687232971], dummyDocumentsTopics=1, document_id_ent=None, entity_id_list=None, ent_confidence_level_list=None, dummyDocumentsEntities=None),\n",
       " Row(uuid_pv=u'cb16c699e097b9', document_id_pv=1342, timestamp_pv=524704061, platform_pv=2, geo_location_pv=u'US>FL>539', traffic_source_pv=1, document_id_doc=1342, source_id=475, publisher_id=937, publish_time=datetime.datetime(2015, 1, 1, 0, 0), dummyDocumentsMeta=1, document_id_cat=1342, category_id_list=[1408, 2004], cat_confidence_level_list=[0.42835742235183716, 0.03259241208434105], dummyDocumentsCategory=1, document_id_top=1342, topic_id_list=[271, 283, 181, 225, 198, 234], top_confidence_level_list=[0.04573090001940727, 0.02532009780406952, 0.012121617794036865, 0.009574255906045437, 0.009129123762249947, 0.008289709687232971], dummyDocumentsTopics=1, document_id_ent=None, entity_id_list=None, ent_confidence_level_list=None, dummyDocumentsEntities=None)]"
      ]
     },
     "execution_count": 89,
     "metadata": {},
     "output_type": "execute_result"
    },
    {
     "data": {
      "text/plain": [
       "[Row(uuid_pv=u'4d22935665a23c', document_id_pv=148, timestamp_pv=1183603952, platform_pv=1, geo_location_pv=u'US>PA>577', traffic_source_pv=1, document_id_doc=148, source_id=1787, publisher_id=118, publish_time=datetime.datetime(2008, 7, 1, 0, 0), dummyDocumentsMeta=1, document_id_cat=148, category_id_list=[1403, 1702], cat_confidence_level_list=[0.9200000166893005, 0.07000000029802322], dummyDocumentsCategory=1, document_id_top=148, topic_id_list=[153, 140, 8, 172, 244, 179, 36, 2, 64, 10, 216], top_confidence_level_list=[0.0752369686961174, 0.0719832107424736, 0.06108427047729492, 0.042060330510139465, 0.03971264883875847, 0.03684856742620468, 0.030745454132556915, 0.026049140840768814, 0.01605464331805706, 0.010918059386312962, 0.008370612747967243], dummyDocumentsTopics=1, document_id_ent=148, entity_id_list=[u'e1c74838563ef5d205063b0d95afa414', u'6fd68f102042c6554cb2592fae942264', u'ae3de5466bfa10459eebcbe02ac9b3ee', u'9da9595caa381755c9353ae7179f2117', u'b973c2e55831fb4025003e0259aa820f', u'6eb92e281e46d463ce80317efd785d68', u'c323569535ca4c3d2ce474f4d825cc80', u'daf2f4c9cd8dbf10482f06200e613939'], ent_confidence_level_list=[0.6320257782936096, 0.4049091041088104, 0.2763647139072418, 0.2726665735244751, 0.26643022894859314, 0.25995519757270813, 0.2214961051940918, 0.21287654340267181], dummyDocumentsEntities=1),\n",
       " Row(uuid_pv=u'ff6e4010334bf9', document_id_pv=148, timestamp_pv=998381923, platform_pv=2, geo_location_pv=u'US>SC>570', traffic_source_pv=1, document_id_doc=148, source_id=1787, publisher_id=118, publish_time=datetime.datetime(2008, 7, 1, 0, 0), dummyDocumentsMeta=1, document_id_cat=148, category_id_list=[1403, 1702], cat_confidence_level_list=[0.9200000166893005, 0.07000000029802322], dummyDocumentsCategory=1, document_id_top=148, topic_id_list=[153, 140, 8, 172, 244, 179, 36, 2, 64, 10, 216], top_confidence_level_list=[0.0752369686961174, 0.0719832107424736, 0.06108427047729492, 0.042060330510139465, 0.03971264883875847, 0.03684856742620468, 0.030745454132556915, 0.026049140840768814, 0.01605464331805706, 0.010918059386312962, 0.008370612747967243], dummyDocumentsTopics=1, document_id_ent=148, entity_id_list=[u'e1c74838563ef5d205063b0d95afa414', u'6fd68f102042c6554cb2592fae942264', u'ae3de5466bfa10459eebcbe02ac9b3ee', u'9da9595caa381755c9353ae7179f2117', u'b973c2e55831fb4025003e0259aa820f', u'6eb92e281e46d463ce80317efd785d68', u'c323569535ca4c3d2ce474f4d825cc80', u'daf2f4c9cd8dbf10482f06200e613939'], ent_confidence_level_list=[0.6320257782936096, 0.4049091041088104, 0.2763647139072418, 0.2726665735244751, 0.26643022894859314, 0.25995519757270813, 0.2214961051940918, 0.21287654340267181], dummyDocumentsEntities=1),\n",
       " Row(uuid_pv=u'39b827db7fae44', document_id_pv=1238, timestamp_pv=75530355, platform_pv=1, geo_location_pv=u'US>VA>511', traffic_source_pv=1, document_id_doc=1238, source_id=3233, publisher_id=202, publish_time=datetime.datetime(2007, 5, 10, 0, 0), dummyDocumentsMeta=1, document_id_cat=1238, category_id_list=[1100, 1407], cat_confidence_level_list=[0.3483666479587555, 0.026506157591938972], dummyDocumentsCategory=1, document_id_top=1238, topic_id_list=[89, 221, 192, 236], top_confidence_level_list=[0.023348163813352585, 0.014387463219463825, 0.009628573432564735, 0.009417240507900715], dummyDocumentsTopics=1, document_id_ent=None, entity_id_list=None, ent_confidence_level_list=None, dummyDocumentsEntities=None),\n",
       " Row(uuid_pv=u'474e23a2cc5d2b', document_id_pv=1342, timestamp_pv=1152614794, platform_pv=1, geo_location_pv=u'GB>H9', traffic_source_pv=1, document_id_doc=1342, source_id=475, publisher_id=937, publish_time=datetime.datetime(2015, 1, 1, 0, 0), dummyDocumentsMeta=1, document_id_cat=1342, category_id_list=[1408, 2004], cat_confidence_level_list=[0.42835742235183716, 0.03259241208434105], dummyDocumentsCategory=1, document_id_top=1342, topic_id_list=[271, 283, 181, 225, 198, 234], top_confidence_level_list=[0.04573090001940727, 0.02532009780406952, 0.012121617794036865, 0.009574255906045437, 0.009129123762249947, 0.008289709687232971], dummyDocumentsTopics=1, document_id_ent=None, entity_id_list=None, ent_confidence_level_list=None, dummyDocumentsEntities=None),\n",
       " Row(uuid_pv=u'9ea0f782cfc412', document_id_pv=1342, timestamp_pv=684615664, platform_pv=1, geo_location_pv=u'US>CA>825', traffic_source_pv=1, document_id_doc=1342, source_id=475, publisher_id=937, publish_time=datetime.datetime(2015, 1, 1, 0, 0), dummyDocumentsMeta=1, document_id_cat=1342, category_id_list=[1408, 2004], cat_confidence_level_list=[0.42835742235183716, 0.03259241208434105], dummyDocumentsCategory=1, document_id_top=1342, topic_id_list=[271, 283, 181, 225, 198, 234], top_confidence_level_list=[0.04573090001940727, 0.02532009780406952, 0.012121617794036865, 0.009574255906045437, 0.009129123762249947, 0.008289709687232971], dummyDocumentsTopics=1, document_id_ent=None, entity_id_list=None, ent_confidence_level_list=None, dummyDocumentsEntities=None),\n",
       " Row(uuid_pv=u'bc2b25656b054e', document_id_pv=1342, timestamp_pv=686034023, platform_pv=2, geo_location_pv=u'US>IN>588', traffic_source_pv=1, document_id_doc=1342, source_id=475, publisher_id=937, publish_time=datetime.datetime(2015, 1, 1, 0, 0), dummyDocumentsMeta=1, document_id_cat=1342, category_id_list=[1408, 2004], cat_confidence_level_list=[0.42835742235183716, 0.03259241208434105], dummyDocumentsCategory=1, document_id_top=1342, topic_id_list=[271, 283, 181, 225, 198, 234], top_confidence_level_list=[0.04573090001940727, 0.02532009780406952, 0.012121617794036865, 0.009574255906045437, 0.009129123762249947, 0.008289709687232971], dummyDocumentsTopics=1, document_id_ent=None, entity_id_list=None, ent_confidence_level_list=None, dummyDocumentsEntities=None),\n",
       " Row(uuid_pv=u'f5f772f5e1e5c6', document_id_pv=1342, timestamp_pv=979006320, platform_pv=1, geo_location_pv=u'ID>31', traffic_source_pv=2, document_id_doc=1342, source_id=475, publisher_id=937, publish_time=datetime.datetime(2015, 1, 1, 0, 0), dummyDocumentsMeta=1, document_id_cat=1342, category_id_list=[1408, 2004], cat_confidence_level_list=[0.42835742235183716, 0.03259241208434105], dummyDocumentsCategory=1, document_id_top=1342, topic_id_list=[271, 283, 181, 225, 198, 234], top_confidence_level_list=[0.04573090001940727, 0.02532009780406952, 0.012121617794036865, 0.009574255906045437, 0.009129123762249947, 0.008289709687232971], dummyDocumentsTopics=1, document_id_ent=None, entity_id_list=None, ent_confidence_level_list=None, dummyDocumentsEntities=None),\n",
       " Row(uuid_pv=u'91dbca51533c0f', document_id_pv=1342, timestamp_pv=643108610, platform_pv=1, geo_location_pv=u'US>CA>803', traffic_source_pv=1, document_id_doc=1342, source_id=475, publisher_id=937, publish_time=datetime.datetime(2015, 1, 1, 0, 0), dummyDocumentsMeta=1, document_id_cat=1342, category_id_list=[1408, 2004], cat_confidence_level_list=[0.42835742235183716, 0.03259241208434105], dummyDocumentsCategory=1, document_id_top=1342, topic_id_list=[271, 283, 181, 225, 198, 234], top_confidence_level_list=[0.04573090001940727, 0.02532009780406952, 0.012121617794036865, 0.009574255906045437, 0.009129123762249947, 0.008289709687232971], dummyDocumentsTopics=1, document_id_ent=None, entity_id_list=None, ent_confidence_level_list=None, dummyDocumentsEntities=None),\n",
       " Row(uuid_pv=u'30fd8feb62908b', document_id_pv=1342, timestamp_pv=1200997136, platform_pv=1, geo_location_pv=u'US>GA>524', traffic_source_pv=1, document_id_doc=1342, source_id=475, publisher_id=937, publish_time=datetime.datetime(2015, 1, 1, 0, 0), dummyDocumentsMeta=1, document_id_cat=1342, category_id_list=[1408, 2004], cat_confidence_level_list=[0.42835742235183716, 0.03259241208434105], dummyDocumentsCategory=1, document_id_top=1342, topic_id_list=[271, 283, 181, 225, 198, 234], top_confidence_level_list=[0.04573090001940727, 0.02532009780406952, 0.012121617794036865, 0.009574255906045437, 0.009129123762249947, 0.008289709687232971], dummyDocumentsTopics=1, document_id_ent=None, entity_id_list=None, ent_confidence_level_list=None, dummyDocumentsEntities=None),\n",
       " Row(uuid_pv=u'cb16c699e097b9', document_id_pv=1342, timestamp_pv=524704061, platform_pv=2, geo_location_pv=u'US>FL>539', traffic_source_pv=1, document_id_doc=1342, source_id=475, publisher_id=937, publish_time=datetime.datetime(2015, 1, 1, 0, 0), dummyDocumentsMeta=1, document_id_cat=1342, category_id_list=[1408, 2004], cat_confidence_level_list=[0.42835742235183716, 0.03259241208434105], dummyDocumentsCategory=1, document_id_top=1342, topic_id_list=[271, 283, 181, 225, 198, 234], top_confidence_level_list=[0.04573090001940727, 0.02532009780406952, 0.012121617794036865, 0.009574255906045437, 0.009129123762249947, 0.008289709687232971], dummyDocumentsTopics=1, document_id_ent=None, entity_id_list=None, ent_confidence_level_list=None, dummyDocumentsEntities=None)]"
      ]
     },
     "execution_count": 89,
     "metadata": {},
     "output_type": "execute_result"
    },
    {
     "data": {
      "text/plain": [
       "[Row(uuid_pv=u'4d22935665a23c', document_id_pv=148, timestamp_pv=1183603952, platform_pv=1, geo_location_pv=u'US>PA>577', traffic_source_pv=1, document_id_doc=148, source_id=1787, publisher_id=118, publish_time=datetime.datetime(2008, 7, 1, 0, 0), dummyDocumentsMeta=1, document_id_cat=148, category_id_list=[1403, 1702], cat_confidence_level_list=[0.9200000166893005, 0.07000000029802322], dummyDocumentsCategory=1, document_id_top=148, topic_id_list=[153, 140, 8, 172, 244, 179, 36, 2, 64, 10, 216], top_confidence_level_list=[0.0752369686961174, 0.0719832107424736, 0.06108427047729492, 0.042060330510139465, 0.03971264883875847, 0.03684856742620468, 0.030745454132556915, 0.026049140840768814, 0.01605464331805706, 0.010918059386312962, 0.008370612747967243], dummyDocumentsTopics=1, document_id_ent=148, entity_id_list=[u'e1c74838563ef5d205063b0d95afa414', u'6fd68f102042c6554cb2592fae942264', u'ae3de5466bfa10459eebcbe02ac9b3ee', u'9da9595caa381755c9353ae7179f2117', u'b973c2e55831fb4025003e0259aa820f', u'6eb92e281e46d463ce80317efd785d68', u'c323569535ca4c3d2ce474f4d825cc80', u'daf2f4c9cd8dbf10482f06200e613939'], ent_confidence_level_list=[0.6320257782936096, 0.4049091041088104, 0.2763647139072418, 0.2726665735244751, 0.26643022894859314, 0.25995519757270813, 0.2214961051940918, 0.21287654340267181], dummyDocumentsEntities=1),\n",
       " Row(uuid_pv=u'ff6e4010334bf9', document_id_pv=148, timestamp_pv=998381923, platform_pv=2, geo_location_pv=u'US>SC>570', traffic_source_pv=1, document_id_doc=148, source_id=1787, publisher_id=118, publish_time=datetime.datetime(2008, 7, 1, 0, 0), dummyDocumentsMeta=1, document_id_cat=148, category_id_list=[1403, 1702], cat_confidence_level_list=[0.9200000166893005, 0.07000000029802322], dummyDocumentsCategory=1, document_id_top=148, topic_id_list=[153, 140, 8, 172, 244, 179, 36, 2, 64, 10, 216], top_confidence_level_list=[0.0752369686961174, 0.0719832107424736, 0.06108427047729492, 0.042060330510139465, 0.03971264883875847, 0.03684856742620468, 0.030745454132556915, 0.026049140840768814, 0.01605464331805706, 0.010918059386312962, 0.008370612747967243], dummyDocumentsTopics=1, document_id_ent=148, entity_id_list=[u'e1c74838563ef5d205063b0d95afa414', u'6fd68f102042c6554cb2592fae942264', u'ae3de5466bfa10459eebcbe02ac9b3ee', u'9da9595caa381755c9353ae7179f2117', u'b973c2e55831fb4025003e0259aa820f', u'6eb92e281e46d463ce80317efd785d68', u'c323569535ca4c3d2ce474f4d825cc80', u'daf2f4c9cd8dbf10482f06200e613939'], ent_confidence_level_list=[0.6320257782936096, 0.4049091041088104, 0.2763647139072418, 0.2726665735244751, 0.26643022894859314, 0.25995519757270813, 0.2214961051940918, 0.21287654340267181], dummyDocumentsEntities=1),\n",
       " Row(uuid_pv=u'39b827db7fae44', document_id_pv=1238, timestamp_pv=75530355, platform_pv=1, geo_location_pv=u'US>VA>511', traffic_source_pv=1, document_id_doc=1238, source_id=3233, publisher_id=202, publish_time=datetime.datetime(2007, 5, 10, 0, 0), dummyDocumentsMeta=1, document_id_cat=1238, category_id_list=[1100, 1407], cat_confidence_level_list=[0.3483666479587555, 0.026506157591938972], dummyDocumentsCategory=1, document_id_top=1238, topic_id_list=[89, 221, 192, 236], top_confidence_level_list=[0.023348163813352585, 0.014387463219463825, 0.009628573432564735, 0.009417240507900715], dummyDocumentsTopics=1, document_id_ent=None, entity_id_list=None, ent_confidence_level_list=None, dummyDocumentsEntities=None),\n",
       " Row(uuid_pv=u'474e23a2cc5d2b', document_id_pv=1342, timestamp_pv=1152614794, platform_pv=1, geo_location_pv=u'GB>H9', traffic_source_pv=1, document_id_doc=1342, source_id=475, publisher_id=937, publish_time=datetime.datetime(2015, 1, 1, 0, 0), dummyDocumentsMeta=1, document_id_cat=1342, category_id_list=[1408, 2004], cat_confidence_level_list=[0.42835742235183716, 0.03259241208434105], dummyDocumentsCategory=1, document_id_top=1342, topic_id_list=[271, 283, 181, 225, 198, 234], top_confidence_level_list=[0.04573090001940727, 0.02532009780406952, 0.012121617794036865, 0.009574255906045437, 0.009129123762249947, 0.008289709687232971], dummyDocumentsTopics=1, document_id_ent=None, entity_id_list=None, ent_confidence_level_list=None, dummyDocumentsEntities=None),\n",
       " Row(uuid_pv=u'9ea0f782cfc412', document_id_pv=1342, timestamp_pv=684615664, platform_pv=1, geo_location_pv=u'US>CA>825', traffic_source_pv=1, document_id_doc=1342, source_id=475, publisher_id=937, publish_time=datetime.datetime(2015, 1, 1, 0, 0), dummyDocumentsMeta=1, document_id_cat=1342, category_id_list=[1408, 2004], cat_confidence_level_list=[0.42835742235183716, 0.03259241208434105], dummyDocumentsCategory=1, document_id_top=1342, topic_id_list=[271, 283, 181, 225, 198, 234], top_confidence_level_list=[0.04573090001940727, 0.02532009780406952, 0.012121617794036865, 0.009574255906045437, 0.009129123762249947, 0.008289709687232971], dummyDocumentsTopics=1, document_id_ent=None, entity_id_list=None, ent_confidence_level_list=None, dummyDocumentsEntities=None),\n",
       " Row(uuid_pv=u'bc2b25656b054e', document_id_pv=1342, timestamp_pv=686034023, platform_pv=2, geo_location_pv=u'US>IN>588', traffic_source_pv=1, document_id_doc=1342, source_id=475, publisher_id=937, publish_time=datetime.datetime(2015, 1, 1, 0, 0), dummyDocumentsMeta=1, document_id_cat=1342, category_id_list=[1408, 2004], cat_confidence_level_list=[0.42835742235183716, 0.03259241208434105], dummyDocumentsCategory=1, document_id_top=1342, topic_id_list=[271, 283, 181, 225, 198, 234], top_confidence_level_list=[0.04573090001940727, 0.02532009780406952, 0.012121617794036865, 0.009574255906045437, 0.009129123762249947, 0.008289709687232971], dummyDocumentsTopics=1, document_id_ent=None, entity_id_list=None, ent_confidence_level_list=None, dummyDocumentsEntities=None),\n",
       " Row(uuid_pv=u'f5f772f5e1e5c6', document_id_pv=1342, timestamp_pv=979006320, platform_pv=1, geo_location_pv=u'ID>31', traffic_source_pv=2, document_id_doc=1342, source_id=475, publisher_id=937, publish_time=datetime.datetime(2015, 1, 1, 0, 0), dummyDocumentsMeta=1, document_id_cat=1342, category_id_list=[1408, 2004], cat_confidence_level_list=[0.42835742235183716, 0.03259241208434105], dummyDocumentsCategory=1, document_id_top=1342, topic_id_list=[271, 283, 181, 225, 198, 234], top_confidence_level_list=[0.04573090001940727, 0.02532009780406952, 0.012121617794036865, 0.009574255906045437, 0.009129123762249947, 0.008289709687232971], dummyDocumentsTopics=1, document_id_ent=None, entity_id_list=None, ent_confidence_level_list=None, dummyDocumentsEntities=None),\n",
       " Row(uuid_pv=u'91dbca51533c0f', document_id_pv=1342, timestamp_pv=643108610, platform_pv=1, geo_location_pv=u'US>CA>803', traffic_source_pv=1, document_id_doc=1342, source_id=475, publisher_id=937, publish_time=datetime.datetime(2015, 1, 1, 0, 0), dummyDocumentsMeta=1, document_id_cat=1342, category_id_list=[1408, 2004], cat_confidence_level_list=[0.42835742235183716, 0.03259241208434105], dummyDocumentsCategory=1, document_id_top=1342, topic_id_list=[271, 283, 181, 225, 198, 234], top_confidence_level_list=[0.04573090001940727, 0.02532009780406952, 0.012121617794036865, 0.009574255906045437, 0.009129123762249947, 0.008289709687232971], dummyDocumentsTopics=1, document_id_ent=None, entity_id_list=None, ent_confidence_level_list=None, dummyDocumentsEntities=None),\n",
       " Row(uuid_pv=u'30fd8feb62908b', document_id_pv=1342, timestamp_pv=1200997136, platform_pv=1, geo_location_pv=u'US>GA>524', traffic_source_pv=1, document_id_doc=1342, source_id=475, publisher_id=937, publish_time=datetime.datetime(2015, 1, 1, 0, 0), dummyDocumentsMeta=1, document_id_cat=1342, category_id_list=[1408, 2004], cat_confidence_level_list=[0.42835742235183716, 0.03259241208434105], dummyDocumentsCategory=1, document_id_top=1342, topic_id_list=[271, 283, 181, 225, 198, 234], top_confidence_level_list=[0.04573090001940727, 0.02532009780406952, 0.012121617794036865, 0.009574255906045437, 0.009129123762249947, 0.008289709687232971], dummyDocumentsTopics=1, document_id_ent=None, entity_id_list=None, ent_confidence_level_list=None, dummyDocumentsEntities=None),\n",
       " Row(uuid_pv=u'cb16c699e097b9', document_id_pv=1342, timestamp_pv=524704061, platform_pv=2, geo_location_pv=u'US>FL>539', traffic_source_pv=1, document_id_doc=1342, source_id=475, publisher_id=937, publish_time=datetime.datetime(2015, 1, 1, 0, 0), dummyDocumentsMeta=1, document_id_cat=1342, category_id_list=[1408, 2004], cat_confidence_level_list=[0.42835742235183716, 0.03259241208434105], dummyDocumentsCategory=1, document_id_top=1342, topic_id_list=[271, 283, 181, 225, 198, 234], top_confidence_level_list=[0.04573090001940727, 0.02532009780406952, 0.012121617794036865, 0.009574255906045437, 0.009129123762249947, 0.008289709687232971], dummyDocumentsTopics=1, document_id_ent=None, entity_id_list=None, ent_confidence_level_list=None, dummyDocumentsEntities=None)]"
      ]
     },
     "execution_count": 89,
     "metadata": {},
     "output_type": "execute_result"
    },
    {
     "data": {
      "text/plain": [
       "[Row(uuid_pv=u'4d22935665a23c', document_id_pv=148, timestamp_pv=1183603952, platform_pv=1, geo_location_pv=u'US>PA>577', traffic_source_pv=1, document_id_doc=148, source_id=1787, publisher_id=118, publish_time=datetime.datetime(2008, 7, 1, 0, 0), dummyDocumentsMeta=1, document_id_cat=148, category_id_list=[1403, 1702], cat_confidence_level_list=[0.9200000166893005, 0.07000000029802322], dummyDocumentsCategory=1, document_id_top=148, topic_id_list=[153, 140, 8, 172, 244, 179, 36, 2, 64, 10, 216], top_confidence_level_list=[0.0752369686961174, 0.0719832107424736, 0.06108427047729492, 0.042060330510139465, 0.03971264883875847, 0.03684856742620468, 0.030745454132556915, 0.026049140840768814, 0.01605464331805706, 0.010918059386312962, 0.008370612747967243], dummyDocumentsTopics=1, document_id_ent=148, entity_id_list=[u'e1c74838563ef5d205063b0d95afa414', u'6fd68f102042c6554cb2592fae942264', u'ae3de5466bfa10459eebcbe02ac9b3ee', u'9da9595caa381755c9353ae7179f2117', u'b973c2e55831fb4025003e0259aa820f', u'6eb92e281e46d463ce80317efd785d68', u'c323569535ca4c3d2ce474f4d825cc80', u'daf2f4c9cd8dbf10482f06200e613939'], ent_confidence_level_list=[0.6320257782936096, 0.4049091041088104, 0.2763647139072418, 0.2726665735244751, 0.26643022894859314, 0.25995519757270813, 0.2214961051940918, 0.21287654340267181], dummyDocumentsEntities=1),\n",
       " Row(uuid_pv=u'ff6e4010334bf9', document_id_pv=148, timestamp_pv=998381923, platform_pv=2, geo_location_pv=u'US>SC>570', traffic_source_pv=1, document_id_doc=148, source_id=1787, publisher_id=118, publish_time=datetime.datetime(2008, 7, 1, 0, 0), dummyDocumentsMeta=1, document_id_cat=148, category_id_list=[1403, 1702], cat_confidence_level_list=[0.9200000166893005, 0.07000000029802322], dummyDocumentsCategory=1, document_id_top=148, topic_id_list=[153, 140, 8, 172, 244, 179, 36, 2, 64, 10, 216], top_confidence_level_list=[0.0752369686961174, 0.0719832107424736, 0.06108427047729492, 0.042060330510139465, 0.03971264883875847, 0.03684856742620468, 0.030745454132556915, 0.026049140840768814, 0.01605464331805706, 0.010918059386312962, 0.008370612747967243], dummyDocumentsTopics=1, document_id_ent=148, entity_id_list=[u'e1c74838563ef5d205063b0d95afa414', u'6fd68f102042c6554cb2592fae942264', u'ae3de5466bfa10459eebcbe02ac9b3ee', u'9da9595caa381755c9353ae7179f2117', u'b973c2e55831fb4025003e0259aa820f', u'6eb92e281e46d463ce80317efd785d68', u'c323569535ca4c3d2ce474f4d825cc80', u'daf2f4c9cd8dbf10482f06200e613939'], ent_confidence_level_list=[0.6320257782936096, 0.4049091041088104, 0.2763647139072418, 0.2726665735244751, 0.26643022894859314, 0.25995519757270813, 0.2214961051940918, 0.21287654340267181], dummyDocumentsEntities=1),\n",
       " Row(uuid_pv=u'39b827db7fae44', document_id_pv=1238, timestamp_pv=75530355, platform_pv=1, geo_location_pv=u'US>VA>511', traffic_source_pv=1, document_id_doc=1238, source_id=3233, publisher_id=202, publish_time=datetime.datetime(2007, 5, 10, 0, 0), dummyDocumentsMeta=1, document_id_cat=1238, category_id_list=[1100, 1407], cat_confidence_level_list=[0.3483666479587555, 0.026506157591938972], dummyDocumentsCategory=1, document_id_top=1238, topic_id_list=[89, 221, 192, 236], top_confidence_level_list=[0.023348163813352585, 0.014387463219463825, 0.009628573432564735, 0.009417240507900715], dummyDocumentsTopics=1, document_id_ent=None, entity_id_list=None, ent_confidence_level_list=None, dummyDocumentsEntities=None),\n",
       " Row(uuid_pv=u'474e23a2cc5d2b', document_id_pv=1342, timestamp_pv=1152614794, platform_pv=1, geo_location_pv=u'GB>H9', traffic_source_pv=1, document_id_doc=1342, source_id=475, publisher_id=937, publish_time=datetime.datetime(2015, 1, 1, 0, 0), dummyDocumentsMeta=1, document_id_cat=1342, category_id_list=[1408, 2004], cat_confidence_level_list=[0.42835742235183716, 0.03259241208434105], dummyDocumentsCategory=1, document_id_top=1342, topic_id_list=[271, 283, 181, 225, 198, 234], top_confidence_level_list=[0.04573090001940727, 0.02532009780406952, 0.012121617794036865, 0.009574255906045437, 0.009129123762249947, 0.008289709687232971], dummyDocumentsTopics=1, document_id_ent=None, entity_id_list=None, ent_confidence_level_list=None, dummyDocumentsEntities=None),\n",
       " Row(uuid_pv=u'9ea0f782cfc412', document_id_pv=1342, timestamp_pv=684615664, platform_pv=1, geo_location_pv=u'US>CA>825', traffic_source_pv=1, document_id_doc=1342, source_id=475, publisher_id=937, publish_time=datetime.datetime(2015, 1, 1, 0, 0), dummyDocumentsMeta=1, document_id_cat=1342, category_id_list=[1408, 2004], cat_confidence_level_list=[0.42835742235183716, 0.03259241208434105], dummyDocumentsCategory=1, document_id_top=1342, topic_id_list=[271, 283, 181, 225, 198, 234], top_confidence_level_list=[0.04573090001940727, 0.02532009780406952, 0.012121617794036865, 0.009574255906045437, 0.009129123762249947, 0.008289709687232971], dummyDocumentsTopics=1, document_id_ent=None, entity_id_list=None, ent_confidence_level_list=None, dummyDocumentsEntities=None),\n",
       " Row(uuid_pv=u'bc2b25656b054e', document_id_pv=1342, timestamp_pv=686034023, platform_pv=2, geo_location_pv=u'US>IN>588', traffic_source_pv=1, document_id_doc=1342, source_id=475, publisher_id=937, publish_time=datetime.datetime(2015, 1, 1, 0, 0), dummyDocumentsMeta=1, document_id_cat=1342, category_id_list=[1408, 2004], cat_confidence_level_list=[0.42835742235183716, 0.03259241208434105], dummyDocumentsCategory=1, document_id_top=1342, topic_id_list=[271, 283, 181, 225, 198, 234], top_confidence_level_list=[0.04573090001940727, 0.02532009780406952, 0.012121617794036865, 0.009574255906045437, 0.009129123762249947, 0.008289709687232971], dummyDocumentsTopics=1, document_id_ent=None, entity_id_list=None, ent_confidence_level_list=None, dummyDocumentsEntities=None),\n",
       " Row(uuid_pv=u'f5f772f5e1e5c6', document_id_pv=1342, timestamp_pv=979006320, platform_pv=1, geo_location_pv=u'ID>31', traffic_source_pv=2, document_id_doc=1342, source_id=475, publisher_id=937, publish_time=datetime.datetime(2015, 1, 1, 0, 0), dummyDocumentsMeta=1, document_id_cat=1342, category_id_list=[1408, 2004], cat_confidence_level_list=[0.42835742235183716, 0.03259241208434105], dummyDocumentsCategory=1, document_id_top=1342, topic_id_list=[271, 283, 181, 225, 198, 234], top_confidence_level_list=[0.04573090001940727, 0.02532009780406952, 0.012121617794036865, 0.009574255906045437, 0.009129123762249947, 0.008289709687232971], dummyDocumentsTopics=1, document_id_ent=None, entity_id_list=None, ent_confidence_level_list=None, dummyDocumentsEntities=None),\n",
       " Row(uuid_pv=u'91dbca51533c0f', document_id_pv=1342, timestamp_pv=643108610, platform_pv=1, geo_location_pv=u'US>CA>803', traffic_source_pv=1, document_id_doc=1342, source_id=475, publisher_id=937, publish_time=datetime.datetime(2015, 1, 1, 0, 0), dummyDocumentsMeta=1, document_id_cat=1342, category_id_list=[1408, 2004], cat_confidence_level_list=[0.42835742235183716, 0.03259241208434105], dummyDocumentsCategory=1, document_id_top=1342, topic_id_list=[271, 283, 181, 225, 198, 234], top_confidence_level_list=[0.04573090001940727, 0.02532009780406952, 0.012121617794036865, 0.009574255906045437, 0.009129123762249947, 0.008289709687232971], dummyDocumentsTopics=1, document_id_ent=None, entity_id_list=None, ent_confidence_level_list=None, dummyDocumentsEntities=None),\n",
       " Row(uuid_pv=u'30fd8feb62908b', document_id_pv=1342, timestamp_pv=1200997136, platform_pv=1, geo_location_pv=u'US>GA>524', traffic_source_pv=1, document_id_doc=1342, source_id=475, publisher_id=937, publish_time=datetime.datetime(2015, 1, 1, 0, 0), dummyDocumentsMeta=1, document_id_cat=1342, category_id_list=[1408, 2004], cat_confidence_level_list=[0.42835742235183716, 0.03259241208434105], dummyDocumentsCategory=1, document_id_top=1342, topic_id_list=[271, 283, 181, 225, 198, 234], top_confidence_level_list=[0.04573090001940727, 0.02532009780406952, 0.012121617794036865, 0.009574255906045437, 0.009129123762249947, 0.008289709687232971], dummyDocumentsTopics=1, document_id_ent=None, entity_id_list=None, ent_confidence_level_list=None, dummyDocumentsEntities=None),\n",
       " Row(uuid_pv=u'cb16c699e097b9', document_id_pv=1342, timestamp_pv=524704061, platform_pv=2, geo_location_pv=u'US>FL>539', traffic_source_pv=1, document_id_doc=1342, source_id=475, publisher_id=937, publish_time=datetime.datetime(2015, 1, 1, 0, 0), dummyDocumentsMeta=1, document_id_cat=1342, category_id_list=[1408, 2004], cat_confidence_level_list=[0.42835742235183716, 0.03259241208434105], dummyDocumentsCategory=1, document_id_top=1342, topic_id_list=[271, 283, 181, 225, 198, 234], top_confidence_level_list=[0.04573090001940727, 0.02532009780406952, 0.012121617794036865, 0.009574255906045437, 0.009129123762249947, 0.008289709687232971], dummyDocumentsTopics=1, document_id_ent=None, entity_id_list=None, ent_confidence_level_list=None, dummyDocumentsEntities=None)]"
      ]
     },
     "execution_count": 89,
     "metadata": {},
     "output_type": "execute_result"
    },
    {
     "data": {
      "text/plain": [
       "[Row(uuid_pv=u'4d22935665a23c', document_id_pv=148, timestamp_pv=1183603952, platform_pv=1, geo_location_pv=u'US>PA>577', traffic_source_pv=1, document_id_doc=148, source_id=1787, publisher_id=118, publish_time=datetime.datetime(2008, 7, 1, 0, 0), dummyDocumentsMeta=1, document_id_cat=148, category_id_list=[1403, 1702], cat_confidence_level_list=[0.9200000166893005, 0.07000000029802322], dummyDocumentsCategory=1, document_id_top=148, topic_id_list=[153, 140, 8, 172, 244, 179, 36, 2, 64, 10, 216], top_confidence_level_list=[0.0752369686961174, 0.0719832107424736, 0.06108427047729492, 0.042060330510139465, 0.03971264883875847, 0.03684856742620468, 0.030745454132556915, 0.026049140840768814, 0.01605464331805706, 0.010918059386312962, 0.008370612747967243], dummyDocumentsTopics=1, document_id_ent=148, entity_id_list=[u'e1c74838563ef5d205063b0d95afa414', u'6fd68f102042c6554cb2592fae942264', u'ae3de5466bfa10459eebcbe02ac9b3ee', u'9da9595caa381755c9353ae7179f2117', u'b973c2e55831fb4025003e0259aa820f', u'6eb92e281e46d463ce80317efd785d68', u'c323569535ca4c3d2ce474f4d825cc80', u'daf2f4c9cd8dbf10482f06200e613939'], ent_confidence_level_list=[0.6320257782936096, 0.4049091041088104, 0.2763647139072418, 0.2726665735244751, 0.26643022894859314, 0.25995519757270813, 0.2214961051940918, 0.21287654340267181], dummyDocumentsEntities=1),\n",
       " Row(uuid_pv=u'ff6e4010334bf9', document_id_pv=148, timestamp_pv=998381923, platform_pv=2, geo_location_pv=u'US>SC>570', traffic_source_pv=1, document_id_doc=148, source_id=1787, publisher_id=118, publish_time=datetime.datetime(2008, 7, 1, 0, 0), dummyDocumentsMeta=1, document_id_cat=148, category_id_list=[1403, 1702], cat_confidence_level_list=[0.9200000166893005, 0.07000000029802322], dummyDocumentsCategory=1, document_id_top=148, topic_id_list=[153, 140, 8, 172, 244, 179, 36, 2, 64, 10, 216], top_confidence_level_list=[0.0752369686961174, 0.0719832107424736, 0.06108427047729492, 0.042060330510139465, 0.03971264883875847, 0.03684856742620468, 0.030745454132556915, 0.026049140840768814, 0.01605464331805706, 0.010918059386312962, 0.008370612747967243], dummyDocumentsTopics=1, document_id_ent=148, entity_id_list=[u'e1c74838563ef5d205063b0d95afa414', u'6fd68f102042c6554cb2592fae942264', u'ae3de5466bfa10459eebcbe02ac9b3ee', u'9da9595caa381755c9353ae7179f2117', u'b973c2e55831fb4025003e0259aa820f', u'6eb92e281e46d463ce80317efd785d68', u'c323569535ca4c3d2ce474f4d825cc80', u'daf2f4c9cd8dbf10482f06200e613939'], ent_confidence_level_list=[0.6320257782936096, 0.4049091041088104, 0.2763647139072418, 0.2726665735244751, 0.26643022894859314, 0.25995519757270813, 0.2214961051940918, 0.21287654340267181], dummyDocumentsEntities=1),\n",
       " Row(uuid_pv=u'39b827db7fae44', document_id_pv=1238, timestamp_pv=75530355, platform_pv=1, geo_location_pv=u'US>VA>511', traffic_source_pv=1, document_id_doc=1238, source_id=3233, publisher_id=202, publish_time=datetime.datetime(2007, 5, 10, 0, 0), dummyDocumentsMeta=1, document_id_cat=1238, category_id_list=[1100, 1407], cat_confidence_level_list=[0.3483666479587555, 0.026506157591938972], dummyDocumentsCategory=1, document_id_top=1238, topic_id_list=[89, 221, 192, 236], top_confidence_level_list=[0.023348163813352585, 0.014387463219463825, 0.009628573432564735, 0.009417240507900715], dummyDocumentsTopics=1, document_id_ent=None, entity_id_list=None, ent_confidence_level_list=None, dummyDocumentsEntities=None),\n",
       " Row(uuid_pv=u'474e23a2cc5d2b', document_id_pv=1342, timestamp_pv=1152614794, platform_pv=1, geo_location_pv=u'GB>H9', traffic_source_pv=1, document_id_doc=1342, source_id=475, publisher_id=937, publish_time=datetime.datetime(2015, 1, 1, 0, 0), dummyDocumentsMeta=1, document_id_cat=1342, category_id_list=[1408, 2004], cat_confidence_level_list=[0.42835742235183716, 0.03259241208434105], dummyDocumentsCategory=1, document_id_top=1342, topic_id_list=[271, 283, 181, 225, 198, 234], top_confidence_level_list=[0.04573090001940727, 0.02532009780406952, 0.012121617794036865, 0.009574255906045437, 0.009129123762249947, 0.008289709687232971], dummyDocumentsTopics=1, document_id_ent=None, entity_id_list=None, ent_confidence_level_list=None, dummyDocumentsEntities=None),\n",
       " Row(uuid_pv=u'9ea0f782cfc412', document_id_pv=1342, timestamp_pv=684615664, platform_pv=1, geo_location_pv=u'US>CA>825', traffic_source_pv=1, document_id_doc=1342, source_id=475, publisher_id=937, publish_time=datetime.datetime(2015, 1, 1, 0, 0), dummyDocumentsMeta=1, document_id_cat=1342, category_id_list=[1408, 2004], cat_confidence_level_list=[0.42835742235183716, 0.03259241208434105], dummyDocumentsCategory=1, document_id_top=1342, topic_id_list=[271, 283, 181, 225, 198, 234], top_confidence_level_list=[0.04573090001940727, 0.02532009780406952, 0.012121617794036865, 0.009574255906045437, 0.009129123762249947, 0.008289709687232971], dummyDocumentsTopics=1, document_id_ent=None, entity_id_list=None, ent_confidence_level_list=None, dummyDocumentsEntities=None),\n",
       " Row(uuid_pv=u'bc2b25656b054e', document_id_pv=1342, timestamp_pv=686034023, platform_pv=2, geo_location_pv=u'US>IN>588', traffic_source_pv=1, document_id_doc=1342, source_id=475, publisher_id=937, publish_time=datetime.datetime(2015, 1, 1, 0, 0), dummyDocumentsMeta=1, document_id_cat=1342, category_id_list=[1408, 2004], cat_confidence_level_list=[0.42835742235183716, 0.03259241208434105], dummyDocumentsCategory=1, document_id_top=1342, topic_id_list=[271, 283, 181, 225, 198, 234], top_confidence_level_list=[0.04573090001940727, 0.02532009780406952, 0.012121617794036865, 0.009574255906045437, 0.009129123762249947, 0.008289709687232971], dummyDocumentsTopics=1, document_id_ent=None, entity_id_list=None, ent_confidence_level_list=None, dummyDocumentsEntities=None),\n",
       " Row(uuid_pv=u'f5f772f5e1e5c6', document_id_pv=1342, timestamp_pv=979006320, platform_pv=1, geo_location_pv=u'ID>31', traffic_source_pv=2, document_id_doc=1342, source_id=475, publisher_id=937, publish_time=datetime.datetime(2015, 1, 1, 0, 0), dummyDocumentsMeta=1, document_id_cat=1342, category_id_list=[1408, 2004], cat_confidence_level_list=[0.42835742235183716, 0.03259241208434105], dummyDocumentsCategory=1, document_id_top=1342, topic_id_list=[271, 283, 181, 225, 198, 234], top_confidence_level_list=[0.04573090001940727, 0.02532009780406952, 0.012121617794036865, 0.009574255906045437, 0.009129123762249947, 0.008289709687232971], dummyDocumentsTopics=1, document_id_ent=None, entity_id_list=None, ent_confidence_level_list=None, dummyDocumentsEntities=None),\n",
       " Row(uuid_pv=u'91dbca51533c0f', document_id_pv=1342, timestamp_pv=643108610, platform_pv=1, geo_location_pv=u'US>CA>803', traffic_source_pv=1, document_id_doc=1342, source_id=475, publisher_id=937, publish_time=datetime.datetime(2015, 1, 1, 0, 0), dummyDocumentsMeta=1, document_id_cat=1342, category_id_list=[1408, 2004], cat_confidence_level_list=[0.42835742235183716, 0.03259241208434105], dummyDocumentsCategory=1, document_id_top=1342, topic_id_list=[271, 283, 181, 225, 198, 234], top_confidence_level_list=[0.04573090001940727, 0.02532009780406952, 0.012121617794036865, 0.009574255906045437, 0.009129123762249947, 0.008289709687232971], dummyDocumentsTopics=1, document_id_ent=None, entity_id_list=None, ent_confidence_level_list=None, dummyDocumentsEntities=None),\n",
       " Row(uuid_pv=u'30fd8feb62908b', document_id_pv=1342, timestamp_pv=1200997136, platform_pv=1, geo_location_pv=u'US>GA>524', traffic_source_pv=1, document_id_doc=1342, source_id=475, publisher_id=937, publish_time=datetime.datetime(2015, 1, 1, 0, 0), dummyDocumentsMeta=1, document_id_cat=1342, category_id_list=[1408, 2004], cat_confidence_level_list=[0.42835742235183716, 0.03259241208434105], dummyDocumentsCategory=1, document_id_top=1342, topic_id_list=[271, 283, 181, 225, 198, 234], top_confidence_level_list=[0.04573090001940727, 0.02532009780406952, 0.012121617794036865, 0.009574255906045437, 0.009129123762249947, 0.008289709687232971], dummyDocumentsTopics=1, document_id_ent=None, entity_id_list=None, ent_confidence_level_list=None, dummyDocumentsEntities=None),\n",
       " Row(uuid_pv=u'cb16c699e097b9', document_id_pv=1342, timestamp_pv=524704061, platform_pv=2, geo_location_pv=u'US>FL>539', traffic_source_pv=1, document_id_doc=1342, source_id=475, publisher_id=937, publish_time=datetime.datetime(2015, 1, 1, 0, 0), dummyDocumentsMeta=1, document_id_cat=1342, category_id_list=[1408, 2004], cat_confidence_level_list=[0.42835742235183716, 0.03259241208434105], dummyDocumentsCategory=1, document_id_top=1342, topic_id_list=[271, 283, 181, 225, 198, 234], top_confidence_level_list=[0.04573090001940727, 0.02532009780406952, 0.012121617794036865, 0.009574255906045437, 0.009129123762249947, 0.008289709687232971], dummyDocumentsTopics=1, document_id_ent=None, entity_id_list=None, ent_confidence_level_list=None, dummyDocumentsEntities=None)]"
      ]
     },
     "execution_count": 89,
     "metadata": {},
     "output_type": "execute_result"
    },
    {
     "data": {
      "text/plain": [
       "[Row(uuid_pv=u'4d22935665a23c', document_id_pv=148, timestamp_pv=1183603952, platform_pv=1, geo_location_pv=u'US>PA>577', traffic_source_pv=1, document_id_doc=148, source_id=1787, publisher_id=118, publish_time=datetime.datetime(2008, 7, 1, 0, 0), dummyDocumentsMeta=1, document_id_cat=148, category_id_list=[1403, 1702], cat_confidence_level_list=[0.9200000166893005, 0.07000000029802322], dummyDocumentsCategory=1, document_id_top=148, topic_id_list=[153, 140, 8, 172, 244, 179, 36, 2, 64, 10, 216], top_confidence_level_list=[0.0752369686961174, 0.0719832107424736, 0.06108427047729492, 0.042060330510139465, 0.03971264883875847, 0.03684856742620468, 0.030745454132556915, 0.026049140840768814, 0.01605464331805706, 0.010918059386312962, 0.008370612747967243], dummyDocumentsTopics=1, document_id_ent=148, entity_id_list=[u'e1c74838563ef5d205063b0d95afa414', u'6fd68f102042c6554cb2592fae942264', u'ae3de5466bfa10459eebcbe02ac9b3ee', u'9da9595caa381755c9353ae7179f2117', u'b973c2e55831fb4025003e0259aa820f', u'6eb92e281e46d463ce80317efd785d68', u'c323569535ca4c3d2ce474f4d825cc80', u'daf2f4c9cd8dbf10482f06200e613939'], ent_confidence_level_list=[0.6320257782936096, 0.4049091041088104, 0.2763647139072418, 0.2726665735244751, 0.26643022894859314, 0.25995519757270813, 0.2214961051940918, 0.21287654340267181], dummyDocumentsEntities=1),\n",
       " Row(uuid_pv=u'ff6e4010334bf9', document_id_pv=148, timestamp_pv=998381923, platform_pv=2, geo_location_pv=u'US>SC>570', traffic_source_pv=1, document_id_doc=148, source_id=1787, publisher_id=118, publish_time=datetime.datetime(2008, 7, 1, 0, 0), dummyDocumentsMeta=1, document_id_cat=148, category_id_list=[1403, 1702], cat_confidence_level_list=[0.9200000166893005, 0.07000000029802322], dummyDocumentsCategory=1, document_id_top=148, topic_id_list=[153, 140, 8, 172, 244, 179, 36, 2, 64, 10, 216], top_confidence_level_list=[0.0752369686961174, 0.0719832107424736, 0.06108427047729492, 0.042060330510139465, 0.03971264883875847, 0.03684856742620468, 0.030745454132556915, 0.026049140840768814, 0.01605464331805706, 0.010918059386312962, 0.008370612747967243], dummyDocumentsTopics=1, document_id_ent=148, entity_id_list=[u'e1c74838563ef5d205063b0d95afa414', u'6fd68f102042c6554cb2592fae942264', u'ae3de5466bfa10459eebcbe02ac9b3ee', u'9da9595caa381755c9353ae7179f2117', u'b973c2e55831fb4025003e0259aa820f', u'6eb92e281e46d463ce80317efd785d68', u'c323569535ca4c3d2ce474f4d825cc80', u'daf2f4c9cd8dbf10482f06200e613939'], ent_confidence_level_list=[0.6320257782936096, 0.4049091041088104, 0.2763647139072418, 0.2726665735244751, 0.26643022894859314, 0.25995519757270813, 0.2214961051940918, 0.21287654340267181], dummyDocumentsEntities=1),\n",
       " Row(uuid_pv=u'39b827db7fae44', document_id_pv=1238, timestamp_pv=75530355, platform_pv=1, geo_location_pv=u'US>VA>511', traffic_source_pv=1, document_id_doc=1238, source_id=3233, publisher_id=202, publish_time=datetime.datetime(2007, 5, 10, 0, 0), dummyDocumentsMeta=1, document_id_cat=1238, category_id_list=[1100, 1407], cat_confidence_level_list=[0.3483666479587555, 0.026506157591938972], dummyDocumentsCategory=1, document_id_top=1238, topic_id_list=[89, 221, 192, 236], top_confidence_level_list=[0.023348163813352585, 0.014387463219463825, 0.009628573432564735, 0.009417240507900715], dummyDocumentsTopics=1, document_id_ent=None, entity_id_list=None, ent_confidence_level_list=None, dummyDocumentsEntities=None),\n",
       " Row(uuid_pv=u'474e23a2cc5d2b', document_id_pv=1342, timestamp_pv=1152614794, platform_pv=1, geo_location_pv=u'GB>H9', traffic_source_pv=1, document_id_doc=1342, source_id=475, publisher_id=937, publish_time=datetime.datetime(2015, 1, 1, 0, 0), dummyDocumentsMeta=1, document_id_cat=1342, category_id_list=[1408, 2004], cat_confidence_level_list=[0.42835742235183716, 0.03259241208434105], dummyDocumentsCategory=1, document_id_top=1342, topic_id_list=[271, 283, 181, 225, 198, 234], top_confidence_level_list=[0.04573090001940727, 0.02532009780406952, 0.012121617794036865, 0.009574255906045437, 0.009129123762249947, 0.008289709687232971], dummyDocumentsTopics=1, document_id_ent=None, entity_id_list=None, ent_confidence_level_list=None, dummyDocumentsEntities=None),\n",
       " Row(uuid_pv=u'9ea0f782cfc412', document_id_pv=1342, timestamp_pv=684615664, platform_pv=1, geo_location_pv=u'US>CA>825', traffic_source_pv=1, document_id_doc=1342, source_id=475, publisher_id=937, publish_time=datetime.datetime(2015, 1, 1, 0, 0), dummyDocumentsMeta=1, document_id_cat=1342, category_id_list=[1408, 2004], cat_confidence_level_list=[0.42835742235183716, 0.03259241208434105], dummyDocumentsCategory=1, document_id_top=1342, topic_id_list=[271, 283, 181, 225, 198, 234], top_confidence_level_list=[0.04573090001940727, 0.02532009780406952, 0.012121617794036865, 0.009574255906045437, 0.009129123762249947, 0.008289709687232971], dummyDocumentsTopics=1, document_id_ent=None, entity_id_list=None, ent_confidence_level_list=None, dummyDocumentsEntities=None),\n",
       " Row(uuid_pv=u'bc2b25656b054e', document_id_pv=1342, timestamp_pv=686034023, platform_pv=2, geo_location_pv=u'US>IN>588', traffic_source_pv=1, document_id_doc=1342, source_id=475, publisher_id=937, publish_time=datetime.datetime(2015, 1, 1, 0, 0), dummyDocumentsMeta=1, document_id_cat=1342, category_id_list=[1408, 2004], cat_confidence_level_list=[0.42835742235183716, 0.03259241208434105], dummyDocumentsCategory=1, document_id_top=1342, topic_id_list=[271, 283, 181, 225, 198, 234], top_confidence_level_list=[0.04573090001940727, 0.02532009780406952, 0.012121617794036865, 0.009574255906045437, 0.009129123762249947, 0.008289709687232971], dummyDocumentsTopics=1, document_id_ent=None, entity_id_list=None, ent_confidence_level_list=None, dummyDocumentsEntities=None),\n",
       " Row(uuid_pv=u'f5f772f5e1e5c6', document_id_pv=1342, timestamp_pv=979006320, platform_pv=1, geo_location_pv=u'ID>31', traffic_source_pv=2, document_id_doc=1342, source_id=475, publisher_id=937, publish_time=datetime.datetime(2015, 1, 1, 0, 0), dummyDocumentsMeta=1, document_id_cat=1342, category_id_list=[1408, 2004], cat_confidence_level_list=[0.42835742235183716, 0.03259241208434105], dummyDocumentsCategory=1, document_id_top=1342, topic_id_list=[271, 283, 181, 225, 198, 234], top_confidence_level_list=[0.04573090001940727, 0.02532009780406952, 0.012121617794036865, 0.009574255906045437, 0.009129123762249947, 0.008289709687232971], dummyDocumentsTopics=1, document_id_ent=None, entity_id_list=None, ent_confidence_level_list=None, dummyDocumentsEntities=None),\n",
       " Row(uuid_pv=u'91dbca51533c0f', document_id_pv=1342, timestamp_pv=643108610, platform_pv=1, geo_location_pv=u'US>CA>803', traffic_source_pv=1, document_id_doc=1342, source_id=475, publisher_id=937, publish_time=datetime.datetime(2015, 1, 1, 0, 0), dummyDocumentsMeta=1, document_id_cat=1342, category_id_list=[1408, 2004], cat_confidence_level_list=[0.42835742235183716, 0.03259241208434105], dummyDocumentsCategory=1, document_id_top=1342, topic_id_list=[271, 283, 181, 225, 198, 234], top_confidence_level_list=[0.04573090001940727, 0.02532009780406952, 0.012121617794036865, 0.009574255906045437, 0.009129123762249947, 0.008289709687232971], dummyDocumentsTopics=1, document_id_ent=None, entity_id_list=None, ent_confidence_level_list=None, dummyDocumentsEntities=None),\n",
       " Row(uuid_pv=u'30fd8feb62908b', document_id_pv=1342, timestamp_pv=1200997136, platform_pv=1, geo_location_pv=u'US>GA>524', traffic_source_pv=1, document_id_doc=1342, source_id=475, publisher_id=937, publish_time=datetime.datetime(2015, 1, 1, 0, 0), dummyDocumentsMeta=1, document_id_cat=1342, category_id_list=[1408, 2004], cat_confidence_level_list=[0.42835742235183716, 0.03259241208434105], dummyDocumentsCategory=1, document_id_top=1342, topic_id_list=[271, 283, 181, 225, 198, 234], top_confidence_level_list=[0.04573090001940727, 0.02532009780406952, 0.012121617794036865, 0.009574255906045437, 0.009129123762249947, 0.008289709687232971], dummyDocumentsTopics=1, document_id_ent=None, entity_id_list=None, ent_confidence_level_list=None, dummyDocumentsEntities=None),\n",
       " Row(uuid_pv=u'cb16c699e097b9', document_id_pv=1342, timestamp_pv=524704061, platform_pv=2, geo_location_pv=u'US>FL>539', traffic_source_pv=1, document_id_doc=1342, source_id=475, publisher_id=937, publish_time=datetime.datetime(2015, 1, 1, 0, 0), dummyDocumentsMeta=1, document_id_cat=1342, category_id_list=[1408, 2004], cat_confidence_level_list=[0.42835742235183716, 0.03259241208434105], dummyDocumentsCategory=1, document_id_top=1342, topic_id_list=[271, 283, 181, 225, 198, 234], top_confidence_level_list=[0.04573090001940727, 0.02532009780406952, 0.012121617794036865, 0.009574255906045437, 0.009129123762249947, 0.008289709687232971], dummyDocumentsTopics=1, document_id_ent=None, entity_id_list=None, ent_confidence_level_list=None, dummyDocumentsEntities=None)]"
      ]
     },
     "execution_count": 89,
     "metadata": {},
     "output_type": "execute_result"
    }
   ],
   "source": [
    "page_views_train_df.take(10)"
   ]
  },
  {
   "cell_type": "markdown",
   "metadata": {},
   "source": [
    "# Processing user profiles"
   ]
  },
  {
   "cell_type": "code",
   "execution_count": 71,
   "metadata": {},
   "outputs": [
    {
     "data": {
      "text/html": [
       "\n",
       "          <script src=\"/static/components/requirejs/require.js\"></script>\n",
       "          <script>\n",
       "            requirejs.config({\n",
       "              paths: {\n",
       "                base: '/static/base',\n",
       "              },\n",
       "            });\n",
       "          </script>\n",
       "          "
      ],
      "text/plain": [
       "<IPython.core.display.HTML object>"
      ]
     },
     "metadata": {},
     "output_type": "display_data"
    }
   ],
   "source": [
    "int_null_to_minus_one_udf = F.udf(lambda x: x if x != None else -1, IntegerType())\n",
    "int_list_null_to_empty_list_udf = F.udf(lambda x: x if x != None else [], ArrayType(IntegerType()))\n",
    "float_list_null_to_empty_list_udf = F.udf(lambda x: x if x != None else [], ArrayType(FloatType()))\n",
    "str_list_null_to_empty_list_udf = F.udf(lambda x: x if x != None else [], ArrayType(StringType()))"
   ]
  },
  {
   "cell_type": "code",
   "execution_count": 74,
   "metadata": {},
   "outputs": [
    {
     "data": {
      "text/html": [
       "\n",
       "          <script src=\"/static/components/requirejs/require.js\"></script>\n",
       "          <script>\n",
       "            requirejs.config({\n",
       "              paths: {\n",
       "                base: '/static/base',\n",
       "              },\n",
       "            });\n",
       "          </script>\n",
       "          "
      ],
      "text/plain": [
       "<IPython.core.display.HTML object>"
      ]
     },
     "metadata": {},
     "output_type": "display_data"
    }
   ],
   "source": [
    "page_views_by_user_df = page_views_train_df.select(\n",
    "                           'uuid_pv', \n",
    "                           'document_id_pv', \n",
    "                           int_null_to_minus_one_udf('timestamp_pv').alias('timestamp_pv'), # None는 -1, 아니면 그대로 사용\n",
    "                           int_list_null_to_empty_list_udf('category_id_list').alias('category_id_list'), # None는 [], 아니면 그대로 사용\n",
    "                           float_list_null_to_empty_list_udf('cat_confidence_level_list').alias('cat_confidence_level_list'), # None는 [], 아니면 그대로 사용\n",
    "                           int_list_null_to_empty_list_udf('topic_id_list').alias('topic_id_list'), # None는 [], 아니면 그대로 사용\n",
    "                           float_list_null_to_empty_list_udf('top_confidence_level_list').alias('top_confidence_level_list'), \n",
    "                           str_list_null_to_empty_list_udf('entity_id_list').alias('entity_id_list'), # None는 [], 아니면 그대로 사용\n",
    "                           float_list_null_to_empty_list_udf('ent_confidence_level_list').alias('ent_confidence_level_list')) \\\n",
    "                    .groupBy('uuid_pv') \\\n",
    "                    .agg(F.collect_list('document_id_pv').alias('document_id_pv_list'), # uuid_pv 기준으로, document_id_pv를 document_id_pv_list로 row를 합쳐서 생성 : [document_id_pv1, document_id_pv2]\n",
    "                         F.collect_list('timestamp_pv').alias('timestamp_pv_list'), # uuid_pv 기준으로, timestamp_pv를 timestamp_pv_list로 row를 합쳐서 생성 : [timestamp_pv1, timestamp_pv2]\n",
    "                         F.collect_list('category_id_list').alias('category_id_lists'), # uuid_pv 기준으로, category_id_list를 category_id_lists로 row를 합쳐서 생성 : [category_id_list1, category_id_list2]\n",
    "                         F.collect_list('cat_confidence_level_list').alias('cat_confidence_level_lists'), # uuid_pv 기준으로, cat_confidence_level_list를 cat_confidence_level_lists로 row를 합쳐서 생성 : [cat_confidence_level_list1, cat_confidence_level_list2]\n",
    "                         F.collect_list('topic_id_list').alias('topic_id_lists'), # uuid_pv 기준으로, topic_id_list를 topic_id_lists로 row를 합쳐서 생성 : [topic_id_list1, topic_id_list2]\n",
    "                         F.collect_list('top_confidence_level_list').alias('top_confidence_level_lists'), # uuid_pv 기준으로, top_confidence_level_list를 top_confidence_level_lists로 row를 합쳐서 생성 : [top_confidence_level_list1, top_confidence_level_list2]\n",
    "                         F.collect_list('entity_id_list').alias('entity_id_lists'), # uuid_pv 기준으로, entity_id_list를 entity_id_lists로 row를 합쳐서 생성 : [entity_id_list1, entity_id_list2]\n",
    "                         F.collect_list('ent_confidence_level_list').alias('ent_confidence_level_lists') # uuid_pv 기준으로, ent_confidence_level_list를 ent_confidence_level_lists로 row를 합쳐서 생성 : [ent_confidence_level_list1, ent_confidence_level_list2]\n",
    "                        )\n",
    "\n",
    "# .groupBy().agg(F.collect_list()) 참조 - https://stackoverflow.com/questions/37580782/pyspark-collect-set-or-collect-list-with-groupby"
   ]
  },
  {
   "cell_type": "code",
   "execution_count": 75,
   "metadata": {},
   "outputs": [
    {
     "data": {
      "text/html": [
       "\n",
       "          <script src=\"/static/components/requirejs/require.js\"></script>\n",
       "          <script>\n",
       "            requirejs.config({\n",
       "              paths: {\n",
       "                base: '/static/base',\n",
       "              },\n",
       "            });\n",
       "          </script>\n",
       "          "
      ],
      "text/plain": [
       "<IPython.core.display.HTML object>"
      ]
     },
     "metadata": {},
     "output_type": "display_data"
    },
    {
     "name": "stdout",
     "output_type": "stream",
     "text": [
      "(5799892, 9)\n"
     ]
    }
   ],
   "source": [
    "print((page_views_by_user_df.count(), len(page_views_by_user_df.columns)))"
   ]
  },
  {
   "cell_type": "code",
   "execution_count": null,
   "metadata": {},
   "outputs": [
    {
     "data": {
      "text/html": [
       "\n",
       "          <script src=\"/static/components/requirejs/require.js\"></script>\n",
       "          <script>\n",
       "            requirejs.config({\n",
       "              paths: {\n",
       "                base: '/static/base',\n",
       "              },\n",
       "            });\n",
       "          </script>\n",
       "          "
      ],
      "text/plain": [
       "<IPython.core.display.HTML object>"
      ]
     },
     "metadata": {},
     "output_type": "display_data"
    },
    {
     "data": {
      "text/plain": [
       "[Row(uuid_pv=u'1000615e760786', document_id_pv_list=[2959725, 2730005, 2730005], timestamp_pv_list=[1288970662, 1032421362, 1088915797], category_id_lists=[[1907, 1914], [1903, 1403], [1903, 1403]], cat_confidence_level_lists=[[0.8844558000564575, 0.06729555130004883], [0.44797781109809875, 0.034085266292095184], [0.44797781109809875, 0.034085266292095184]], topic_id_lists=[[77], [266], [266]], top_confidence_level_lists=[[0.2766975164413452], [0.48858878016471863], [0.48858878016471863]], entity_id_lists=[[u'753fa42329661c4eb3b1e99e63a7e46d', u'3b4a364141e7c25731a15cd4ef643d9e', u'ea7f7e8b98b3212620cea38b90d89321', u'246f2c584db092a36a14533b067ccb1b', u'87f8f9a6d35ec4f07d4fd425db84c998', u'8a74cb33e81530f941bcb99a067a6baa', u'504a2a4f3b97b8511737fc0b7d55dc46'], [], []], ent_confidence_level_lists=[[0.8671315312385559, 0.2762681841850281, 0.26690584421157837, 0.2412770390510559, 0.23743495345115662, 0.2357538640499115, 0.2116575986146927], [], []]),\n",
       " Row(uuid_pv=u'10042103b7ff2b', document_id_pv_list=[1415309, 1314190, 1160203, 1415882, 1419449], timestamp_pv_list=[1186172604, 1149159701, 1086859163, 1186194505, 1186174967], category_id_lists=[[1706, 2004], [1407, 1403], [1808, 1902], [1609, 1604], [1708, 1209]], cat_confidence_level_lists=[[0.5663037896156311, 0.04308833181858063], [0.9200000166893005, 0.07000000029802322], [0.9200000166893005, 0.07000000029802322], [0.511064887046814, 0.03888536989688873], [0.9200000166893005, 0.07000000029802322]], topic_id_lists=[[], [102], [25, 148], [16, 286, 29, 206, 252, 71, 92], [27, 290, 13, 107, 72, 97, 55, 241, 19]], top_confidence_level_lists=[[], [0.32939577102661133], [0.3751324415206909, 0.018813172355294228], [0.05440825968980789, 0.021038249135017395, 0.016372714191675186, 0.01404657494276762, 0.012699860148131847, 0.010832597501575947, 0.009129339829087257], [0.08590346574783325, 0.06561930477619171, 0.04003190994262695, 0.029934652149677277, 0.02914864756166935, 0.023735834285616875, 0.01560714840888977, 0.014909290708601475, 0.008457458578050137]], entity_id_lists=[[u'10e890e4b062d7667f849a3d8b053643'], [u'd701630d504640657f1460824347dcdd'], [u'023f51d65c5bdb42e23145a218e35ae4'], [], [u'df4abee18ef692f403ac5e4bd95bf38f']], ent_confidence_level_lists=[[0.831378698348999], [0.9036998152732849], [0.6098354458808899], [], [0.7623770236968994]]),\n",
       " Row(uuid_pv=u'1007b9cd87526d', document_id_pv_list=[1493650, 1493650, 1493650], timestamp_pv_list=[616104848, 723142933, 877988085], category_id_lists=[[1403, 1408], [1403, 1408], [1403, 1408]], cat_confidence_level_lists=[[0.41658520698547363, 0.03169669955968857], [0.41658520698547363, 0.03169669955968857], [0.41658520698547363, 0.03169669955968857]], topic_id_lists=[[100, 160, 175], [100, 160, 175], [100, 160, 175]], top_confidence_level_lists=[[0.03442904353141785, 0.021218029782176018, 0.015008925460278988], [0.03442904353141785, 0.021218029782176018, 0.015008925460278988], [0.03442904353141785, 0.021218029782176018, 0.015008925460278988]], entity_id_lists=[[], [], []], ent_confidence_level_lists=[[], [], []])]"
      ]
     },
     "execution_count": 91,
     "metadata": {},
     "output_type": "execute_result"
    }
   ],
   "source": [
    "page_views_by_user_df.take(3)"
   ]
  },
  {
   "cell_type": "code",
   "execution_count": 78,
   "metadata": {},
   "outputs": [
    {
     "data": {
      "text/html": [
       "\n",
       "          <script src=\"/static/components/requirejs/require.js\"></script>\n",
       "          <script>\n",
       "            requirejs.config({\n",
       "              paths: {\n",
       "                base: '/static/base',\n",
       "              },\n",
       "            });\n",
       "          </script>\n",
       "          "
      ],
      "text/plain": [
       "<IPython.core.display.HTML object>"
      ]
     },
     "metadata": {},
     "output_type": "display_data"
    }
   ],
   "source": [
    "from collections import defaultdict\n",
    "\n",
    "def get_user_aspects(docs_aspects, aspect_docs_counts):\n",
    "    docs_aspects_merged_lists = defaultdict(list)\n",
    "    \n",
    "    for doc_aspects in docs_aspects:\n",
    "        for key in doc_aspects.keys():\n",
    "            docs_aspects_merged_lists[key].append(doc_aspects[key])\n",
    "        \n",
    "    docs_aspects_stats = {}\n",
    "    for key in docs_aspects_merged_lists.keys():\n",
    "        aspect_list = docs_aspects_merged_lists[key] # aspect_list : category, topic, entities id 의 confidence_level , aspect_docs_counts[key] : category, topic, entities id 의 개수\n",
    "        tf = len(aspect_list) # category, topic, entities id 의 confidence_level 개수\n",
    "        idf = math.log(documents_total / float(aspect_docs_counts[key])) # log(documents_meta row 개수 / aspect_docs_counts[key] : category, topic, entities id 의 개수)\n",
    "        \n",
    "        confid_mean = sum(aspect_list) / float(len(aspect_list)) # category, topic, entities id 의 confidence_level 의 평균\n",
    "        docs_aspects_stats[key] = [tf*idf, confid_mean] \n",
    "\n",
    "        \n",
    "    return docs_aspects_stats # category, topic, entities id : tf*idf, confid_mean\n",
    "\n",
    "\n",
    "def generate_user_profile(docs_aspects_list, docs_aspects_confidence_list, aspect_docs_counts):    \n",
    "    docs_aspects = []\n",
    "    for doc_aspects_list, doc_aspects_confidence_list in zip(docs_aspects_list, docs_aspects_confidence_list):\n",
    "        doc_aspects = dict(zip(doc_aspects_list, doc_aspects_confidence_list))\n",
    "        docs_aspects.append(doc_aspects)\n",
    "        \n",
    "    user_aspects = get_user_aspects(docs_aspects, aspect_docs_counts)\n",
    "    return user_aspects"
   ]
  },
  {
   "cell_type": "code",
   "execution_count": 79,
   "metadata": {},
   "outputs": [
    {
     "data": {
      "text/html": [
       "\n",
       "          <script src=\"/static/components/requirejs/require.js\"></script>\n",
       "          <script>\n",
       "            requirejs.config({\n",
       "              paths: {\n",
       "                base: '/static/base',\n",
       "              },\n",
       "            });\n",
       "          </script>\n",
       "          "
      ],
      "text/plain": [
       "<IPython.core.display.HTML object>"
      ]
     },
     "metadata": {},
     "output_type": "display_data"
    }
   ],
   "source": [
    "get_list_len_udf = F.udf(lambda docs_list: len(docs_list), IntegerType())"
   ]
  },
  {
   "cell_type": "code",
   "execution_count": 80,
   "metadata": {},
   "outputs": [
    {
     "data": {
      "text/html": [
       "\n",
       "          <script src=\"/static/components/requirejs/require.js\"></script>\n",
       "          <script>\n",
       "            requirejs.config({\n",
       "              paths: {\n",
       "                base: '/static/base',\n",
       "              },\n",
       "            });\n",
       "          </script>\n",
       "          "
      ],
      "text/plain": [
       "<IPython.core.display.HTML object>"
      ]
     },
     "metadata": {},
     "output_type": "display_data"
    }
   ],
   "source": [
    "generate_categories_user_profile_map_udf = F.udf(lambda docs_aspects_list, \n",
    "                                                 docs_aspects_confidence_list: \\\n",
    "                                                      generate_user_profile(docs_aspects_list, \n",
    "                                                                            docs_aspects_confidence_list, \n",
    "                                                                            categories_docs_counts), \n",
    "                                          MapType(IntegerType(), \n",
    "                                                  ArrayType(FloatType()),\n",
    "                                                  False))\n",
    "\n",
    "\n",
    "generate_topics_user_profile_map_udf = F.udf(lambda docs_aspects_list, \n",
    "                                                 docs_aspects_confidence_list: \\\n",
    "                                                      generate_user_profile(docs_aspects_list, \n",
    "                                                                            docs_aspects_confidence_list, \n",
    "                                                                            topics_docs_counts), \n",
    "                                          MapType(IntegerType(), \n",
    "                                                  ArrayType(FloatType()),\n",
    "                                                  False))\n",
    "\n",
    "\n",
    "generate_entities_user_profile_map_udf = F.udf(lambda docs_aspects_list, \n",
    "                                                 docs_aspects_confidence_list: \\\n",
    "                                                      generate_user_profile(docs_aspects_list, \n",
    "                                                                            docs_aspects_confidence_list, \n",
    "                                                                            entities_docs_counts), \n",
    "                                          MapType(StringType(),\n",
    "                                                  ArrayType(FloatType()),\n",
    "                                                  False))"
   ]
  },
  {
   "cell_type": "code",
   "execution_count": 81,
   "metadata": {},
   "outputs": [
    {
     "data": {
      "text/html": [
       "\n",
       "          <script src=\"/static/components/requirejs/require.js\"></script>\n",
       "          <script>\n",
       "            requirejs.config({\n",
       "              paths: {\n",
       "                base: '/static/base',\n",
       "              },\n",
       "            });\n",
       "          </script>\n",
       "          "
      ],
      "text/plain": [
       "<IPython.core.display.HTML object>"
      ]
     },
     "metadata": {},
     "output_type": "display_data"
    }
   ],
   "source": [
    "users_profile_df = page_views_by_user_df \\\n",
    "                                 .withColumn('views', get_list_len_udf('document_id_pv_list')) \\\n",
    "                                 .withColumn('categories', \n",
    "                                             generate_categories_user_profile_map_udf('category_id_lists', \n",
    "                                                                   'cat_confidence_level_lists')) \\\n",
    "                                 .withColumn('topics', \n",
    "                                             generate_topics_user_profile_map_udf('topic_id_lists', \n",
    "                                                                               'top_confidence_level_lists')) \\\n",
    "                                 .withColumn('entities', \n",
    "                                             generate_entities_user_profile_map_udf('entity_id_lists', \n",
    "                                                                               'ent_confidence_level_lists')) \\\n",
    "                                 .select(F.col('uuid_pv').alias('uuid'),\n",
    "                                         F.col('document_id_pv_list').alias('doc_ids'),\n",
    "                                         'views',\n",
    "                                         'categories', 'topics', 'entities')"
   ]
  },
  {
   "cell_type": "code",
   "execution_count": null,
   "metadata": {},
   "outputs": [
    {
     "data": {
      "text/html": [
       "\n",
       "          <script src=\"/static/components/requirejs/require.js\"></script>\n",
       "          <script>\n",
       "            requirejs.config({\n",
       "              paths: {\n",
       "                base: '/static/base',\n",
       "              },\n",
       "            });\n",
       "          </script>\n",
       "          "
      ],
      "text/plain": [
       "<IPython.core.display.HTML object>"
      ]
     },
     "metadata": {},
     "output_type": "display_data"
    },
    {
     "name": "stdout",
     "output_type": "stream",
     "text": [
      "(5799892, 6)\n"
     ]
    }
   ],
   "source": [
    "print((users_profile_df.count(), len(users_profile_df.columns)))"
   ]
  },
  {
   "cell_type": "code",
   "execution_count": null,
   "metadata": {},
   "outputs": [
    {
     "data": {
      "text/html": [
       "\n",
       "          <script src=\"/static/components/requirejs/require.js\"></script>\n",
       "          <script>\n",
       "            requirejs.config({\n",
       "              paths: {\n",
       "                base: '/static/base',\n",
       "              },\n",
       "            });\n",
       "          </script>\n",
       "          "
      ],
      "text/plain": [
       "<IPython.core.display.HTML object>"
      ]
     },
     "metadata": {},
     "output_type": "display_data"
    },
    {
     "data": {
      "text/plain": [
       "[Row(uuid=u'1000615e760786', doc_ids=[2959725, 2730005, 2730005], views=3, categories={1403: [3.313638925552368, 0.034085266292095184], 1914: [4.851147174835205, 0.06729555130004883], 1907: [2.805744171142578, 0.8844558000564575], 1903: [6.904221534729004, 0.44797781109809875]}, topics={266: [11.43613052368164, 0.48858878016471863], 77: [6.078690528869629, 0.2766975164413452]}, entities={u'87f8f9a6d35ec4f07d4fd425db84c998': [7.4499640464782715, 0.23743495345115662], u'8a74cb33e81530f941bcb99a067a6baa': [9.864045143127441, 0.2357538640499115], u'3b4a364141e7c25731a15cd4ef643d9e': [13.815288543701172, 0.2762681841850281], u'753fa42329661c4eb3b1e99e63a7e46d': [12.080687522888184, 0.8671315312385559], u'504a2a4f3b97b8511737fc0b7d55dc46': [14.913900375366211, 0.2116575986146927], u'246f2c584db092a36a14533b067ccb1b': [8.648599624633789, 0.2412770390510559], u'ea7f7e8b98b3212620cea38b90d89321': [12.080687522888184, 0.26690584421157837]}),\n",
       " Row(uuid=u'10042103b7ff2b', doc_ids=[1415309, 1314190, 1419449, 1415882, 1160203], views=5, categories={1604: [3.7963614463806152, 0.03888536989688873], 1609: [3.8473405838012695, 0.511064887046814], 1706: [3.35056734085083, 0.5663037896156311], 1708: [3.0439443588256836, 0.9200000166893005], 1902: [2.3263893127441406, 0.07000000029802322], 1808: [2.517348289489746, 0.9200000166893005], 2004: [2.935142993927002, 0.04308833181858063], 1209: [4.468379497528076, 0.07000000029802322], 1403: [1.656819462776184, 0.07000000029802322], 1407: [3.1795692443847656, 0.9200000166893005]}, topics={97: [3.4155917167663574, 0.023735834285616875], 290: [3.8706271648406982, 0.06561930477619171], 102: [3.7848012447357178, 0.32939577102661133], 71: [3.514143943786621, 0.010832597501575947], 72: [4.790876388549805, 0.02914864756166935], 92: [3.415449619293213, 0.009129339829087257], 107: [2.945812463760376, 0.029934652149677277], 13: [3.7543129920959473, 0.04003190994262695], 206: [5.726419925689697, 0.01404657494276762], 16: [2.4143528938293457, 0.05440825968980789], 241: [3.918607473373413, 0.014909290708601475], 19: [4.390966415405273, 0.008457458578050137], 148: [4.087226390838623, 0.018813172355294228], 55: [4.0262956619262695, 0.01560714840888977], 25: [3.3501017093658447, 0.3751324415206909], 27: [4.06148099899292, 0.08590346574783325], 252: [3.4513111114501953, 0.012699860148131847], 29: [4.906008243560791, 0.016372714191675186], 286: [4.205456256866455, 0.021038249135017395]}, entities={u'023f51d65c5bdb42e23145a218e35ae4': [13.304462432861328, 0.6098354458808899], u'df4abee18ef692f403ac5e4bd95bf38f': [9.330404281616211, 0.7623770236968994], u'10e890e4b062d7667f849a3d8b053643': [7.962128639221191, 0.831378698348999], u'd701630d504640657f1460824347dcdd': [11.302983283996582, 0.9036998152732849]}),\n",
       " Row(uuid=u'1007b9cd87526d', doc_ids=[1493650, 1493650, 1493650], views=3, categories={1408: [8.871119499206543, 0.03169669955968857], 1403: [4.970458507537842, 0.41658520698547363]}, topics={160: [9.607160568237305, 0.021218029782176018], 100: [10.755992889404297, 0.03442904353141785], 175: [13.414750099182129, 0.015008925460278988]}, entities={})]"
      ]
     },
     "execution_count": 92,
     "metadata": {},
     "output_type": "execute_result"
    }
   ],
   "source": [
    "users_profile_df.take(3)"
   ]
  },
  {
   "cell_type": "code",
   "execution_count": null,
   "metadata": {},
   "outputs": [
    {
     "data": {
      "text/html": [
       "\n",
       "          <script src=\"/static/components/requirejs/require.js\"></script>\n",
       "          <script>\n",
       "            requirejs.config({\n",
       "              paths: {\n",
       "                base: '/static/base',\n",
       "              },\n",
       "            });\n",
       "          </script>\n",
       "          "
      ],
      "text/plain": [
       "<IPython.core.display.HTML object>"
      ]
     },
     "metadata": {},
     "output_type": "display_data"
    }
   ],
   "source": [
    "table_name = 'user_profiles'\n",
    "\n",
    "users_profile_df.write.parquet(OUTPUT_BUCKET_FOLDER+table_name, mode='overwrite')"
   ]
  },
  {
   "cell_type": "code",
   "execution_count": null,
   "metadata": {
    "collapsed": true
   },
   "outputs": [],
   "source": []
  }
 ],
 "metadata": {
  "kernelspec": {
   "display_name": "Python 3",
   "language": "python",
   "name": "python3"
  },
  "language_info": {
   "codemirror_mode": {
    "name": "ipython",
    "version": 3
   },
   "file_extension": ".py",
   "mimetype": "text/x-python",
   "name": "python",
   "nbconvert_exporter": "python",
   "pygments_lexer": "ipython3",
   "version": "3.6.3"
  }
 },
 "nbformat": 4,
 "nbformat_minor": 2
}
