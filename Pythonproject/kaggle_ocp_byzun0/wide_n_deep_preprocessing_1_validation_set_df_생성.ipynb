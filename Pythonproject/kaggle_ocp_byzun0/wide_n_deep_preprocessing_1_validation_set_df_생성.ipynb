{
 "cells": [
  {
   "cell_type": "code",
   "execution_count": 1,
   "metadata": {},
   "outputs": [
    {
     "data": {
      "text/html": [
       "\n",
       "          <script src=\"/static/components/requirejs/require.js\"></script>\n",
       "          <script>\n",
       "            requirejs.config({\n",
       "              paths: {\n",
       "                base: '/static/base',\n",
       "              },\n",
       "            });\n",
       "          </script>\n",
       "          "
      ],
      "text/plain": [
       "<IPython.core.display.HTML object>"
      ]
     },
     "metadata": {},
     "output_type": "display_data"
    }
   ],
   "source": [
    "OUTPUT_BUCKET_FOLDER = \"gs://kaggle-ocp-data/output/\"\n",
    "DATA_BUCKET_FOLDER = \"gs://kaggle-ocp-data/data/\""
   ]
  },
  {
   "cell_type": "code",
   "execution_count": 2,
   "metadata": {},
   "outputs": [
    {
     "data": {
      "text/html": [
       "\n",
       "          <script src=\"/static/components/requirejs/require.js\"></script>\n",
       "          <script>\n",
       "            requirejs.config({\n",
       "              paths: {\n",
       "                base: '/static/base',\n",
       "              },\n",
       "            });\n",
       "          </script>\n",
       "          "
      ],
      "text/plain": [
       "<IPython.core.display.HTML object>"
      ]
     },
     "metadata": {},
     "output_type": "display_data"
    }
   ],
   "source": [
    "from pyspark.sql.types import *\n",
    "import pyspark.sql.functions as F"
   ]
  },
  {
   "cell_type": "markdown",
   "metadata": {},
   "source": [
    "# Loading data"
   ]
  },
  {
   "cell_type": "code",
   "execution_count": 3,
   "metadata": {},
   "outputs": [
    {
     "data": {
      "text/html": [
       "\n",
       "          <script src=\"/static/components/requirejs/require.js\"></script>\n",
       "          <script>\n",
       "            requirejs.config({\n",
       "              paths: {\n",
       "                base: '/static/base',\n",
       "              },\n",
       "            });\n",
       "          </script>\n",
       "          "
      ],
      "text/plain": [
       "<IPython.core.display.HTML object>"
      ]
     },
     "metadata": {},
     "output_type": "display_data"
    }
   ],
   "source": [
    "truncate_day_from_timestamp_udf = F.udf(lambda ts: int(ts / 1000 / 60 / 60 / 24), IntegerType())"
   ]
  },
  {
   "cell_type": "code",
   "execution_count": 4,
   "metadata": {},
   "outputs": [
    {
     "data": {
      "text/html": [
       "\n",
       "          <script src=\"/static/components/requirejs/require.js\"></script>\n",
       "          <script>\n",
       "            requirejs.config({\n",
       "              paths: {\n",
       "                base: '/static/base',\n",
       "              },\n",
       "            });\n",
       "          </script>\n",
       "          "
      ],
      "text/plain": [
       "<IPython.core.display.HTML object>"
      ]
     },
     "metadata": {},
     "output_type": "display_data"
    }
   ],
   "source": [
    "events_schema = StructType(\n",
    "                    [StructField(\"display_id\", IntegerType(), True),\n",
    "                    StructField(\"uuid_event\", StringType(), True),                    \n",
    "                    StructField(\"document_id_event\", IntegerType(), True),\n",
    "                    StructField(\"timestamp_event\", IntegerType(), True),\n",
    "                    StructField(\"platform_event\", IntegerType(), True),\n",
    "                    StructField(\"geo_location_event\", StringType(), True)]\n",
    "                    )\n",
    "\n",
    "events_df = spark.read.schema(events_schema).options(header='true', inferschema='false', nullValue='\\\\N') \\\n",
    "                .csv(DATA_BUCKET_FOLDER + \"events.csv\") \\\n",
    "                .withColumn('day_event', truncate_day_from_timestamp_udf('timestamp_event')) \\\n",
    "                .alias('events')"
   ]
  },
  {
   "cell_type": "code",
   "execution_count": 38,
   "metadata": {},
   "outputs": [
    {
     "data": {
      "text/html": [
       "\n",
       "          <script src=\"/static/components/requirejs/require.js\"></script>\n",
       "          <script>\n",
       "            requirejs.config({\n",
       "              paths: {\n",
       "                base: '/static/base',\n",
       "              },\n",
       "            });\n",
       "          </script>\n",
       "          "
      ],
      "text/plain": [
       "<IPython.core.display.HTML object>"
      ]
     },
     "metadata": {},
     "output_type": "display_data"
    },
    {
     "name": "stdout",
     "output_type": "stream",
     "text": [
      "+----------+--------------+-----------------+---------------+--------------+------------------+---------+\n",
      "|display_id|    uuid_event|document_id_event|timestamp_event|platform_event|geo_location_event|day_event|\n",
      "+----------+--------------+-----------------+---------------+--------------+------------------+---------+\n",
      "|         1|cb8c55702adb93|           379743|             61|             3|         US>SC>519|        0|\n",
      "|         2|79a85fa78311b9|          1794259|             81|             2|         US>CA>807|        0|\n",
      "|         3|822932ce3d8757|          1179111|            182|             2|         US>MI>505|        0|\n",
      "|         4|85281d0a49f7ac|          1777797|            234|             2|         US>WV>564|        0|\n",
      "|         5|8d0daef4bf5b56|           252458|            338|             2|             SG>00|        0|\n",
      "|         6|7765b4faae4ad4|          1773517|            395|             3|         US>OH>510|        0|\n",
      "|         7|2cc3f6457d16da|          1149661|            602|             2|         US>MT>762|        0|\n",
      "|         8|166fc654d73c98|          1330329|            638|             2|         US>PA>566|        0|\n",
      "|         9|9dddccf70f6067|          1772126|            667|             1|         US>FL>528|        0|\n",
      "|        10|b09a0e92aa4d17|           157455|            693|             1|                US|        0|\n",
      "|        11|602e210c5831e5|          1773230|            710|             3|         US>IL>675|        0|\n",
      "|        12|6fa993bd0e0157|           892701|            718|             1|         US>TX>612|        0|\n",
      "|        13|7355615832b3af|          1778533|            739|             1|         US>AZ>753|        0|\n",
      "|        14|daef797fc210a2|          1759953|            798|             3|         US>NC>560|        0|\n",
      "|        15|24c64dc30891c0|          1777136|           1000|             2|                GB|        0|\n",
      "|        16|30c0ad12b36375|          1727882|           1033|             1|         US>FL>561|        0|\n",
      "|        17|c80c06d718ba65|          1667725|           1044|             2|         US>MI>540|        0|\n",
      "|        18|eb58e66b4f6bb0|           429183|           1175|             2|         US>OR>820|        0|\n",
      "|        19|c419799a427c72|          1155107|           1202|             3|         US>HI>744|        0|\n",
      "|        20|650e3b5699738b|          1642724|           1282|             2|         US>MI>505|        0|\n",
      "+----------+--------------+-----------------+---------------+--------------+------------------+---------+\n",
      "only showing top 20 rows\n",
      "\n"
     ]
    }
   ],
   "source": [
    "events_df.show() #day_event는 timestmap를 truncate_day_from_timestamp_udf를 사용하여, 86400000으로 나눠, 날짜(day) 추출"
   ]
  },
  {
   "cell_type": "code",
   "execution_count": 40,
   "metadata": {},
   "outputs": [
    {
     "data": {
      "text/html": [
       "\n",
       "          <script src=\"/static/components/requirejs/require.js\"></script>\n",
       "          <script>\n",
       "            requirejs.config({\n",
       "              paths: {\n",
       "                base: '/static/base',\n",
       "              },\n",
       "            });\n",
       "          </script>\n",
       "          "
      ],
      "text/plain": [
       "<IPython.core.display.HTML object>"
      ]
     },
     "metadata": {},
     "output_type": "display_data"
    },
    {
     "name": "stdout",
     "output_type": "stream",
     "text": [
      "(23120126, 7)\n"
     ]
    }
   ],
   "source": [
    "print((events_df.count(), len(events_df.columns)))"
   ]
  },
  {
   "cell_type": "code",
   "execution_count": 24,
   "metadata": {},
   "outputs": [
    {
     "data": {
      "text/html": [
       "\n",
       "          <script src=\"/static/components/requirejs/require.js\"></script>\n",
       "          <script>\n",
       "            requirejs.config({\n",
       "              paths: {\n",
       "                base: '/static/base',\n",
       "              },\n",
       "            });\n",
       "          </script>\n",
       "          "
      ],
      "text/plain": [
       "<IPython.core.display.HTML object>"
      ]
     },
     "metadata": {},
     "output_type": "display_data"
    },
    {
     "name": "stdout",
     "output_type": "stream",
     "text": [
      "+---------+-------+\n",
      "|day_event|  count|\n",
      "+---------+-------+\n",
      "|       12|1477939|\n",
      "|        1|1516879|\n",
      "|       13|1672275|\n",
      "|        6|1699343|\n",
      "|        3|1486649|\n",
      "|        5|1319657|\n",
      "|        9|1614693|\n",
      "|        4|1310388|\n",
      "|        8|1616280|\n",
      "|        7|1596045|\n",
      "|       10|1583387|\n",
      "|       11|1356708|\n",
      "|       14|1595929|\n",
      "|        2|1573079|\n",
      "|        0|1700875|\n",
      "+---------+-------+\n",
      "\n"
     ]
    }
   ],
   "source": [
    "events_df.groupBy('day_event').count().show()"
   ]
  },
  {
   "cell_type": "code",
   "execution_count": 8,
   "metadata": {},
   "outputs": [
    {
     "data": {
      "text/html": [
       "\n",
       "          <script src=\"/static/components/requirejs/require.js\"></script>\n",
       "          <script>\n",
       "            requirejs.config({\n",
       "              paths: {\n",
       "                base: '/static/base',\n",
       "              },\n",
       "            });\n",
       "          </script>\n",
       "          "
      ],
      "text/plain": [
       "<IPython.core.display.HTML object>"
      ]
     },
     "metadata": {},
     "output_type": "display_data"
    }
   ],
   "source": [
    "promoted_content_schema = StructType(\n",
    "                    [StructField(\"ad_id\", IntegerType(), True),\n",
    "                    StructField(\"document_id_promo\", IntegerType(), True),                    \n",
    "                    StructField(\"campaign_id\", IntegerType(), True),\n",
    "                    StructField(\"advertiser_id\", IntegerType(), True)]\n",
    "                    )\n",
    "\n",
    "promoted_content_df = spark.read.schema(promoted_content_schema).options(header='true', inferschema='false', nullValue='\\\\N') \\\n",
    "                .csv(DATA_BUCKET_FOLDER+\"promoted_content.csv\") \\\n",
    "                .alias('promoted_content')"
   ]
  },
  {
   "cell_type": "code",
   "execution_count": 41,
   "metadata": {},
   "outputs": [
    {
     "data": {
      "text/html": [
       "\n",
       "          <script src=\"/static/components/requirejs/require.js\"></script>\n",
       "          <script>\n",
       "            requirejs.config({\n",
       "              paths: {\n",
       "                base: '/static/base',\n",
       "              },\n",
       "            });\n",
       "          </script>\n",
       "          "
      ],
      "text/plain": [
       "<IPython.core.display.HTML object>"
      ]
     },
     "metadata": {},
     "output_type": "display_data"
    },
    {
     "name": "stdout",
     "output_type": "stream",
     "text": [
      "(559583, 4)\n"
     ]
    }
   ],
   "source": [
    "print((promoted_content_df.count(), len(promoted_content_df.columns)))"
   ]
  },
  {
   "cell_type": "code",
   "execution_count": 42,
   "metadata": {},
   "outputs": [
    {
     "data": {
      "text/html": [
       "\n",
       "          <script src=\"/static/components/requirejs/require.js\"></script>\n",
       "          <script>\n",
       "            requirejs.config({\n",
       "              paths: {\n",
       "                base: '/static/base',\n",
       "              },\n",
       "            });\n",
       "          </script>\n",
       "          "
      ],
      "text/plain": [
       "<IPython.core.display.HTML object>"
      ]
     },
     "metadata": {},
     "output_type": "display_data"
    },
    {
     "name": "stdout",
     "output_type": "stream",
     "text": [
      "+-----+-----------------+-----------+-------------+\n",
      "|ad_id|document_id_promo|campaign_id|advertiser_id|\n",
      "+-----+-----------------+-----------+-------------+\n",
      "|    1|             6614|          1|            7|\n",
      "|    2|           471467|          2|            7|\n",
      "|    3|             7692|          3|            7|\n",
      "|    4|           471471|          2|            7|\n",
      "|    5|           471472|          2|            7|\n",
      "|    6|            12736|          1|            7|\n",
      "|    7|            12808|          1|            7|\n",
      "|    8|           471477|          2|            7|\n",
      "|    9|            13379|          1|            7|\n",
      "|   10|            13885|          1|            7|\n",
      "|   11|            14230|          1|            7|\n",
      "|   12|           446701|         10|           19|\n",
      "|   13|           471499|         10|           19|\n",
      "|   14|           471500|         10|           19|\n",
      "|   15|           471501|         10|           19|\n",
      "|   16|           471514|         17|           19|\n",
      "|   17|           471517|         10|           19|\n",
      "|   18|           471518|         10|           19|\n",
      "|   19|           471519|          5|           19|\n",
      "|   20|           446660|         21|           19|\n",
      "+-----+-----------------+-----------+-------------+\n",
      "only showing top 20 rows\n",
      "\n"
     ]
    }
   ],
   "source": [
    "promoted_content_df.show()"
   ]
  },
  {
   "cell_type": "code",
   "execution_count": 25,
   "metadata": {},
   "outputs": [
    {
     "data": {
      "text/html": [
       "\n",
       "          <script src=\"/static/components/requirejs/require.js\"></script>\n",
       "          <script>\n",
       "            requirejs.config({\n",
       "              paths: {\n",
       "                base: '/static/base',\n",
       "              },\n",
       "            });\n",
       "          </script>\n",
       "          "
      ],
      "text/plain": [
       "<IPython.core.display.HTML object>"
      ]
     },
     "metadata": {},
     "output_type": "display_data"
    }
   ],
   "source": [
    "clicks_train_schema = StructType(\n",
    "                    [StructField(\"display_id\", IntegerType(), True),\n",
    "                    StructField(\"ad_id\", IntegerType(), True),                    \n",
    "                    StructField(\"clicked\", IntegerType(), True)]\n",
    "                    )\n",
    "\n",
    "clicks_train_df = spark.read.schema(clicks_train_schema).options(header='true', inferschema='false', nullValue='\\\\N') \\\n",
    "                .csv(DATA_BUCKET_FOLDER+\"clicks_train.csv\") \\\n",
    "                .alias('clicks_train')"
   ]
  },
  {
   "cell_type": "code",
   "execution_count": 43,
   "metadata": {},
   "outputs": [
    {
     "data": {
      "text/html": [
       "\n",
       "          <script src=\"/static/components/requirejs/require.js\"></script>\n",
       "          <script>\n",
       "            requirejs.config({\n",
       "              paths: {\n",
       "                base: '/static/base',\n",
       "              },\n",
       "            });\n",
       "          </script>\n",
       "          "
      ],
      "text/plain": [
       "<IPython.core.display.HTML object>"
      ]
     },
     "metadata": {},
     "output_type": "display_data"
    },
    {
     "name": "stdout",
     "output_type": "stream",
     "text": [
      "(87141731, 3)\n"
     ]
    }
   ],
   "source": [
    "print((clicks_train_df.count(), len(clicks_train_df.columns)))"
   ]
  },
  {
   "cell_type": "code",
   "execution_count": 44,
   "metadata": {},
   "outputs": [
    {
     "data": {
      "text/html": [
       "\n",
       "          <script src=\"/static/components/requirejs/require.js\"></script>\n",
       "          <script>\n",
       "            requirejs.config({\n",
       "              paths: {\n",
       "                base: '/static/base',\n",
       "              },\n",
       "            });\n",
       "          </script>\n",
       "          "
      ],
      "text/plain": [
       "<IPython.core.display.HTML object>"
      ]
     },
     "metadata": {},
     "output_type": "display_data"
    },
    {
     "name": "stdout",
     "output_type": "stream",
     "text": [
      "+----------+------+-------+\n",
      "|display_id| ad_id|clicked|\n",
      "+----------+------+-------+\n",
      "|         1| 42337|      0|\n",
      "|         1|139684|      0|\n",
      "|         1|144739|      1|\n",
      "|         1|156824|      0|\n",
      "|         1|279295|      0|\n",
      "|         1|296965|      0|\n",
      "|         2|125211|      0|\n",
      "|         2|156535|      0|\n",
      "|         2|169564|      0|\n",
      "|         2|308455|      1|\n",
      "|         3| 71547|      0|\n",
      "|         3| 95814|      0|\n",
      "|         3|152141|      0|\n",
      "|         3|183846|      0|\n",
      "|         3|228657|      1|\n",
      "|         3|250082|      0|\n",
      "|         4|149930|      0|\n",
      "|         4|153623|      1|\n",
      "|         4|184709|      0|\n",
      "|         4|186849|      0|\n",
      "+----------+------+-------+\n",
      "only showing top 20 rows\n",
      "\n"
     ]
    }
   ],
   "source": [
    "clicks_train_df.show()"
   ]
  },
  {
   "cell_type": "code",
   "execution_count": 27,
   "metadata": {},
   "outputs": [
    {
     "data": {
      "text/html": [
       "\n",
       "          <script src=\"/static/components/requirejs/require.js\"></script>\n",
       "          <script>\n",
       "            requirejs.config({\n",
       "              paths: {\n",
       "                base: '/static/base',\n",
       "              },\n",
       "            });\n",
       "          </script>\n",
       "          "
      ],
      "text/plain": [
       "<IPython.core.display.HTML object>"
      ]
     },
     "metadata": {},
     "output_type": "display_data"
    }
   ],
   "source": [
    "clicks_train_joined_df = clicks_train_df \\\n",
    "                         .join(promoted_content_df, on='ad_id', how='left') \\\n",
    "                         .join(events_df, on='display_id', how='left')                         \n",
    "clicks_train_joined_df.createOrReplaceTempView('clicks_train_joined')"
   ]
  },
  {
   "cell_type": "code",
   "execution_count": 37,
   "metadata": {},
   "outputs": [
    {
     "data": {
      "text/html": [
       "\n",
       "          <script src=\"/static/components/requirejs/require.js\"></script>\n",
       "          <script>\n",
       "            requirejs.config({\n",
       "              paths: {\n",
       "                base: '/static/base',\n",
       "              },\n",
       "            });\n",
       "          </script>\n",
       "          "
      ],
      "text/plain": [
       "<IPython.core.display.HTML object>"
      ]
     },
     "metadata": {},
     "output_type": "display_data"
    },
    {
     "name": "stdout",
     "output_type": "stream",
     "text": [
      "(87141731, 12)\n"
     ]
    }
   ],
   "source": [
    "print((clicks_train_joined_df.count(), len(clicks_train_joined_df.columns)))"
   ]
  },
  {
   "cell_type": "code",
   "execution_count": 35,
   "metadata": {},
   "outputs": [
    {
     "data": {
      "text/html": [
       "\n",
       "          <script src=\"/static/components/requirejs/require.js\"></script>\n",
       "          <script>\n",
       "            requirejs.config({\n",
       "              paths: {\n",
       "                base: '/static/base',\n",
       "              },\n",
       "            });\n",
       "          </script>\n",
       "          "
      ],
      "text/plain": [
       "<IPython.core.display.HTML object>"
      ]
     },
     "metadata": {},
     "output_type": "display_data"
    },
    {
     "name": "stdout",
     "output_type": "stream",
     "text": [
      "+----------+------+-------+-----------------+-----------+-------------+--------------+-----------------+---------------+--------------+------------------+---------+\n",
      "|display_id| ad_id|clicked|document_id_promo|campaign_id|advertiser_id|    uuid_event|document_id_event|timestamp_event|platform_event|geo_location_event|day_event|\n",
      "+----------+------+-------+-----------------+-----------+-------------+--------------+-----------------+---------------+--------------+------------------+---------+\n",
      "|       148|152656|      0|          1086755|      10511|         2151|9adce6a5363308|          1205772|          11202|             2|         US>LA>612|        0|\n",
      "|       148|152140|      0|          1060089|      19032|         1593|9adce6a5363308|          1205772|          11202|             2|         US>LA>612|        0|\n",
      "|       148| 89351|      1|           990613|       7617|         2181|9adce6a5363308|          1205772|          11202|             2|         US>LA>612|        0|\n",
      "|       148|326768|      0|          1379561|      23374|         2348|9adce6a5363308|          1205772|          11202|             2|         US>LA>612|        0|\n",
      "|       463|187292|      0|          1116986|      15430|          769|85d999a1dd5483|          1787133|          34492|             1|         US>SD>764|        0|\n",
      "|       463|221782|      0|           647796|       2236|         1309|85d999a1dd5483|          1787133|          34492|             1|         US>SD>764|        0|\n",
      "|       463|221740|      0|          1343699|      18763|         1309|85d999a1dd5483|          1787133|          34492|             1|         US>SD>764|        0|\n",
      "|       463|240837|      0|           747296|      25854|         1809|85d999a1dd5483|          1787133|          34492|             1|         US>SD>764|        0|\n",
      "|       463|104911|      0|          1158823|      13576|         2028|85d999a1dd5483|          1787133|          34492|             1|         US>SD>764|        0|\n",
      "|       463| 28270|      0|           845272|       4346|         1913|85d999a1dd5483|          1787133|          34492|             1|         US>SD>764|        0|\n",
      "|       463|327114|      0|          1163344|      24078|         1570|85d999a1dd5483|          1787133|          34492|             1|         US>SD>764|        0|\n",
      "|       463|170148|      0|          1368736|      20922|          473|85d999a1dd5483|          1787133|          34492|             1|         US>SD>764|        0|\n",
      "|       463|327054|      0|          1086095|      24079|         1570|85d999a1dd5483|          1787133|          34492|             1|         US>SD>764|        0|\n",
      "|       463| 38813|      1|           910765|       5499|         1419|85d999a1dd5483|          1787133|          34492|             1|         US>SD>764|        0|\n",
      "|       471|198155|      1|          1387840|      22843|         2768|277636b1739ae4|           814331|          34833|             2|         US>DE>504|        0|\n",
      "|       471|164323|      0|          1408591|      20546|         1031|277636b1739ae4|           814331|          34833|             2|         US>DE>504|        0|\n",
      "|       471|173384|      0|           947798|      21238|         2169|277636b1739ae4|           814331|          34833|             2|         US>DE>504|        0|\n",
      "|       471| 22811|      0|           634187|       3549|          557|277636b1739ae4|           814331|          34833|             2|         US>DE>504|        0|\n",
      "|       496| 44460|      0|           944343|       6200|           83|1ebc05d117ee8e|           986872|          36452|             2|             CA>QC|        0|\n",
      "|       496|126703|      0|          1172118|      16224|         1644|1ebc05d117ee8e|           986872|          36452|             2|             CA>QC|        0|\n",
      "+----------+------+-------+-----------------+-----------+-------------+--------------+-----------------+---------------+--------------+------------------+---------+\n",
      "only showing top 20 rows\n",
      "\n"
     ]
    }
   ],
   "source": [
    "clicks_train_joined_df.show()"
   ]
  },
  {
   "cell_type": "code",
   "execution_count": 59,
   "metadata": {},
   "outputs": [
    {
     "data": {
      "text/html": [
       "\n",
       "          <script src=\"/static/components/requirejs/require.js\"></script>\n",
       "          <script>\n",
       "            requirejs.config({\n",
       "              paths: {\n",
       "                base: '/static/base',\n",
       "              },\n",
       "            });\n",
       "          </script>\n",
       "          "
      ],
      "text/plain": [
       "<IPython.core.display.HTML object>"
      ]
     },
     "metadata": {},
     "output_type": "display_data"
    }
   ],
   "source": [
    "validation_display_ids_df = clicks_train_joined_df.select('display_id','day_event').distinct() \\\n",
    "                                .sampleBy(\"day_event\", fractions={0: 0.2, 1: 0.2, 2: 0.2, 3: 0.2, 4: 0.2, \\\n",
    "                                                                5: 0.2, 6: 0.2, 7: 0.2, 8: 0.2, 9: 0.2, 10: 0.2, \\\n",
    "                                                               11: 1.0, 12: 1.0}, seed=0)   \n"
   ]
  },
  {
   "cell_type": "code",
   "execution_count": 60,
   "metadata": {},
   "outputs": [
    {
     "data": {
      "text/html": [
       "\n",
       "          <script src=\"/static/components/requirejs/require.js\"></script>\n",
       "          <script>\n",
       "            requirejs.config({\n",
       "              paths: {\n",
       "                base: '/static/base',\n",
       "              },\n",
       "            });\n",
       "          </script>\n",
       "          "
      ],
      "text/plain": [
       "<IPython.core.display.HTML object>"
      ]
     },
     "metadata": {},
     "output_type": "display_data"
    },
    {
     "name": "stdout",
     "output_type": "stream",
     "text": [
      "(5303867, 2)\n"
     ]
    }
   ],
   "source": [
    "print((validation_display_ids_df.count(), len(validation_display_ids_df.columns)))"
   ]
  },
  {
   "cell_type": "code",
   "execution_count": 61,
   "metadata": {},
   "outputs": [
    {
     "data": {
      "text/html": [
       "\n",
       "          <script src=\"/static/components/requirejs/require.js\"></script>\n",
       "          <script>\n",
       "            requirejs.config({\n",
       "              paths: {\n",
       "                base: '/static/base',\n",
       "              },\n",
       "            });\n",
       "          </script>\n",
       "          "
      ],
      "text/plain": [
       "<IPython.core.display.HTML object>"
      ]
     },
     "metadata": {},
     "output_type": "display_data"
    },
    {
     "name": "stdout",
     "output_type": "stream",
     "text": [
      "+----------+---------+\n",
      "|display_id|day_event|\n",
      "+----------+---------+\n",
      "|      2122|        0|\n",
      "|      2659|        0|\n",
      "|      3794|        0|\n",
      "|      3918|        0|\n",
      "|      5156|        0|\n",
      "|      5518|        0|\n",
      "|      6357|        0|\n",
      "|      6654|        0|\n",
      "|      7240|        0|\n",
      "|      7833|        0|\n",
      "|      8086|        0|\n",
      "|      9427|        0|\n",
      "|      9900|        0|\n",
      "|     10206|        0|\n",
      "|     11317|        0|\n",
      "|     12799|        0|\n",
      "|     13623|        0|\n",
      "|     15846|        0|\n",
      "|     16574|        0|\n",
      "|     17389|        0|\n",
      "+----------+---------+\n",
      "only showing top 20 rows\n",
      "\n"
     ]
    }
   ],
   "source": [
    "validation_display_ids_df.show()"
   ]
  },
  {
   "cell_type": "code",
   "execution_count": 62,
   "metadata": {},
   "outputs": [
    {
     "data": {
      "text/html": [
       "\n",
       "          <script src=\"/static/components/requirejs/require.js\"></script>\n",
       "          <script>\n",
       "            requirejs.config({\n",
       "              paths: {\n",
       "                base: '/static/base',\n",
       "              },\n",
       "            });\n",
       "          </script>\n",
       "          "
      ],
      "text/plain": [
       "<IPython.core.display.HTML object>"
      ]
     },
     "metadata": {},
     "output_type": "display_data"
    },
    {
     "name": "stdout",
     "output_type": "stream",
     "text": [
      "+---------+-------+\n",
      "|day_event|  count|\n",
      "+---------+-------+\n",
      "|       12|1256811|\n",
      "|        1| 257681|\n",
      "|        6| 288947|\n",
      "|        3| 253228|\n",
      "|        5| 224663|\n",
      "|        9| 275181|\n",
      "|        4| 222963|\n",
      "|        8| 275006|\n",
      "|        7| 271356|\n",
      "|       10| 268112|\n",
      "|       11|1153206|\n",
      "|        2| 267407|\n",
      "|        0| 289306|\n",
      "+---------+-------+\n",
      "\n"
     ]
    }
   ],
   "source": [
    "validation_display_ids_df.groupBy('day_event').count().show()"
   ]
  },
  {
   "cell_type": "code",
   "execution_count": 66,
   "metadata": {},
   "outputs": [
    {
     "data": {
      "text/html": [
       "\n",
       "          <script src=\"/static/components/requirejs/require.js\"></script>\n",
       "          <script>\n",
       "            requirejs.config({\n",
       "              paths: {\n",
       "                base: '/static/base',\n",
       "              },\n",
       "            });\n",
       "          </script>\n",
       "          "
      ],
      "text/plain": [
       "<IPython.core.display.HTML object>"
      ]
     },
     "metadata": {},
     "output_type": "display_data"
    }
   ],
   "source": [
    "validation_display_ids_df.createOrReplaceTempView(\"validation_display_ids\") \n",
    "# createOrReplaceTempView는 현재 메모리가 존재하지 않는 테이블의 임시 뷰를 생성했지만, 그 위에 SQL 쿼리를 실행 할 수 있음"
   ]
  },
  {
   "cell_type": "code",
   "execution_count": 67,
   "metadata": {},
   "outputs": [
    {
     "data": {
      "text/html": [
       "\n",
       "          <script src=\"/static/components/requirejs/require.js\"></script>\n",
       "          <script>\n",
       "            requirejs.config({\n",
       "              paths: {\n",
       "                base: '/static/base',\n",
       "              },\n",
       "            });\n",
       "          </script>\n",
       "          "
      ],
      "text/plain": [
       "<IPython.core.display.HTML object>"
      ]
     },
     "metadata": {},
     "output_type": "display_data"
    }
   ],
   "source": [
    "validation_set_df = spark.sql('''SELECT display_id, ad_id, uuid_event, day_event, timestamp_event,\n",
    "                                        document_id_promo, platform_event, geo_location_event FROM clicks_train_joined t\n",
    "             WHERE EXISTS (SELECT display_id FROM validation_display_ids \n",
    "                           WHERE display_id = t.display_id)''')\n",
    "\n",
    "# validation_display_ids_df에 랜덤 추출한 display_id 기준으로 display_id가 일치하는 \n",
    "# clicks_train_joined의 display_id, ad_id, uuid_event, day_event, timestamp_event,document_id_promo, platform_event, geo_location_event를 join 시킴"
   ]
  },
  {
   "cell_type": "code",
   "execution_count": 68,
   "metadata": {},
   "outputs": [
    {
     "data": {
      "text/html": [
       "\n",
       "          <script src=\"/static/components/requirejs/require.js\"></script>\n",
       "          <script>\n",
       "            requirejs.config({\n",
       "              paths: {\n",
       "                base: '/static/base',\n",
       "              },\n",
       "            });\n",
       "          </script>\n",
       "          "
      ],
      "text/plain": [
       "<IPython.core.display.HTML object>"
      ]
     },
     "metadata": {},
     "output_type": "display_data"
    },
    {
     "name": "stdout",
     "output_type": "stream",
     "text": [
      "+----------+------+--------------+---------+---------------+-----------------+--------------+------------------+\n",
      "|display_id| ad_id|    uuid_event|day_event|timestamp_event|document_id_promo|platform_event|geo_location_event|\n",
      "+----------+------+--------------+---------+---------------+-----------------+--------------+------------------+\n",
      "|      2122| 36619|7ceed8e24a87d7|        0|         148795|           899906|             3|             SG>00|\n",
      "|      2122| 81643|7ceed8e24a87d7|        0|         148795|          1094108|             3|             SG>00|\n",
      "|      2122|216100|7ceed8e24a87d7|        0|         148795|          1548042|             3|             SG>00|\n",
      "|      2659| 55819|964e40766c3f39|        0|         185389|           986576|             3|             CA>BC|\n",
      "|      2659| 76816|964e40766c3f39|        0|         185389|           824972|             3|             CA>BC|\n",
      "|      2659| 90013|964e40766c3f39|        0|         185389|          1117722|             3|             CA>BC|\n",
      "|      2659|159076|964e40766c3f39|        0|         185389|          1341303|             3|             CA>BC|\n",
      "|      2659|286731|964e40766c3f39|        0|         185389|          1154602|             3|             CA>BC|\n",
      "|      2659|288344|964e40766c3f39|        0|         185389|          1301965|             3|             CA>BC|\n",
      "|      3794| 89503|73c49852c0ba9b|        0|         259889|          1077953|             2|             NZ>E7|\n",
      "|      3794|137822|73c49852c0ba9b|        0|         259889|          1314233|             2|             NZ>E7|\n",
      "|      3794|167580|73c49852c0ba9b|        0|         259889|          1316178|             2|             NZ>E7|\n",
      "|      3794|193909|73c49852c0ba9b|        0|         259889|          1485929|             2|             NZ>E7|\n",
      "|      3918| 18922|e35479cdd89fc3|        0|         268783|           772362|             2|         US>NC>560|\n",
      "|      3918| 78478|e35479cdd89fc3|        0|         268783|           992255|             2|         US>NC>560|\n",
      "|      3918|137149|e35479cdd89fc3|        0|         268783|          1225363|             2|         US>NC>560|\n",
      "|      3918|304154|e35479cdd89fc3|        0|         268783|          1692948|             2|         US>NC>560|\n",
      "|      5156| 34647|f911d8a5c3771d|        0|         353437|           876151|             2|         US>TX>657|\n",
      "|      5156| 78274|f911d8a5c3771d|        0|         353437|            25191|             2|         US>TX>657|\n",
      "|      5156|347979|f911d8a5c3771d|        0|         353437|          1789385|             2|         US>TX>657|\n",
      "+----------+------+--------------+---------+---------------+-----------------+--------------+------------------+\n",
      "only showing top 20 rows\n",
      "\n"
     ]
    }
   ],
   "source": [
    "validation_set_df.show()"
   ]
  },
  {
   "cell_type": "code",
   "execution_count": 69,
   "metadata": {},
   "outputs": [
    {
     "data": {
      "text/html": [
       "\n",
       "          <script src=\"/static/components/requirejs/require.js\"></script>\n",
       "          <script>\n",
       "            requirejs.config({\n",
       "              paths: {\n",
       "                base: '/static/base',\n",
       "              },\n",
       "            });\n",
       "          </script>\n",
       "          "
      ],
      "text/plain": [
       "<IPython.core.display.HTML object>"
      ]
     },
     "metadata": {},
     "output_type": "display_data"
    },
    {
     "name": "stdout",
     "output_type": "stream",
     "text": [
      "(27380257, 8)\n"
     ]
    }
   ],
   "source": [
    "print((validation_set_df.count(), len(validation_set_df.columns)))"
   ]
  },
  {
   "cell_type": "code",
   "execution_count": 70,
   "metadata": {},
   "outputs": [
    {
     "data": {
      "text/html": [
       "\n",
       "          <script src=\"/static/components/requirejs/require.js\"></script>\n",
       "          <script>\n",
       "            requirejs.config({\n",
       "              paths: {\n",
       "                base: '/static/base',\n",
       "              },\n",
       "            });\n",
       "          </script>\n",
       "          "
      ],
      "text/plain": [
       "<IPython.core.display.HTML object>"
      ]
     },
     "metadata": {},
     "output_type": "display_data"
    }
   ],
   "source": [
    "# GCS 버킷에 validation_set 파케이 형식으로 저장\n",
    "validation_set_gcs_output = \"validation_set.parquet\"\n",
    "validation_set_df.write.parquet(OUTPUT_BUCKET_FOLDER+validation_set_gcs_output, mode='overwrite')"
   ]
  },
  {
   "cell_type": "markdown",
   "metadata": {},
   "source": [
    "* 파케이(Parquet)는 하둡에서 컬럼방식으로 저장 포맷(데이터프레임이 저장되면, 스키마 정보를 유지한 채로 데이터를 저장)\n",
    "* 파케이는 프로그래밍 언어, 데이터 모델, 혹은 데이터 처리 엔진과 독립적으로 엔진과 하둡 생태계에 속한 프로젝트에서 컬럼방식으로 데이터를 효율적으로 저장하여 처리성능을 비약적으로 향상시킴"
   ]
  },
  {
   "cell_type": "code",
   "execution_count": null,
   "metadata": {
    "collapsed": true
   },
   "outputs": [],
   "source": []
  }
 ],
 "metadata": {
  "kernelspec": {
   "display_name": "Python 3",
   "language": "python",
   "name": "python3"
  },
  "language_info": {
   "codemirror_mode": {
    "name": "ipython",
    "version": 3
   },
   "file_extension": ".py",
   "mimetype": "text/x-python",
   "name": "python",
   "nbconvert_exporter": "python",
   "pygments_lexer": "ipython3",
   "version": "3.6.3"
  }
 },
 "nbformat": 4,
 "nbformat_minor": 2
}
