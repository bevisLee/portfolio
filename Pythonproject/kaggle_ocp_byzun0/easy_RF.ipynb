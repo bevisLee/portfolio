{
 "cells": [
  {
   "cell_type": "code",
   "execution_count": 3,
   "metadata": {
    "collapsed": true
   },
   "outputs": [],
   "source": [
    "import numpy as np # linear algebra\n",
    "import pandas as pd # data processing, CSV file I/O (e.g. pd.read_csv)\n",
    "from sklearn.ensemble import RandomForestClassifier"
   ]
  },
  {
   "cell_type": "code",
   "execution_count": 4,
   "metadata": {
    "collapsed": true
   },
   "outputs": [],
   "source": [
    "#59714 is the output length of this full thing!\n",
    "Ntrain,Ntest,Nsub =87141731,32225162,6245533"
   ]
  },
  {
   "cell_type": "code",
   "execution_count": 6,
   "metadata": {},
   "outputs": [
    {
     "name": "stdout",
     "output_type": "stream",
     "text": [
      "Done Training\n"
     ]
    }
   ],
   "source": [
    "chunksize=50000 # Out of 87141731.\n",
    "train = pd.read_csv('E:/kaggle_Outbrain_Click_Prediction/train_doc.csv.gz',iterator=True,chunksize=chunksize) #Load data\n",
    "\n",
    "for chunk in train:\n",
    "    predictors=[x for x in chunk.columns if x not in ['display_id','clicked']]\n",
    "    chunk=chunk.fillna(0.0)\n",
    "    alg = RandomForestClassifier(random_state=1, n_estimators=3, min_samples_split=4, min_samples_leaf=2, warm_start=True)\n",
    "    alg.fit(chunk[predictors], chunk[\"clicked\"])#Fit the Algorithm\n",
    " #   if testing:\n",
    " #       break\n",
    "\n",
    "print('Done Training')"
   ]
  },
  {
   "cell_type": "code",
   "execution_count": 7,
   "metadata": {
    "collapsed": true
   },
   "outputs": [],
   "source": [
    "del(train)"
   ]
  },
  {
   "cell_type": "code",
   "execution_count": 8,
   "metadata": {},
   "outputs": [
    {
     "name": "stdout",
     "output_type": "stream",
     "text": [
      "Done Testing\n"
     ]
    }
   ],
   "source": [
    "test_doc = pd.read_csv('E:/kaggle_Outbrain_Click_Prediction/test_doc.csv.gz',iterator=True,chunksize=chunksize) #Load data\n",
    "predY=[]\n",
    "for chunk in test_doc :\n",
    "    init_chunk_size=len(chunk)\n",
    "    chunk=chunk.fillna(0.0)\n",
    "    chunk_pred=list(alg.predict_proba(chunk[predictors]).astype(float)[:,1])\n",
    "    predY += chunk_pred\n",
    "#    if testing:\n",
    "#    break\n",
    "    \n",
    "print('Done Testing')"
   ]
  },
  {
   "cell_type": "code",
   "execution_count": 12,
   "metadata": {},
   "outputs": [
    {
     "data": {
      "text/plain": [
       "32225162"
      ]
     },
     "execution_count": 12,
     "metadata": {},
     "output_type": "execute_result"
    }
   ],
   "source": [
    "del(test_doc)"
   ]
  },
  {
   "cell_type": "code",
   "execution_count": 20,
   "metadata": {
    "collapsed": true
   },
   "outputs": [],
   "source": [
    "test = pd.read_csv('E:/kaggle_Outbrain_Click_Prediction/clicks_test.csv.zip')"
   ]
  },
  {
   "cell_type": "code",
   "execution_count": 21,
   "metadata": {},
   "outputs": [
    {
     "name": "stdout",
     "output_type": "stream",
     "text": [
      "          0       1         2\n",
      "0  16874594   66758  0.388889\n",
      "1  16874594  150083  0.222222\n",
      "2  16874594  162754  0.222222\n",
      "3  16874594  170392  0.222222\n",
      "4  16874594  172888  0.222222\n",
      "5  16874594  180797  0.500000\n",
      "6  16874595    8846  0.500000\n",
      "7  16874595   30609  0.388889\n",
      "8  16874595  143982  0.288889\n",
      "9  16874596   11430  0.388889\n"
     ]
    }
   ],
   "source": [
    "results=pd.concat((test,pd.DataFrame(predY)) ,axis=1,ignore_index=True)#Combine the predicted values with the ids\n",
    "print(results.head(10))"
   ]
  },
  {
   "cell_type": "code",
   "execution_count": 22,
   "metadata": {},
   "outputs": [
    {
     "name": "stdout",
     "output_type": "stream",
     "text": [
      "display_id\n",
      "16874594             180797 66758 150083 162754 170392 172888\n",
      "16874595                                    8846 30609 143982\n",
      "16874596    11430 57197 132820 288385 289122 289915 153260...\n",
      "16874597    180965 182039 137858 143981 285834 305790 3088...\n",
      "16874598                           67292 250082 145937 335632\n",
      "Name: ad_id, dtype: object\n",
      "(6245533,)\n"
     ]
    }
   ],
   "source": [
    "results.columns = ['display_id','ad_id','clicked']#Rename the columns\n",
    "#results=results[results['clicked'] > 0.0]\n",
    "results = results.sort_values(by=['display_id','clicked'], ascending=[True, False])\n",
    "results = results.reset_index(drop=True)\n",
    "results=results[['display_id','ad_id']].groupby('display_id')['ad_id'].agg(lambda col: ' '.join(map(str,col)))\n",
    "results.columns=[['display_id','ad_id']]\n",
    "\n",
    "print(results.head())\n",
    "print(results.shape)"
   ]
  },
  {
   "cell_type": "code",
   "execution_count": 26,
   "metadata": {},
   "outputs": [],
   "source": [
    "filename = 'E:/kaggle_Outbrain_Click_Prediction/TREE_n10_split4_leaf2_simpleRF'\n",
    "results.to_csv(filename+'.csv', header = True)"
   ]
  },
  {
   "cell_type": "code",
   "execution_count": null,
   "metadata": {
    "collapsed": true
   },
   "outputs": [],
   "source": []
  }
 ],
 "metadata": {
  "kernelspec": {
   "display_name": "Python 3",
   "language": "python",
   "name": "python3"
  },
  "language_info": {
   "codemirror_mode": {
    "name": "ipython",
    "version": 3
   },
   "file_extension": ".py",
   "mimetype": "text/x-python",
   "name": "python",
   "nbconvert_exporter": "python",
   "pygments_lexer": "ipython3",
   "version": "3.6.2"
  }
 },
 "nbformat": 4,
 "nbformat_minor": 2
}
